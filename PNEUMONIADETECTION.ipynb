{
  "nbformat": 4,
  "nbformat_minor": 0,
  "metadata": {
    "colab": {
      "name": "PNEUMONIADETECTION.ipynb",
      "provenance": [],
      "collapsed_sections": [],
      "authorship_tag": "ABX9TyOre/Ug1e03PgYZI87vWcD+",
      "include_colab_link": true
    },
    "kernelspec": {
      "name": "python3",
      "display_name": "Python 3"
    },
    "accelerator": "GPU"
  },
  "cells": [
    {
      "cell_type": "markdown",
      "metadata": {
        "id": "view-in-github",
        "colab_type": "text"
      },
      "source": [
        "<a href=\"https://colab.research.google.com/github/raki7315/Transfer-learning/blob/master/PNEUMONIADETECTION.ipynb\" target=\"_parent\"><img src=\"https://colab.research.google.com/assets/colab-badge.svg\" alt=\"Open In Colab\"/></a>"
      ]
    },
    {
      "cell_type": "markdown",
      "metadata": {
        "id": "stqixD9nvsoE",
        "colab_type": "text"
      },
      "source": [
        "What is **Pneumonia**?\n",
        "lung inflammation caused by bacterial or viral infection, in which the air sacs fill with pus and may become solid. Inflammation may affect both lungs (double pneumonia), one lung (single pneumonia), or only certain lobes (lobar pneumonia)"
      ]
    },
    {
      "cell_type": "markdown",
      "metadata": {
        "id": "5WahsGYfg512",
        "colab_type": "text"
      },
      "source": [
        "**Importing all the neccessary libraries.**"
      ]
    },
    {
      "cell_type": "code",
      "metadata": {
        "id": "UnvyRWrYQ2kt",
        "colab_type": "code",
        "colab": {
          "base_uri": "https://localhost:8080/",
          "height": 70
        },
        "outputId": "16c38a72-e37b-4ef9-e6ea-093a8c826c48"
      },
      "source": [
        "#Importing all the neccessary libraries.\n",
        "import tensorflow as tf\n",
        "import matplotlib.pyplot as plt\n",
        "from tensorflow.keras import models,layers\n",
        "from tensorflow.keras.optimizers import RMSprop\n",
        "import seaborn as sns\n",
        "import os\n",
        "import pathlib\n",
        "from tensorflow.keras.preprocessing.image import ImageDataGenerator,load_img,img_to_array,array_to_img\n",
        "from sklearn.metrics import confusion_matrix,classification_report"
      ],
      "execution_count": null,
      "outputs": [
        {
          "output_type": "stream",
          "text": [
            "/usr/local/lib/python3.6/dist-packages/statsmodels/tools/_testing.py:19: FutureWarning: pandas.util.testing is deprecated. Use the functions in the public API at pandas.testing instead.\n",
            "  import pandas.util.testing as tm\n"
          ],
          "name": "stderr"
        }
      ]
    },
    {
      "cell_type": "markdown",
      "metadata": {
        "id": "4nHIV6-vjaA2",
        "colab_type": "text"
      },
      "source": [
        "I've already downloaded the data from(kaggle)  [here](https://www.kaggle.com/paultimothymooney/chest-xray-pneumonia) and stored in Google drive.\n",
        "I'm accessing the data through drive by mounting on it."
      ]
    },
    {
      "cell_type": "code",
      "metadata": {
        "id": "hCRHDdwiz4QJ",
        "colab_type": "code",
        "colab": {
          "base_uri": "https://localhost:8080/",
          "height": 121
        },
        "outputId": "ef1c1eb0-a0d8-4781-e54f-c93370b9554a"
      },
      "source": [
        "from google.colab import drive\n",
        "drive.mount('/content/drive')"
      ],
      "execution_count": null,
      "outputs": [
        {
          "output_type": "stream",
          "text": [
            "Go to this URL in a browser: https://accounts.google.com/o/oauth2/auth?client_id=947318989803-6bn6qk8qdgf4n4g3pfee6491hc0brc4i.apps.googleusercontent.com&redirect_uri=urn%3aietf%3awg%3aoauth%3a2.0%3aoob&response_type=code&scope=email%20https%3a%2f%2fwww.googleapis.com%2fauth%2fdocs.test%20https%3a%2f%2fwww.googleapis.com%2fauth%2fdrive%20https%3a%2f%2fwww.googleapis.com%2fauth%2fdrive.photos.readonly%20https%3a%2f%2fwww.googleapis.com%2fauth%2fpeopleapi.readonly\n",
            "\n",
            "Enter your authorization code:\n",
            "··········\n",
            "Mounted at /content/drive\n"
          ],
          "name": "stdout"
        }
      ]
    },
    {
      "cell_type": "markdown",
      "metadata": {
        "id": "mhoserZqydyw",
        "colab_type": "text"
      },
      "source": [
        "**Desciption of Pneumonia Dataset**\n",
        "\n",
        "\n",
        "Pneumonia dataset is organized in to 3 folders(**train,val,test**).Each folder consists of two sub-folders namely **NORMAL** and **PNEUMONIA** .Threre are a total of **5863** images(JPEG).All these images were graded by two expert physicians before being cleared for training the AI system."
      ]
    },
    {
      "cell_type": "markdown",
      "metadata": {
        "id": "YcAQdvyekryT",
        "colab_type": "text"
      },
      "source": [
        "## **Loading the Dataset and Preprocessing**"
      ]
    },
    {
      "cell_type": "code",
      "metadata": {
        "id": "TECwuqmQmDEB",
        "colab_type": "code",
        "colab": {
          "base_uri": "https://localhost:8080/",
          "height": 34
        },
        "outputId": "29f5d9ea-d579-4abf-8bd1-f4f383649ea8"
      },
      "source": [
        "#We are using ImageDataGenerator to load and Preprocess the data.\n",
        "#Checking the Given data is balanced or not!!!\n",
        "\n",
        "gen=ImageDataGenerator(rescale=1./255) #Creating a ImageDataGeneratot insatance which normaises(rescle=1./255) the image. \n",
        "\n",
        "train_generator=gen.flow_from_directory('/content/drive/My Drive/datasets/chest_xray/train',\n",
        "                                        class_mode='binary',shuffle=False ) "
      ],
      "execution_count": null,
      "outputs": [
        {
          "output_type": "stream",
          "text": [
            "Found 8555 images belonging to 2 classes.\n"
          ],
          "name": "stdout"
        }
      ]
    },
    {
      "cell_type": "code",
      "metadata": {
        "colab_type": "code",
        "id": "J1naUFLACwJa",
        "colab": {
          "base_uri": "https://localhost:8080/",
          "height": 283
        },
        "outputId": "d2c0b41b-1392-45b8-ae83-e9cdbdadd6a4"
      },
      "source": [
        "x=[]\n",
        "for i in train_generator.labels:\n",
        "  if(i==0):\n",
        "    x.append('NORMAL')    #NORMAL Means people with out PNEUMONIA\n",
        "  else:\n",
        "    x.append('PNUEMONIA')  #People with PNUEMONIA\n",
        "    \n",
        "sns.countplot(x)    #Visualising the proportion of images in each class of training data using seaborn countplot."
      ],
      "execution_count": null,
      "outputs": [
        {
          "output_type": "execute_result",
          "data": {
            "text/plain": [
              "<matplotlib.axes._subplots.AxesSubplot at 0x7fedb264e2e8>"
            ]
          },
          "metadata": {
            "tags": []
          },
          "execution_count": 6
        },
        {
          "output_type": "display_data",
          "data": {
            "image/png": "[encoded data removed]",
            "text/plain": [
              "<Figure size 432x288 with 1 Axes>"
            ]
          },
          "metadata": {
            "tags": [],
            "needs_background": "light"
          }
        }
      ]
    },
    {
      "cell_type": "markdown",
      "metadata": {
        "id": "58YloynHXTYf",
        "colab_type": "text"
      },
      "source": [
        "It seems that the data is **imbalanced**.For a better classifier we need atleast nearly balanced dataset.\n",
        "So we use Data Augmentation to increase the size of the data of the deficit class(Categoty).If we don't balance the data,the classifier would be **biased** to the class that has more data,and predicts the given input towards the biased class.\n",
        "\n",
        "We should makeup the **NORMAL** data to the  **PNUEMONIA** data"
      ]
    },
    {
      "cell_type": "markdown",
      "metadata": {
        "id": "ox_xyuxoYMrD",
        "colab_type": "text"
      },
      "source": [
        "**Balancing the dataset Using the Data Augmentation**"
      ]
    },
    {
      "cell_type": "code",
      "metadata": {
        "id": "sL_jPk4d0mrY",
        "colab_type": "code",
        "colab": {}
      },
      "source": [
        "dir=pathlib.Path('/content/drive/My Drive/datasets/chest_xray/train/NORMAL')\n",
        "\n",
        "#instantiating the path of the train data NORMAL directory"
      ],
      "execution_count": null,
      "outputs": []
    },
    {
      "cell_type": "code",
      "metadata": {
        "colab_type": "code",
        "id": "zOslQavCut1g",
        "colab": {
          "base_uri": "https://localhost:8080/",
          "height": 1000
        },
        "outputId": "196735e7-acb9-43c9-f75c-9b0a28354842"
      },
      "source": [
        "count=0\n",
        "for i in dir.iterdir():            #iterating through the directory and printing and all the paths and it's count(nothing but no.of images)\n",
        "  count=count+1\n",
        "  print(i)\n",
        "print(count)"
      ],
      "execution_count": null,
      "outputs": [
        {
          "output_type": "stream",
          "text": [
            "/content/drive/My Drive/datasets/chest_xray/train/NORMAL/IM-0523-0001-0001.jpeg\n",
            "/content/drive/My Drive/datasets/chest_xray/train/NORMAL/IM-0523-0001-0002.jpeg\n",
            "/content/drive/My Drive/datasets/chest_xray/train/NORMAL/IM-0524-0001.jpeg\n",
            "/content/drive/My Drive/datasets/chest_xray/train/NORMAL/IM-0525-0001-0001.jpeg\n",
            "/content/drive/My Drive/datasets/chest_xray/train/NORMAL/IM-0509-0001-0001.jpeg\n",
            "/content/drive/My Drive/datasets/chest_xray/train/NORMAL/IM-0513-0001.jpeg\n",
            "/content/drive/My Drive/datasets/chest_xray/train/NORMAL/IM-0519-0001-0001.jpeg\n",
            "/content/drive/My Drive/datasets/chest_xray/train/NORMAL/IM-0525-0001-0002.jpeg\n",
            "/content/drive/My Drive/datasets/chest_xray/train/NORMAL/IM-0509-0001-0002.jpeg\n",
            "/content/drive/My Drive/datasets/chest_xray/train/NORMAL/IM-0529-0001.jpeg\n",
            "/content/drive/My Drive/datasets/chest_xray/train/NORMAL/IM-0545-0001.jpeg\n",
            "/content/drive/My Drive/datasets/chest_xray/train/NORMAL/IM-0553-0001-0002.jpeg\n",
            "/content/drive/My Drive/datasets/chest_xray/train/NORMAL/IM-0538-0001.jpeg\n",
            "/content/drive/My Drive/datasets/chest_xray/train/NORMAL/IM-0539-0001-0001.jpeg\n",
            "/content/drive/My Drive/datasets/chest_xray/train/NORMAL/IM-0537-0001.jpeg\n",
            "/content/drive/My Drive/datasets/chest_xray/train/NORMAL/IM-0541-0001.jpeg\n",
            "/content/drive/My Drive/datasets/chest_xray/train/NORMAL/IM-0545-0001-0001.jpeg\n",
            "/content/drive/My Drive/datasets/chest_xray/train/NORMAL/IM-0539-0001-0002.jpeg\n",
            "/content/drive/My Drive/datasets/chest_xray/train/NORMAL/IM-0531-0001.jpeg\n",
            "/content/drive/My Drive/datasets/chest_xray/train/NORMAL/IM-0548-0001.jpeg\n",
            "/content/drive/My Drive/datasets/chest_xray/train/NORMAL/IM-0540-0001.jpeg\n",
            "/content/drive/My Drive/datasets/chest_xray/train/NORMAL/IM-0551-0001-0002.jpeg\n",
            "/content/drive/My Drive/datasets/chest_xray/train/NORMAL/IM-0552-0001.jpeg\n",
            "/content/drive/My Drive/datasets/chest_xray/train/NORMAL/IM-0551-0001-0001.jpeg\n",
            "/content/drive/My Drive/datasets/chest_xray/train/NORMAL/IM-0535-0001.jpeg\n",
            "/content/drive/My Drive/datasets/chest_xray/train/NORMAL/IM-0533-0001.jpeg\n",
            "/content/drive/My Drive/datasets/chest_xray/train/NORMAL/IM-0551-0001.jpeg\n",
            "/content/drive/My Drive/datasets/chest_xray/train/NORMAL/IM-0545-0001-0002.jpeg\n",
            "/content/drive/My Drive/datasets/chest_xray/train/NORMAL/IM-0542-0001.jpeg\n",
            "/content/drive/My Drive/datasets/chest_xray/train/NORMAL/IM-0539-0001.jpeg\n",
            "/content/drive/My Drive/datasets/chest_xray/train/NORMAL/IM-0549-0001.jpeg\n",
            "/content/drive/My Drive/datasets/chest_xray/train/NORMAL/IM-0533-0001-0002.jpeg\n",
            "/content/drive/My Drive/datasets/chest_xray/train/NORMAL/IM-0544-0001.jpeg\n",
            "/content/drive/My Drive/datasets/chest_xray/train/NORMAL/IM-0549-0001-0001.jpeg\n",
            "/content/drive/My Drive/datasets/chest_xray/train/NORMAL/IM-0532-0001.jpeg\n",
            "/content/drive/My Drive/datasets/chest_xray/train/NORMAL/IM-0553-0001-0001.jpeg\n",
            "/content/drive/My Drive/datasets/chest_xray/train/NORMAL/IM-0543-0001-0002.jpeg\n",
            "/content/drive/My Drive/datasets/chest_xray/train/NORMAL/IM-0543-0001.jpeg\n",
            "/content/drive/My Drive/datasets/chest_xray/train/NORMAL/IM-0549-0001-0002.jpeg\n",
            "/content/drive/My Drive/datasets/chest_xray/train/NORMAL/IM-0534-0001.jpeg\n",
            "/content/drive/My Drive/datasets/chest_xray/train/NORMAL/IM-0533-0001-0001.jpeg\n",
            "/content/drive/My Drive/datasets/chest_xray/train/NORMAL/IM-0547-0001.jpeg\n",
            "/content/drive/My Drive/datasets/chest_xray/train/NORMAL/IM-0536-0001.jpeg\n",
            "/content/drive/My Drive/datasets/chest_xray/train/NORMAL/IM-0546-0001.jpeg\n",
            "/content/drive/My Drive/datasets/chest_xray/train/NORMAL/IM-0555-0001-0002.jpeg\n",
            "/content/drive/My Drive/datasets/chest_xray/train/NORMAL/IM-0571-0001.jpeg\n",
            "/content/drive/My Drive/datasets/chest_xray/train/NORMAL/IM-0580-0001.jpeg\n",
            "/content/drive/My Drive/datasets/chest_xray/train/NORMAL/IM-0581-0001.jpeg\n",
            "/content/drive/My Drive/datasets/chest_xray/train/NORMAL/IM-0553-0001.jpeg\n",
            "/content/drive/My Drive/datasets/chest_xray/train/NORMAL/IM-0565-0001.jpeg\n",
            "/content/drive/My Drive/datasets/chest_xray/train/NORMAL/IM-0582-0001.jpeg\n",
            "/content/drive/My Drive/datasets/chest_xray/train/NORMAL/IM-0556-0001.jpeg\n",
            "/content/drive/My Drive/datasets/chest_xray/train/NORMAL/IM-0579-0001.jpeg\n",
            "/content/drive/My Drive/datasets/chest_xray/train/NORMAL/IM-0569-0001.jpeg\n",
            "/content/drive/My Drive/datasets/chest_xray/train/NORMAL/IM-0553-0001-0003.jpeg\n",
            "/content/drive/My Drive/datasets/chest_xray/train/NORMAL/IM-0555-0001-0001.jpeg\n",
            "/content/drive/My Drive/datasets/chest_xray/train/NORMAL/IM-0578-0001.jpeg\n",
            "/content/drive/My Drive/datasets/chest_xray/train/NORMAL/IM-0560-0001.jpeg\n",
            "/content/drive/My Drive/datasets/chest_xray/train/NORMAL/IM-0568-0001.jpeg\n",
            "/content/drive/My Drive/datasets/chest_xray/train/NORMAL/IM-0561-0001.jpeg\n",
            "/content/drive/My Drive/datasets/chest_xray/train/NORMAL/IM-0555-0001.jpeg\n",
            "/content/drive/My Drive/datasets/chest_xray/train/NORMAL/IM-0554-0001.jpeg\n",
            "/content/drive/My Drive/datasets/chest_xray/train/NORMAL/IM-0563-0001.jpeg\n",
            "/content/drive/My Drive/datasets/chest_xray/train/NORMAL/IM-0570-0001.jpeg\n",
            "/content/drive/My Drive/datasets/chest_xray/train/NORMAL/IM-0562-0001.jpeg\n",
            "/content/drive/My Drive/datasets/chest_xray/train/NORMAL/IM-0564-0001.jpeg\n",
            "/content/drive/My Drive/datasets/chest_xray/train/NORMAL/IM-0577-0001.jpeg\n",
            "/content/drive/My Drive/datasets/chest_xray/train/NORMAL/IM-0566-0001.jpeg\n",
            "/content/drive/My Drive/datasets/chest_xray/train/NORMAL/IM-0557-0001.jpeg\n",
            "/content/drive/My Drive/datasets/chest_xray/train/NORMAL/IM-0559-0001.jpeg\n",
            "/content/drive/My Drive/datasets/chest_xray/train/NORMAL/IM-0574-0001.jpeg\n",
            "/content/drive/My Drive/datasets/chest_xray/train/NORMAL/IM-0575-0001.jpeg\n",
            "/content/drive/My Drive/datasets/chest_xray/train/NORMAL/IM-0619-0001.jpeg\n",
            "/content/drive/My Drive/datasets/chest_xray/train/NORMAL/IM-0591-0001.jpeg\n",
            "/content/drive/My Drive/datasets/chest_xray/train/NORMAL/IM-0608-0001-0002.jpeg\n",
            "/content/drive/My Drive/datasets/chest_xray/train/NORMAL/IM-0583-0001.jpeg\n",
            "/content/drive/My Drive/datasets/chest_xray/train/NORMAL/IM-0586-0001.jpeg\n",
            "/content/drive/My Drive/datasets/chest_xray/train/NORMAL/IM-0590-0001.jpeg\n",
            "/content/drive/My Drive/datasets/chest_xray/train/NORMAL/IM-0618-0001-0001.jpeg\n",
            "/content/drive/My Drive/datasets/chest_xray/train/NORMAL/IM-0612-0001-0002.jpeg\n",
            "/content/drive/My Drive/datasets/chest_xray/train/NORMAL/IM-0593-0001.jpeg\n",
            "/content/drive/My Drive/datasets/chest_xray/train/NORMAL/IM-0608-0001-0001.jpeg\n",
            "/content/drive/My Drive/datasets/chest_xray/train/NORMAL/IM-0604-0001.jpeg\n",
            "/content/drive/My Drive/datasets/chest_xray/train/NORMAL/IM-0599-0001.jpeg\n",
            "/content/drive/My Drive/datasets/chest_xray/train/NORMAL/IM-0614-0001.jpeg\n",
            "/content/drive/My Drive/datasets/chest_xray/train/NORMAL/IM-0602-0001.jpeg\n",
            "/content/drive/My Drive/datasets/chest_xray/train/NORMAL/IM-0613-0001.jpeg\n",
            "/content/drive/My Drive/datasets/chest_xray/train/NORMAL/IM-0606-0001.jpeg\n",
            "/content/drive/My Drive/datasets/chest_xray/train/NORMAL/IM-0596-0001.jpeg\n",
            "/content/drive/My Drive/datasets/chest_xray/train/NORMAL/IM-0592-0001.jpeg\n",
            "/content/drive/My Drive/datasets/chest_xray/train/NORMAL/IM-0617-0001.jpeg\n",
            "/content/drive/My Drive/datasets/chest_xray/train/NORMAL/IM-0595-0001.jpeg\n",
            "/content/drive/My Drive/datasets/chest_xray/train/NORMAL/IM-0620-0001-0001.jpeg\n",
            "/content/drive/My Drive/datasets/chest_xray/train/NORMAL/IM-0618-0001.jpeg\n",
            "/content/drive/My Drive/datasets/chest_xray/train/NORMAL/IM-0615-0001.jpeg\n",
            "/content/drive/My Drive/datasets/chest_xray/train/NORMAL/IM-0612-0001-0001.jpeg\n",
            "/content/drive/My Drive/datasets/chest_xray/train/NORMAL/IM-0598-0001.jpeg\n",
            "/content/drive/My Drive/datasets/chest_xray/train/NORMAL/IM-0607-0001.jpeg\n",
            "/content/drive/My Drive/datasets/chest_xray/train/NORMAL/IM-0601-0001.jpeg\n",
            "/content/drive/My Drive/datasets/chest_xray/train/NORMAL/IM-0612-0001.jpeg\n",
            "/content/drive/My Drive/datasets/chest_xray/train/NORMAL/IM-0608-0001.jpeg\n",
            "/content/drive/My Drive/datasets/chest_xray/train/NORMAL/IM-0616-0001.jpeg\n",
            "/content/drive/My Drive/datasets/chest_xray/train/NORMAL/IM-0605-0001.jpeg\n",
            "/content/drive/My Drive/datasets/chest_xray/train/NORMAL/IM-0618-0001-0002.jpeg\n",
            "/content/drive/My Drive/datasets/chest_xray/train/NORMAL/IM-0588-0001.jpeg\n",
            "/content/drive/My Drive/datasets/chest_xray/train/NORMAL/IM-0600-0001.jpeg\n",
            "/content/drive/My Drive/datasets/chest_xray/train/NORMAL/IM-0609-0001.jpeg\n",
            "/content/drive/My Drive/datasets/chest_xray/train/NORMAL/IM-0584-0001.jpeg\n",
            "/content/drive/My Drive/datasets/chest_xray/train/NORMAL/IM-0630-0001.jpeg\n",
            "/content/drive/My Drive/datasets/chest_xray/train/NORMAL/IM-0627-0001.jpeg\n",
            "/content/drive/My Drive/datasets/chest_xray/train/NORMAL/IM-0625-0001.jpeg\n",
            "/content/drive/My Drive/datasets/chest_xray/train/NORMAL/IM-0621-0001.jpeg\n",
            "/content/drive/My Drive/datasets/chest_xray/train/NORMAL/IM-0623-0001.jpeg\n",
            "/content/drive/My Drive/datasets/chest_xray/train/NORMAL/IM-0640-0001.jpeg\n",
            "/content/drive/My Drive/datasets/chest_xray/train/NORMAL/IM-0622-0001-0001.jpeg\n",
            "/content/drive/My Drive/datasets/chest_xray/train/NORMAL/IM-0622-0001.jpeg\n",
            "/content/drive/My Drive/datasets/chest_xray/train/NORMAL/IM-0629-0001.jpeg\n",
            "/content/drive/My Drive/datasets/chest_xray/train/NORMAL/IM-0644-0001.jpeg\n",
            "/content/drive/My Drive/datasets/chest_xray/train/NORMAL/IM-0637-0001.jpeg\n",
            "/content/drive/My Drive/datasets/chest_xray/train/NORMAL/IM-0633-0001.jpeg\n",
            "/content/drive/My Drive/datasets/chest_xray/train/NORMAL/IM-0631-0001-0002.jpeg\n",
            "/content/drive/My Drive/datasets/chest_xray/train/NORMAL/IM-0640-0001-0002.jpeg\n",
            "/content/drive/My Drive/datasets/chest_xray/train/NORMAL/IM-0624-0001-0002.jpeg\n",
            "/content/drive/My Drive/datasets/chest_xray/train/NORMAL/IM-0643-0001.jpeg\n",
            "/content/drive/My Drive/datasets/chest_xray/train/NORMAL/IM-0628-0001.jpeg\n",
            "/content/drive/My Drive/datasets/chest_xray/train/NORMAL/IM-0641-0001.jpeg\n",
            "/content/drive/My Drive/datasets/chest_xray/train/NORMAL/IM-0635-0001.jpeg\n",
            "/content/drive/My Drive/datasets/chest_xray/train/NORMAL/IM-0620-0001.jpeg\n",
            "/content/drive/My Drive/datasets/chest_xray/train/NORMAL/IM-0636-0001.jpeg\n",
            "/content/drive/My Drive/datasets/chest_xray/train/NORMAL/IM-0626-0001-0002.jpeg\n",
            "/content/drive/My Drive/datasets/chest_xray/train/NORMAL/IM-0622-0001-0002.jpeg\n",
            "/content/drive/My Drive/datasets/chest_xray/train/NORMAL/IM-0631-0001-0001.jpeg\n",
            "/content/drive/My Drive/datasets/chest_xray/train/NORMAL/IM-0624-0001.jpeg\n",
            "/content/drive/My Drive/datasets/chest_xray/train/NORMAL/IM-0626-0001-0001.jpeg\n",
            "/content/drive/My Drive/datasets/chest_xray/train/NORMAL/IM-0644-0001-0002.jpeg\n",
            "/content/drive/My Drive/datasets/chest_xray/train/NORMAL/IM-0632-0001.jpeg\n",
            "/content/drive/My Drive/datasets/chest_xray/train/NORMAL/IM-0631-0001.jpeg\n",
            "/content/drive/My Drive/datasets/chest_xray/train/NORMAL/IM-0642-0001.jpeg\n",
            "/content/drive/My Drive/datasets/chest_xray/train/NORMAL/IM-0629-0001-0002.jpeg\n",
            "/content/drive/My Drive/datasets/chest_xray/train/NORMAL/IM-0640-0001-0001.jpeg\n",
            "/content/drive/My Drive/datasets/chest_xray/train/NORMAL/IM-0620-0001-0002.jpeg\n",
            "/content/drive/My Drive/datasets/chest_xray/train/NORMAL/IM-0629-0001-0003.jpeg\n",
            "/content/drive/My Drive/datasets/chest_xray/train/NORMAL/IM-0629-0001-0001.jpeg\n",
            "/content/drive/My Drive/datasets/chest_xray/train/NORMAL/IM-0644-0001-0001.jpeg\n",
            "/content/drive/My Drive/datasets/chest_xray/train/NORMAL/IM-0634-0001.jpeg\n",
            "/content/drive/My Drive/datasets/chest_xray/train/NORMAL/IM-0652-0001-0002.jpeg\n",
            "/content/drive/My Drive/datasets/chest_xray/train/NORMAL/IM-0666-0001-0001.jpeg\n",
            "/content/drive/My Drive/datasets/chest_xray/train/NORMAL/IM-0651-0001.jpeg\n",
            "/content/drive/My Drive/datasets/chest_xray/train/NORMAL/IM-0650-0001-0002.jpeg\n",
            "/content/drive/My Drive/datasets/chest_xray/train/NORMAL/IM-0656-0001-0002.jpeg\n",
            "/content/drive/My Drive/datasets/chest_xray/train/NORMAL/IM-0661-0001.jpeg\n",
            "/content/drive/My Drive/datasets/chest_xray/train/NORMAL/IM-0666-0001.jpeg\n",
            "/content/drive/My Drive/datasets/chest_xray/train/NORMAL/IM-0670-0001.jpeg\n",
            "/content/drive/My Drive/datasets/chest_xray/train/NORMAL/IM-0656-0001-0001.jpeg\n",
            "/content/drive/My Drive/datasets/chest_xray/train/NORMAL/IM-0667-0001.jpeg\n",
            "/content/drive/My Drive/datasets/chest_xray/train/NORMAL/IM-0645-0001.jpeg\n",
            "/content/drive/My Drive/datasets/chest_xray/train/NORMAL/IM-0664-0001.jpeg\n",
            "/content/drive/My Drive/datasets/chest_xray/train/NORMAL/IM-0663-0001.jpeg\n",
            "/content/drive/My Drive/datasets/chest_xray/train/NORMAL/IM-0660-0001-0002.jpeg\n",
            "/content/drive/My Drive/datasets/chest_xray/train/NORMAL/IM-0654-0001.jpeg\n",
            "/content/drive/My Drive/datasets/chest_xray/train/NORMAL/IM-0647-0001.jpeg\n",
            "/content/drive/My Drive/datasets/chest_xray/train/NORMAL/IM-0657-0001.jpeg\n",
            "/content/drive/My Drive/datasets/chest_xray/train/NORMAL/IM-0655-0001.jpeg\n",
            "/content/drive/My Drive/datasets/chest_xray/train/NORMAL/IM-0658-0001.jpeg\n",
            "/content/drive/My Drive/datasets/chest_xray/train/NORMAL/IM-0659-0001.jpeg\n",
            "/content/drive/My Drive/datasets/chest_xray/train/NORMAL/IM-0665-0001.jpeg\n",
            "/content/drive/My Drive/datasets/chest_xray/train/NORMAL/IM-0668-0001.jpeg\n",
            "/content/drive/My Drive/datasets/chest_xray/train/NORMAL/IM-0666-0001-0002.jpeg\n",
            "/content/drive/My Drive/datasets/chest_xray/train/NORMAL/IM-0660-0001.jpeg\n",
            "/content/drive/My Drive/datasets/chest_xray/train/NORMAL/IM-0660-0001-0001.jpeg\n",
            "/content/drive/My Drive/datasets/chest_xray/train/NORMAL/IM-0646-0001.jpeg\n",
            "/content/drive/My Drive/datasets/chest_xray/train/NORMAL/IM-0648-0001.jpeg\n",
            "/content/drive/My Drive/datasets/chest_xray/train/NORMAL/IM-0662-0001.jpeg\n",
            "/content/drive/My Drive/datasets/chest_xray/train/NORMAL/IM-0652-0001.jpeg\n",
            "/content/drive/My Drive/datasets/chest_xray/train/NORMAL/IM-0650-0001-0001.jpeg\n",
            "/content/drive/My Drive/datasets/chest_xray/train/NORMAL/IM-0650-0001.jpeg\n",
            "/content/drive/My Drive/datasets/chest_xray/train/NORMAL/IM-0656-0001.jpeg\n",
            "/content/drive/My Drive/datasets/chest_xray/train/NORMAL/IM-0669-0001.jpeg\n",
            "/content/drive/My Drive/datasets/chest_xray/train/NORMAL/IM-0649-0001.jpeg\n",
            "/content/drive/My Drive/datasets/chest_xray/train/NORMAL/IM-0682-0001.jpeg\n",
            "/content/drive/My Drive/datasets/chest_xray/train/NORMAL/IM-0698-0001.jpeg\n",
            "/content/drive/My Drive/datasets/chest_xray/train/NORMAL/IM-0675-0001.jpeg\n",
            "/content/drive/My Drive/datasets/chest_xray/train/NORMAL/IM-0676-0001.jpeg\n",
            "/content/drive/My Drive/datasets/chest_xray/train/NORMAL/IM-0692-0001.jpeg\n",
            "/content/drive/My Drive/datasets/chest_xray/train/NORMAL/IM-0681-0001.jpeg\n",
            "/content/drive/My Drive/datasets/chest_xray/train/NORMAL/IM-0683-0001.jpeg\n",
            "/content/drive/My Drive/datasets/chest_xray/train/NORMAL/IM-0677-0001.jpeg\n",
            "/content/drive/My Drive/datasets/chest_xray/train/NORMAL/IM-0687-0001.jpeg\n",
            "/content/drive/My Drive/datasets/chest_xray/train/NORMAL/IM-0694-0001.jpeg\n",
            "/content/drive/My Drive/datasets/chest_xray/train/NORMAL/IM-0703-0001.jpeg\n",
            "/content/drive/My Drive/datasets/chest_xray/train/NORMAL/IM-0693-0001.jpeg\n",
            "/content/drive/My Drive/datasets/chest_xray/train/NORMAL/IM-0701-0001.jpeg\n",
            "/content/drive/My Drive/datasets/chest_xray/train/NORMAL/IM-0702-0001.jpeg\n",
            "/content/drive/My Drive/datasets/chest_xray/train/NORMAL/IM-0705-0001.jpeg\n",
            "/content/drive/My Drive/datasets/chest_xray/train/NORMAL/IM-0678-0001.jpeg\n",
            "/content/drive/My Drive/datasets/chest_xray/train/NORMAL/IM-0679-0001.jpeg\n",
            "/content/drive/My Drive/datasets/chest_xray/train/NORMAL/IM-0671-0001.jpeg\n",
            "/content/drive/My Drive/datasets/chest_xray/train/NORMAL/IM-0685-0001.jpeg\n",
            "/content/drive/My Drive/datasets/chest_xray/train/NORMAL/IM-0688-0001.jpeg\n",
            "/content/drive/My Drive/datasets/chest_xray/train/NORMAL/IM-0704-0001.jpeg\n",
            "/content/drive/My Drive/datasets/chest_xray/train/NORMAL/IM-0684-0001.jpeg\n",
            "/content/drive/My Drive/datasets/chest_xray/train/NORMAL/IM-0700-0001.jpeg\n",
            "/content/drive/My Drive/datasets/chest_xray/train/NORMAL/IM-0691-0001.jpeg\n",
            "/content/drive/My Drive/datasets/chest_xray/train/NORMAL/IM-0673-0001.jpeg\n",
            "/content/drive/My Drive/datasets/chest_xray/train/NORMAL/IM-0680-0001.jpeg\n",
            "/content/drive/My Drive/datasets/chest_xray/train/NORMAL/IM-0689-0001.jpeg\n",
            "/content/drive/My Drive/datasets/chest_xray/train/NORMAL/IM-0697-0001.jpeg\n",
            "/content/drive/My Drive/datasets/chest_xray/train/NORMAL/IM-0696-0001.jpeg\n",
            "/content/drive/My Drive/datasets/chest_xray/train/NORMAL/IM-0686-0001.jpeg\n",
            "/content/drive/My Drive/datasets/chest_xray/train/NORMAL/IM-0674-0001.jpeg\n",
            "/content/drive/My Drive/datasets/chest_xray/train/NORMAL/IM-0672-0001.jpeg\n",
            "/content/drive/My Drive/datasets/chest_xray/train/NORMAL/IM-0695-0001.jpeg\n",
            "/content/drive/My Drive/datasets/chest_xray/train/NORMAL/IM-0716-0001.jpeg\n",
            "/content/drive/My Drive/datasets/chest_xray/train/NORMAL/IM-0754-0001.jpeg\n",
            "/content/drive/My Drive/datasets/chest_xray/train/NORMAL/IM-0738-0001.jpeg\n",
            "/content/drive/My Drive/datasets/chest_xray/train/NORMAL/IM-0718-0001.jpeg\n",
            "/content/drive/My Drive/datasets/chest_xray/train/NORMAL/IM-0748-0001.jpeg\n",
            "/content/drive/My Drive/datasets/chest_xray/train/NORMAL/IM-0721-0001.jpeg\n",
            "/content/drive/My Drive/datasets/chest_xray/train/NORMAL/IM-0729-0001.jpeg\n",
            "/content/drive/My Drive/datasets/chest_xray/train/NORMAL/IM-0710-0001.jpeg\n",
            "/content/drive/My Drive/datasets/chest_xray/train/NORMAL/IM-0717-0001.jpeg\n",
            "/content/drive/My Drive/datasets/chest_xray/train/NORMAL/IM-0715-0001.jpeg\n",
            "/content/drive/My Drive/datasets/chest_xray/train/NORMAL/IM-0739-0001.jpeg\n",
            "/content/drive/My Drive/datasets/chest_xray/train/NORMAL/IM-0712-0001.jpeg\n",
            "/content/drive/My Drive/datasets/chest_xray/train/NORMAL/IM-0727-0001.jpeg\n",
            "/content/drive/My Drive/datasets/chest_xray/train/NORMAL/IM-0728-0001.jpeg\n",
            "/content/drive/My Drive/datasets/chest_xray/train/NORMAL/IM-0734-0001.jpeg\n",
            "/content/drive/My Drive/datasets/chest_xray/train/NORMAL/IM-0736-0001.jpeg\n",
            "/content/drive/My Drive/datasets/chest_xray/train/NORMAL/IM-0719-0001.jpeg\n",
            "/content/drive/My Drive/datasets/chest_xray/train/NORMAL/IM-0735-0001.jpeg\n",
            "/content/drive/My Drive/datasets/chest_xray/train/NORMAL/IM-0742-0001.jpeg\n",
            "/content/drive/My Drive/datasets/chest_xray/train/NORMAL/IM-0732-0001.jpeg\n",
            "/content/drive/My Drive/datasets/chest_xray/train/NORMAL/IM-0740-0001.jpeg\n",
            "/content/drive/My Drive/datasets/chest_xray/train/NORMAL/IM-0707-0001.jpeg\n",
            "/content/drive/My Drive/datasets/chest_xray/train/NORMAL/IM-0711-0001.jpeg\n",
            "/content/drive/My Drive/datasets/chest_xray/train/NORMAL/IM-0752-0001.jpeg\n",
            "/content/drive/My Drive/datasets/chest_xray/train/NORMAL/IM-0714-0001.jpeg\n",
            "/content/drive/My Drive/datasets/chest_xray/train/NORMAL/IM-0730-0001.jpeg\n",
            "/content/drive/My Drive/datasets/chest_xray/train/NORMAL/IM-0722-0001.jpeg\n",
            "/content/drive/My Drive/datasets/chest_xray/train/NORMAL/IM-0709-0001.jpeg\n",
            "/content/drive/My Drive/datasets/chest_xray/train/NORMAL/IM-0706-0001.jpeg\n",
            "/content/drive/My Drive/datasets/chest_xray/train/NORMAL/IM-0747-0001.jpeg\n",
            "/content/drive/My Drive/datasets/chest_xray/train/NORMAL/IM-0737-0001.jpeg\n",
            "/content/drive/My Drive/datasets/chest_xray/train/NORMAL/IM-0713-0001.jpeg\n",
            "/content/drive/My Drive/datasets/chest_xray/train/NORMAL/IM-0724-0001.jpeg\n",
            "/content/drive/My Drive/datasets/chest_xray/train/NORMAL/IM-0750-0001.jpeg\n",
            "/content/drive/My Drive/datasets/chest_xray/train/NORMAL/IM-0751-0001.jpeg\n",
            "/content/drive/My Drive/datasets/chest_xray/train/NORMAL/IM-0733-0001.jpeg\n",
            "/content/drive/My Drive/datasets/chest_xray/train/NORMAL/IM-0746-0001.jpeg\n",
            "/content/drive/My Drive/datasets/chest_xray/train/NORMAL/IM-0741-0001.jpeg\n",
            "/content/drive/My Drive/datasets/chest_xray/train/NORMAL/IM-0753-0001.jpeg\n",
            "/content/drive/My Drive/datasets/chest_xray/train/NORMAL/NORMAL2-IM-0399-0001.jpeg\n",
            "/content/drive/My Drive/datasets/chest_xray/train/NORMAL/NORMAL2-IM-0383-0001.jpeg\n",
            "/content/drive/My Drive/datasets/chest_xray/train/NORMAL/NORMAL2-IM-0395-0001.jpeg\n",
            "/content/drive/My Drive/datasets/chest_xray/train/NORMAL/NORMAL2-IM-0409-0001.jpeg\n",
            "/content/drive/My Drive/datasets/chest_xray/train/NORMAL/NORMAL2-IM-0390-0001.jpeg\n",
            "/content/drive/My Drive/datasets/chest_xray/train/NORMAL/IM-0755-0001.jpeg\n",
            "/content/drive/My Drive/datasets/chest_xray/train/NORMAL/NORMAL2-IM-0406-0001.jpeg\n",
            "/content/drive/My Drive/datasets/chest_xray/train/NORMAL/NORMAL2-IM-0396-0001.jpeg\n",
            "/content/drive/My Drive/datasets/chest_xray/train/NORMAL/NORMAL2-IM-0402-0001.jpeg\n",
            "/content/drive/My Drive/datasets/chest_xray/train/NORMAL/NORMAL2-IM-0386-0001.jpeg\n",
            "/content/drive/My Drive/datasets/chest_xray/train/NORMAL/NORMAL2-IM-0415-0001.jpeg\n",
            "/content/drive/My Drive/datasets/chest_xray/train/NORMAL/IM-0766-0001.jpeg\n",
            "/content/drive/My Drive/datasets/chest_xray/train/NORMAL/NORMAL2-IM-0408-0001.jpeg\n",
            "/content/drive/My Drive/datasets/chest_xray/train/NORMAL/NORMAL2-IM-0403-0001.jpeg\n",
            "/content/drive/My Drive/datasets/chest_xray/train/NORMAL/NORMAL2-IM-0393-0001.jpeg\n",
            "/content/drive/My Drive/datasets/chest_xray/train/NORMAL/NORMAL2-IM-0404-0001.jpeg\n",
            "/content/drive/My Drive/datasets/chest_xray/train/NORMAL/NORMAL2-IM-0384-0001.jpeg\n",
            "/content/drive/My Drive/datasets/chest_xray/train/NORMAL/NORMAL2-IM-0410-0001.jpeg\n",
            "/content/drive/My Drive/datasets/chest_xray/train/NORMAL/NORMAL2-IM-0388-0001.jpeg\n",
            "/content/drive/My Drive/datasets/chest_xray/train/NORMAL/NORMAL2-IM-0392-0001.jpeg\n",
            "/content/drive/My Drive/datasets/chest_xray/train/NORMAL/NORMAL2-IM-0385-0001.jpeg\n",
            "/content/drive/My Drive/datasets/chest_xray/train/NORMAL/NORMAL2-IM-0401-0001.jpeg\n",
            "/content/drive/My Drive/datasets/chest_xray/train/NORMAL/NORMAL2-IM-0391-0001.jpeg\n",
            "/content/drive/My Drive/datasets/chest_xray/train/NORMAL/NORMAL2-IM-0407-0001.jpeg\n",
            "/content/drive/My Drive/datasets/chest_xray/train/NORMAL/NORMAL2-IM-0395-0001-0002.jpeg\n",
            "/content/drive/My Drive/datasets/chest_xray/train/NORMAL/NORMAL2-IM-0416-0001-0001.jpeg\n",
            "/content/drive/My Drive/datasets/chest_xray/train/NORMAL/IM-0761-0001.jpeg\n",
            "/content/drive/My Drive/datasets/chest_xray/train/NORMAL/IM-0764-0001.jpeg\n",
            "/content/drive/My Drive/datasets/chest_xray/train/NORMAL/NORMAL2-IM-0389-0001.jpeg\n",
            "/content/drive/My Drive/datasets/chest_xray/train/NORMAL/NORMAL2-IM-0395-0001-0001.jpeg\n",
            "/content/drive/My Drive/datasets/chest_xray/train/NORMAL/NORMAL2-IM-0413-0001.jpeg\n",
            "/content/drive/My Drive/datasets/chest_xray/train/NORMAL/NORMAL2-IM-0394-0001.jpeg\n",
            "/content/drive/My Drive/datasets/chest_xray/train/NORMAL/IM-0757-0001.jpeg\n",
            "/content/drive/My Drive/datasets/chest_xray/train/NORMAL/NORMAL2-IM-0414-0001.jpeg\n",
            "/content/drive/My Drive/datasets/chest_xray/train/NORMAL/NORMAL2-IM-0412-0001.jpeg\n",
            "/content/drive/My Drive/datasets/chest_xray/train/NORMAL/NORMAL2-IM-0397-0001.jpeg\n",
            "/content/drive/My Drive/datasets/chest_xray/train/NORMAL/NORMAL2-IM-0428-0001.jpeg\n",
            "/content/drive/My Drive/datasets/chest_xray/train/NORMAL/NORMAL2-IM-0450-0001.jpeg\n",
            "/content/drive/My Drive/datasets/chest_xray/train/NORMAL/NORMAL2-IM-0448-0001.jpeg\n",
            "/content/drive/My Drive/datasets/chest_xray/train/NORMAL/NORMAL2-IM-0425-0001.jpeg\n",
            "/content/drive/My Drive/datasets/chest_xray/train/NORMAL/NORMAL2-IM-0456-0001.jpeg\n",
            "/content/drive/My Drive/datasets/chest_xray/train/NORMAL/NORMAL2-IM-0441-0001.jpeg\n",
            "/content/drive/My Drive/datasets/chest_xray/train/NORMAL/NORMAL2-IM-0418-0001.jpeg\n",
            "/content/drive/My Drive/datasets/chest_xray/train/NORMAL/NORMAL2-IM-0460-0001.jpeg\n",
            "/content/drive/My Drive/datasets/chest_xray/train/NORMAL/NORMAL2-IM-0421-0001.jpeg\n",
            "/content/drive/My Drive/datasets/chest_xray/train/NORMAL/NORMAL2-IM-0452-0001.jpeg\n",
            "/content/drive/My Drive/datasets/chest_xray/train/NORMAL/NORMAL2-IM-0453-0001.jpeg\n",
            "/content/drive/My Drive/datasets/chest_xray/train/NORMAL/NORMAL2-IM-0419-0001.jpeg\n",
            "/content/drive/My Drive/datasets/chest_xray/train/NORMAL/NORMAL2-IM-0427-0001.jpeg\n",
            "/content/drive/My Drive/datasets/chest_xray/train/NORMAL/NORMAL2-IM-0445-0001.jpeg\n",
            "/content/drive/My Drive/datasets/chest_xray/train/NORMAL/NORMAL2-IM-0416-0001-0002.jpeg\n",
            "/content/drive/My Drive/datasets/chest_xray/train/NORMAL/NORMAL2-IM-0447-0001.jpeg\n",
            "/content/drive/My Drive/datasets/chest_xray/train/NORMAL/NORMAL2-IM-0449-0001.jpeg\n",
            "/content/drive/My Drive/datasets/chest_xray/train/NORMAL/NORMAL2-IM-0433-0001.jpeg\n",
            "/content/drive/My Drive/datasets/chest_xray/train/NORMAL/NORMAL2-IM-0439-0001.jpeg\n",
            "/content/drive/My Drive/datasets/chest_xray/train/NORMAL/NORMAL2-IM-0462-0001.jpeg\n",
            "/content/drive/My Drive/datasets/chest_xray/train/NORMAL/NORMAL2-IM-0458-0001.jpeg\n",
            "/content/drive/My Drive/datasets/chest_xray/train/NORMAL/NORMAL2-IM-0424-0001.jpeg\n",
            "/content/drive/My Drive/datasets/chest_xray/train/NORMAL/NORMAL2-IM-0455-0001.jpeg\n",
            "/content/drive/My Drive/datasets/chest_xray/train/NORMAL/NORMAL2-IM-0417-0001.jpeg\n",
            "/content/drive/My Drive/datasets/chest_xray/train/NORMAL/NORMAL2-IM-0451-0001.jpeg\n",
            "/content/drive/My Drive/datasets/chest_xray/train/NORMAL/NORMAL2-IM-0443-0001.jpeg\n",
            "/content/drive/My Drive/datasets/chest_xray/train/NORMAL/NORMAL2-IM-0429-0001.jpeg\n",
            "/content/drive/My Drive/datasets/chest_xray/train/NORMAL/NORMAL2-IM-0435-0001.jpeg\n",
            "/content/drive/My Drive/datasets/chest_xray/train/NORMAL/NORMAL2-IM-0454-0001.jpeg\n",
            "/content/drive/My Drive/datasets/chest_xray/train/NORMAL/NORMAL2-IM-0416-0001.jpeg\n",
            "/content/drive/My Drive/datasets/chest_xray/train/NORMAL/NORMAL2-IM-0423-0001.jpeg\n",
            "/content/drive/My Drive/datasets/chest_xray/train/NORMAL/NORMAL2-IM-0437-0001.jpeg\n",
            "/content/drive/My Drive/datasets/chest_xray/train/NORMAL/NORMAL2-IM-0440-0001.jpeg\n",
            "/content/drive/My Drive/datasets/chest_xray/train/NORMAL/NORMAL2-IM-0511-0001.jpeg\n",
            "/content/drive/My Drive/datasets/chest_xray/train/NORMAL/NORMAL2-IM-0512-0001.jpeg\n",
            "/content/drive/My Drive/datasets/chest_xray/train/NORMAL/NORMAL2-IM-0508-0001.jpeg\n",
            "/content/drive/My Drive/datasets/chest_xray/train/NORMAL/NORMAL2-IM-0502-0001.jpeg\n",
            "/content/drive/My Drive/datasets/chest_xray/train/NORMAL/NORMAL2-IM-0493-0001.jpeg\n",
            "/content/drive/My Drive/datasets/chest_xray/train/NORMAL/NORMAL2-IM-0488-0001.jpeg\n",
            "/content/drive/My Drive/datasets/chest_xray/train/NORMAL/NORMAL2-IM-0474-0001.jpeg\n",
            "/content/drive/My Drive/datasets/chest_xray/train/NORMAL/NORMAL2-IM-0513-0001.jpeg\n",
            "/content/drive/My Drive/datasets/chest_xray/train/NORMAL/NORMAL2-IM-0501-0001.jpeg\n",
            "/content/drive/My Drive/datasets/chest_xray/train/NORMAL/NORMAL2-IM-0485-0001.jpeg\n",
            "/content/drive/My Drive/datasets/chest_xray/train/NORMAL/NORMAL2-IM-0466-0001.jpeg\n",
            "/content/drive/My Drive/datasets/chest_xray/train/NORMAL/NORMAL2-IM-0489-0001.jpeg\n",
            "/content/drive/My Drive/datasets/chest_xray/train/NORMAL/NORMAL2-IM-0463-0001.jpeg\n",
            "/content/drive/My Drive/datasets/chest_xray/train/NORMAL/NORMAL2-IM-0468-0001.jpeg\n",
            "/content/drive/My Drive/datasets/chest_xray/train/NORMAL/NORMAL2-IM-0490-0001.jpeg\n",
            "/content/drive/My Drive/datasets/chest_xray/train/NORMAL/NORMAL2-IM-0500-0001.jpeg\n",
            "/content/drive/My Drive/datasets/chest_xray/train/NORMAL/NORMAL2-IM-0472-0001.jpeg\n",
            "/content/drive/My Drive/datasets/chest_xray/train/NORMAL/NORMAL2-IM-0507-0001.jpeg\n",
            "/content/drive/My Drive/datasets/chest_xray/train/NORMAL/NORMAL2-IM-0476-0001.jpeg\n",
            "/content/drive/My Drive/datasets/chest_xray/train/NORMAL/NORMAL2-IM-0499-0001.jpeg\n",
            "/content/drive/My Drive/datasets/chest_xray/train/NORMAL/NORMAL2-IM-0496-0001.jpeg\n",
            "/content/drive/My Drive/datasets/chest_xray/train/NORMAL/NORMAL2-IM-0497-0001.jpeg\n",
            "/content/drive/My Drive/datasets/chest_xray/train/NORMAL/NORMAL2-IM-0487-0001.jpeg\n",
            "/content/drive/My Drive/datasets/chest_xray/train/NORMAL/NORMAL2-IM-0465-0001.jpeg\n",
            "/content/drive/My Drive/datasets/chest_xray/train/NORMAL/NORMAL2-IM-0481-0001.jpeg\n",
            "/content/drive/My Drive/datasets/chest_xray/train/NORMAL/NORMAL2-IM-0506-0001.jpeg\n",
            "/content/drive/My Drive/datasets/chest_xray/train/NORMAL/NORMAL2-IM-0475-0001.jpeg\n",
            "/content/drive/My Drive/datasets/chest_xray/train/NORMAL/NORMAL2-IM-0473-0001.jpeg\n",
            "/content/drive/My Drive/datasets/chest_xray/train/NORMAL/NORMAL2-IM-0464-0001.jpeg\n",
            "/content/drive/My Drive/datasets/chest_xray/train/NORMAL/NORMAL2-IM-0486-0001.jpeg\n",
            "/content/drive/My Drive/datasets/chest_xray/train/NORMAL/NORMAL2-IM-0503-0001.jpeg\n",
            "/content/drive/My Drive/datasets/chest_xray/train/NORMAL/NORMAL2-IM-0479-0001.jpeg\n",
            "/content/drive/My Drive/datasets/chest_xray/train/NORMAL/NORMAL2-IM-0509-0001.jpeg\n",
            "/content/drive/My Drive/datasets/chest_xray/train/NORMAL/NORMAL2-IM-0480-0001.jpeg\n",
            "/content/drive/My Drive/datasets/chest_xray/train/NORMAL/NORMAL2-IM-0482-0001.jpeg\n",
            "/content/drive/My Drive/datasets/chest_xray/train/NORMAL/NORMAL2-IM-0478-0001.jpeg\n",
            "/content/drive/My Drive/datasets/chest_xray/train/NORMAL/NORMAL2-IM-0491-0001.jpeg\n",
            "/content/drive/My Drive/datasets/chest_xray/train/NORMAL/NORMAL2-IM-0550-0001.jpeg\n",
            "/content/drive/My Drive/datasets/chest_xray/train/NORMAL/NORMAL2-IM-0520-0001.jpeg\n",
            "/content/drive/My Drive/datasets/chest_xray/train/NORMAL/NORMAL2-IM-0525-0001.jpeg\n",
            "/content/drive/My Drive/datasets/chest_xray/train/NORMAL/NORMAL2-IM-0535-0001-0002.jpeg\n",
            "/content/drive/My Drive/datasets/chest_xray/train/NORMAL/NORMAL2-IM-0537-0001.jpeg\n",
            "/content/drive/My Drive/datasets/chest_xray/train/NORMAL/NORMAL2-IM-0554-0001.jpeg\n",
            "/content/drive/My Drive/datasets/chest_xray/train/NORMAL/NORMAL2-IM-0553-0001.jpeg\n",
            "/content/drive/My Drive/datasets/chest_xray/train/NORMAL/NORMAL2-IM-0518-0001.jpeg\n",
            "/content/drive/My Drive/datasets/chest_xray/train/NORMAL/NORMAL2-IM-0517-0001.jpeg\n",
            "/content/drive/My Drive/datasets/chest_xray/train/NORMAL/NORMAL2-IM-0526-0001.jpeg\n",
            "/content/drive/My Drive/datasets/chest_xray/train/NORMAL/NORMAL2-IM-0536-0001.jpeg\n",
            "/content/drive/My Drive/datasets/chest_xray/train/NORMAL/NORMAL2-IM-0522-0001.jpeg\n",
            "/content/drive/My Drive/datasets/chest_xray/train/NORMAL/NORMAL2-IM-0555-0001-0001.jpeg\n",
            "/content/drive/My Drive/datasets/chest_xray/train/NORMAL/NORMAL2-IM-0551-0001.jpeg\n",
            "/content/drive/My Drive/datasets/chest_xray/train/NORMAL/NORMAL2-IM-0535-0001.jpeg\n",
            "/content/drive/My Drive/datasets/chest_xray/train/NORMAL/NORMAL2-IM-0547-0001.jpeg\n",
            "/content/drive/My Drive/datasets/chest_xray/train/NORMAL/NORMAL2-IM-0531-0001.jpeg\n",
            "/content/drive/My Drive/datasets/chest_xray/train/NORMAL/NORMAL2-IM-0533-0001.jpeg\n",
            "/content/drive/My Drive/datasets/chest_xray/train/NORMAL/NORMAL2-IM-0528-0001.jpeg\n",
            "/content/drive/My Drive/datasets/chest_xray/train/NORMAL/NORMAL2-IM-0539-0001.jpeg\n",
            "/content/drive/My Drive/datasets/chest_xray/train/NORMAL/NORMAL2-IM-0530-0001.jpeg\n",
            "/content/drive/My Drive/datasets/chest_xray/train/NORMAL/NORMAL2-IM-0540-0001.jpeg\n",
            "/content/drive/My Drive/datasets/chest_xray/train/NORMAL/NORMAL2-IM-0521-0001.jpeg\n",
            "/content/drive/My Drive/datasets/chest_xray/train/NORMAL/NORMAL2-IM-0523-0001.jpeg\n",
            "/content/drive/My Drive/datasets/chest_xray/train/NORMAL/NORMAL2-IM-0515-0001.jpeg\n",
            "/content/drive/My Drive/datasets/chest_xray/train/NORMAL/NORMAL2-IM-0545-0001.jpeg\n",
            "/content/drive/My Drive/datasets/chest_xray/train/NORMAL/NORMAL2-IM-0543-0001.jpeg\n",
            "/content/drive/My Drive/datasets/chest_xray/train/NORMAL/NORMAL2-IM-0516-0001.jpeg\n",
            "/content/drive/My Drive/datasets/chest_xray/train/NORMAL/NORMAL2-IM-0552-0001.jpeg\n",
            "/content/drive/My Drive/datasets/chest_xray/train/NORMAL/NORMAL2-IM-0529-0001.jpeg\n",
            "/content/drive/My Drive/datasets/chest_xray/train/NORMAL/NORMAL2-IM-0541-0001.jpeg\n",
            "/content/drive/My Drive/datasets/chest_xray/train/NORMAL/NORMAL2-IM-0583-0001.jpeg\n",
            "/content/drive/My Drive/datasets/chest_xray/train/NORMAL/NORMAL2-IM-0568-0001.jpeg\n",
            "/content/drive/My Drive/datasets/chest_xray/train/NORMAL/NORMAL2-IM-0579-0001.jpeg\n",
            "/content/drive/My Drive/datasets/chest_xray/train/NORMAL/NORMAL2-IM-0557-0001.jpeg\n",
            "/content/drive/My Drive/datasets/chest_xray/train/NORMAL/NORMAL2-IM-0573-0001.jpeg\n",
            "/content/drive/My Drive/datasets/chest_xray/train/NORMAL/NORMAL2-IM-0567-0001.jpeg\n",
            "/content/drive/My Drive/datasets/chest_xray/train/NORMAL/NORMAL2-IM-0569-0001.jpeg\n",
            "/content/drive/My Drive/datasets/chest_xray/train/NORMAL/NORMAL2-IM-0587-0001-0002.jpeg\n",
            "/content/drive/My Drive/datasets/chest_xray/train/NORMAL/NORMAL2-IM-0587-0001-0001.jpeg\n",
            "/content/drive/My Drive/datasets/chest_xray/train/NORMAL/NORMAL2-IM-0558-0001.jpeg\n",
            "/content/drive/My Drive/datasets/chest_xray/train/NORMAL/NORMAL2-IM-0575-0001.jpeg\n",
            "/content/drive/My Drive/datasets/chest_xray/train/NORMAL/NORMAL2-IM-0576-0001.jpeg\n",
            "/content/drive/My Drive/datasets/chest_xray/train/NORMAL/NORMAL2-IM-0559-0001.jpeg\n",
            "/content/drive/My Drive/datasets/chest_xray/train/NORMAL/NORMAL2-IM-0577-0001.jpeg\n",
            "/content/drive/My Drive/datasets/chest_xray/train/NORMAL/NORMAL2-IM-0564-0001.jpeg\n",
            "/content/drive/My Drive/datasets/chest_xray/train/NORMAL/NORMAL2-IM-0555-0001.jpeg\n",
            "/content/drive/My Drive/datasets/chest_xray/train/NORMAL/NORMAL2-IM-0571-0001.jpeg\n",
            "/content/drive/My Drive/datasets/chest_xray/train/NORMAL/NORMAL2-IM-0561-0001.jpeg\n",
            "/content/drive/My Drive/datasets/chest_xray/train/NORMAL/NORMAL2-IM-0572-0001.jpeg\n",
            "/content/drive/My Drive/datasets/chest_xray/train/NORMAL/NORMAL2-IM-0563-0001.jpeg\n",
            "/content/drive/My Drive/datasets/chest_xray/train/NORMAL/NORMAL2-IM-0555-0001-0002.jpeg\n",
            "/content/drive/My Drive/datasets/chest_xray/train/NORMAL/NORMAL2-IM-0582-0001.jpeg\n",
            "/content/drive/My Drive/datasets/chest_xray/train/NORMAL/NORMAL2-IM-0566-0001.jpeg\n",
            "/content/drive/My Drive/datasets/chest_xray/train/NORMAL/NORMAL2-IM-0585-0001.jpeg\n",
            "/content/drive/My Drive/datasets/chest_xray/train/NORMAL/NORMAL2-IM-0578-0001.jpeg\n",
            "/content/drive/My Drive/datasets/chest_xray/train/NORMAL/NORMAL2-IM-0580-0001.jpeg\n",
            "/content/drive/My Drive/datasets/chest_xray/train/NORMAL/NORMAL2-IM-0587-0001.jpeg\n",
            "/content/drive/My Drive/datasets/chest_xray/train/NORMAL/NORMAL2-IM-0621-0001.jpeg\n",
            "/content/drive/My Drive/datasets/chest_xray/train/NORMAL/NORMAL2-IM-0604-0001.jpeg\n",
            "/content/drive/My Drive/datasets/chest_xray/train/NORMAL/NORMAL2-IM-0630-0001.jpeg\n",
            "/content/drive/My Drive/datasets/chest_xray/train/NORMAL/NORMAL2-IM-0601-0001.jpeg\n",
            "/content/drive/My Drive/datasets/chest_xray/train/NORMAL/NORMAL2-IM-0635-0001.jpeg\n",
            "/content/drive/My Drive/datasets/chest_xray/train/NORMAL/NORMAL2-IM-0592-0001.jpeg\n",
            "/content/drive/My Drive/datasets/chest_xray/train/NORMAL/NORMAL2-IM-0600-0001.jpeg\n",
            "/content/drive/My Drive/datasets/chest_xray/train/NORMAL/NORMAL2-IM-0626-0001.jpeg\n",
            "/content/drive/My Drive/datasets/chest_xray/train/NORMAL/NORMAL2-IM-0603-0001.jpeg\n",
            "/content/drive/My Drive/datasets/chest_xray/train/NORMAL/NORMAL2-IM-0599-0001.jpeg\n",
            "/content/drive/My Drive/datasets/chest_xray/train/NORMAL/NORMAL2-IM-0589-0001.jpeg\n",
            "/content/drive/My Drive/datasets/chest_xray/train/NORMAL/NORMAL2-IM-0634-0001.jpeg\n",
            "/content/drive/My Drive/datasets/chest_xray/train/NORMAL/NORMAL2-IM-0627-0001.jpeg\n",
            "/content/drive/My Drive/datasets/chest_xray/train/NORMAL/NORMAL2-IM-0616-0001.jpeg\n",
            "/content/drive/My Drive/datasets/chest_xray/train/NORMAL/NORMAL2-IM-0588-0001.jpeg\n",
            "/content/drive/My Drive/datasets/chest_xray/train/NORMAL/NORMAL2-IM-0609-0001.jpeg\n",
            "/content/drive/My Drive/datasets/chest_xray/train/NORMAL/NORMAL2-IM-0633-0001.jpeg\n",
            "/content/drive/My Drive/datasets/chest_xray/train/NORMAL/NORMAL2-IM-0611-0001.jpeg\n",
            "/content/drive/My Drive/datasets/chest_xray/train/NORMAL/NORMAL2-IM-0623-0001.jpeg\n",
            "/content/drive/My Drive/datasets/chest_xray/train/NORMAL/NORMAL2-IM-0618-0001.jpeg\n",
            "/content/drive/My Drive/datasets/chest_xray/train/NORMAL/NORMAL2-IM-0617-0001.jpeg\n",
            "/content/drive/My Drive/datasets/chest_xray/train/NORMAL/NORMAL2-IM-0602-0001.jpeg\n",
            "/content/drive/My Drive/datasets/chest_xray/train/NORMAL/NORMAL2-IM-0629-0001.jpeg\n",
            "/content/drive/My Drive/datasets/chest_xray/train/NORMAL/NORMAL2-IM-0596-0001.jpeg\n",
            "/content/drive/My Drive/datasets/chest_xray/train/NORMAL/NORMAL2-IM-0620-0001.jpeg\n",
            "/content/drive/My Drive/datasets/chest_xray/train/NORMAL/NORMAL2-IM-0594-0001.jpeg\n",
            "/content/drive/My Drive/datasets/chest_xray/train/NORMAL/NORMAL2-IM-0595-0001.jpeg\n",
            "/content/drive/My Drive/datasets/chest_xray/train/NORMAL/NORMAL2-IM-0636-0001.jpeg\n",
            "/content/drive/My Drive/datasets/chest_xray/train/NORMAL/NORMAL2-IM-0622-0001.jpeg\n",
            "/content/drive/My Drive/datasets/chest_xray/train/NORMAL/NORMAL2-IM-0619-0001.jpeg\n",
            "/content/drive/My Drive/datasets/chest_xray/train/NORMAL/NORMAL2-IM-0654-0001.jpeg\n",
            "/content/drive/My Drive/datasets/chest_xray/train/NORMAL/NORMAL2-IM-0675-0001.jpeg\n",
            "/content/drive/My Drive/datasets/chest_xray/train/NORMAL/NORMAL2-IM-0655-0001.jpeg\n",
            "/content/drive/My Drive/datasets/chest_xray/train/NORMAL/NORMAL2-IM-0672-0001.jpeg\n",
            "/content/drive/My Drive/datasets/chest_xray/train/NORMAL/NORMAL2-IM-0648-0001.jpeg\n",
            "/content/drive/My Drive/datasets/chest_xray/train/NORMAL/NORMAL2-IM-0659-0001.jpeg\n",
            "/content/drive/My Drive/datasets/chest_xray/train/NORMAL/NORMAL2-IM-0664-0001.jpeg\n",
            "/content/drive/My Drive/datasets/chest_xray/train/NORMAL/NORMAL2-IM-0668-0001.jpeg\n",
            "/content/drive/My Drive/datasets/chest_xray/train/NORMAL/NORMAL2-IM-0673-0001.jpeg\n",
            "/content/drive/My Drive/datasets/chest_xray/train/NORMAL/NORMAL2-IM-0657-0001.jpeg\n",
            "/content/drive/My Drive/datasets/chest_xray/train/NORMAL/NORMAL2-IM-0637-0001.jpeg\n",
            "/content/drive/My Drive/datasets/chest_xray/train/NORMAL/NORMAL2-IM-0665-0001.jpeg\n",
            "/content/drive/My Drive/datasets/chest_xray/train/NORMAL/NORMAL2-IM-0642-0001.jpeg\n",
            "/content/drive/My Drive/datasets/chest_xray/train/NORMAL/NORMAL2-IM-0667-0001.jpeg\n",
            "/content/drive/My Drive/datasets/chest_xray/train/NORMAL/NORMAL2-IM-0678-0001.jpeg\n",
            "/content/drive/My Drive/datasets/chest_xray/train/NORMAL/NORMAL2-IM-0650-0001.jpeg\n",
            "/content/drive/My Drive/datasets/chest_xray/train/NORMAL/NORMAL2-IM-0640-0001.jpeg\n",
            "/content/drive/My Drive/datasets/chest_xray/train/NORMAL/NORMAL2-IM-0641-0001.jpeg\n",
            "/content/drive/My Drive/datasets/chest_xray/train/NORMAL/NORMAL2-IM-0651-0004.jpeg\n",
            "/content/drive/My Drive/datasets/chest_xray/train/NORMAL/NORMAL2-IM-0653-0001.jpeg\n",
            "/content/drive/My Drive/datasets/chest_xray/train/NORMAL/NORMAL2-IM-0652-0001.jpeg\n",
            "/content/drive/My Drive/datasets/chest_xray/train/NORMAL/NORMAL2-IM-0680-0001.jpeg\n",
            "/content/drive/My Drive/datasets/chest_xray/train/NORMAL/NORMAL2-IM-0647-0001.jpeg\n",
            "/content/drive/My Drive/datasets/chest_xray/train/NORMAL/NORMAL2-IM-0645-0001.jpeg\n",
            "/content/drive/My Drive/datasets/chest_xray/train/NORMAL/NORMAL2-IM-0660-0001.jpeg\n",
            "/content/drive/My Drive/datasets/chest_xray/train/NORMAL/NORMAL2-IM-0662-0001.jpeg\n",
            "/content/drive/My Drive/datasets/chest_xray/train/NORMAL/NORMAL2-IM-0671-0001.jpeg\n",
            "/content/drive/My Drive/datasets/chest_xray/train/NORMAL/NORMAL2-IM-0666-0001.jpeg\n",
            "/content/drive/My Drive/datasets/chest_xray/train/NORMAL/NORMAL2-IM-0649-0001.jpeg\n",
            "/content/drive/My Drive/datasets/chest_xray/train/NORMAL/NORMAL2-IM-0651-0001.jpeg\n",
            "/content/drive/My Drive/datasets/chest_xray/train/NORMAL/NORMAL2-IM-0663-0001.jpeg\n",
            "/content/drive/My Drive/datasets/chest_xray/train/NORMAL/NORMAL2-IM-0669-0001.jpeg\n",
            "/content/drive/My Drive/datasets/chest_xray/train/NORMAL/NORMAL2-IM-0643-0001.jpeg\n",
            "/content/drive/My Drive/datasets/chest_xray/train/NORMAL/NORMAL2-IM-0661-0001.jpeg\n",
            "/content/drive/My Drive/datasets/chest_xray/train/NORMAL/NORMAL2-IM-0746-0001.jpeg\n",
            "/content/drive/My Drive/datasets/chest_xray/train/NORMAL/NORMAL2-IM-0777-0001.jpeg\n",
            "/content/drive/My Drive/datasets/chest_xray/train/NORMAL/NORMAL2-IM-0702-0001.jpeg\n",
            "/content/drive/My Drive/datasets/chest_xray/train/NORMAL/NORMAL2-IM-0723-0001.jpeg\n",
            "/content/drive/My Drive/datasets/chest_xray/train/NORMAL/NORMAL2-IM-0736-0001.jpeg\n",
            "/content/drive/My Drive/datasets/chest_xray/train/NORMAL/NORMAL2-IM-0730-0001.jpeg\n",
            "/content/drive/My Drive/datasets/chest_xray/train/NORMAL/NORMAL2-IM-0776-0001.jpeg\n",
            "/content/drive/My Drive/datasets/chest_xray/train/NORMAL/NORMAL2-IM-0775-0001.jpeg\n",
            "/content/drive/My Drive/datasets/chest_xray/train/NORMAL/NORMAL2-IM-0693-0001.jpeg\n",
            "/content/drive/My Drive/datasets/chest_xray/train/NORMAL/NORMAL2-IM-0705-0001.jpeg\n",
            "/content/drive/My Drive/datasets/chest_xray/train/NORMAL/NORMAL2-IM-0694-0001.jpeg\n",
            "/content/drive/My Drive/datasets/chest_xray/train/NORMAL/NORMAL2-IM-0707-0001.jpeg\n",
            "/content/drive/My Drive/datasets/chest_xray/train/NORMAL/NORMAL2-IM-0757-0001.jpeg\n",
            "/content/drive/My Drive/datasets/chest_xray/train/NORMAL/NORMAL2-IM-0699-0001.jpeg\n",
            "/content/drive/My Drive/datasets/chest_xray/train/NORMAL/NORMAL2-IM-0741-0001.jpeg\n",
            "/content/drive/My Drive/datasets/chest_xray/train/NORMAL/NORMAL2-IM-0774-0001.jpeg\n",
            "/content/drive/My Drive/datasets/chest_xray/train/NORMAL/NORMAL2-IM-0727-0001.jpeg\n",
            "/content/drive/My Drive/datasets/chest_xray/train/NORMAL/NORMAL2-IM-0687-0001.jpeg\n",
            "/content/drive/My Drive/datasets/chest_xray/train/NORMAL/NORMAL2-IM-0692-0001.jpeg\n",
            "/content/drive/My Drive/datasets/chest_xray/train/NORMAL/NORMAL2-IM-0780-0001.jpeg\n",
            "/content/drive/My Drive/datasets/chest_xray/train/NORMAL/NORMAL2-IM-0684-0001-0001.jpeg\n",
            "/content/drive/My Drive/datasets/chest_xray/train/NORMAL/NORMAL2-IM-0689-0001.jpeg\n",
            "/content/drive/My Drive/datasets/chest_xray/train/NORMAL/NORMAL2-IM-0698-0001.jpeg\n",
            "/content/drive/My Drive/datasets/chest_xray/train/NORMAL/NORMAL2-IM-0696-0001.jpeg\n",
            "/content/drive/My Drive/datasets/chest_xray/train/NORMAL/NORMAL2-IM-0686-0001.jpeg\n",
            "/content/drive/My Drive/datasets/chest_xray/train/NORMAL/NORMAL2-IM-0725-0001.jpeg\n",
            "/content/drive/My Drive/datasets/chest_xray/train/NORMAL/NORMAL2-IM-0683-0001.jpeg\n",
            "/content/drive/My Drive/datasets/chest_xray/train/NORMAL/NORMAL2-IM-0682-0001.jpeg\n",
            "/content/drive/My Drive/datasets/chest_xray/train/NORMAL/NORMAL2-IM-0695-0001.jpeg\n",
            "/content/drive/My Drive/datasets/chest_xray/train/NORMAL/NORMAL2-IM-0744-0001.jpeg\n",
            "/content/drive/My Drive/datasets/chest_xray/train/NORMAL/NORMAL2-IM-0772-0001.jpeg\n",
            "/content/drive/My Drive/datasets/chest_xray/train/NORMAL/NORMAL2-IM-0690-0001.jpeg\n",
            "/content/drive/My Drive/datasets/chest_xray/train/NORMAL/NORMAL2-IM-0718-0001.jpeg\n",
            "/content/drive/My Drive/datasets/chest_xray/train/NORMAL/NORMAL2-IM-0771-0001.jpeg\n",
            "/content/drive/My Drive/datasets/chest_xray/train/NORMAL/NORMAL2-IM-0749-0001.jpeg\n",
            "/content/drive/My Drive/datasets/chest_xray/train/NORMAL/NORMAL2-IM-0765-0001.jpeg\n",
            "/content/drive/My Drive/datasets/chest_xray/train/NORMAL/NORMAL2-IM-0700-0001.jpeg\n",
            "/content/drive/My Drive/datasets/chest_xray/train/NORMAL/NORMAL2-IM-0753-0001.jpeg\n",
            "/content/drive/My Drive/datasets/chest_xray/train/NORMAL/NORMAL2-IM-0719-0001.jpeg\n",
            "/content/drive/My Drive/datasets/chest_xray/train/NORMAL/NORMAL2-IM-0810-0001.jpeg\n",
            "/content/drive/My Drive/datasets/chest_xray/train/NORMAL/NORMAL2-IM-0796-0001.jpeg\n",
            "/content/drive/My Drive/datasets/chest_xray/train/NORMAL/NORMAL2-IM-0822-0001.jpeg\n",
            "/content/drive/My Drive/datasets/chest_xray/train/NORMAL/NORMAL2-IM-0826-0001.jpeg\n",
            "/content/drive/My Drive/datasets/chest_xray/train/NORMAL/NORMAL2-IM-0814-0001.jpeg\n",
            "/content/drive/My Drive/datasets/chest_xray/train/NORMAL/NORMAL2-IM-0828-0001.jpeg\n",
            "/content/drive/My Drive/datasets/chest_xray/train/NORMAL/NORMAL2-IM-0809-0001.jpeg\n",
            "/content/drive/My Drive/datasets/chest_xray/train/NORMAL/NORMAL2-IM-0812-0001.jpeg\n",
            "/content/drive/My Drive/datasets/chest_xray/train/NORMAL/NORMAL2-IM-0821-0001.jpeg\n",
            "/content/drive/My Drive/datasets/chest_xray/train/NORMAL/NORMAL2-IM-0820-0001.jpeg\n",
            "/content/drive/My Drive/datasets/chest_xray/train/NORMAL/NORMAL2-IM-0827-0001.jpeg\n",
            "/content/drive/My Drive/datasets/chest_xray/train/NORMAL/NORMAL2-IM-0793-0001.jpeg\n",
            "/content/drive/My Drive/datasets/chest_xray/train/NORMAL/NORMAL2-IM-0818-0001-0002.jpeg\n",
            "/content/drive/My Drive/datasets/chest_xray/train/NORMAL/NORMAL2-IM-0830-0001.jpeg\n",
            "/content/drive/My Drive/datasets/chest_xray/train/NORMAL/NORMAL2-IM-0808-0001.jpeg\n",
            "/content/drive/My Drive/datasets/chest_xray/train/NORMAL/NORMAL2-IM-0816-0001.jpeg\n",
            "/content/drive/My Drive/datasets/chest_xray/train/NORMAL/NORMAL2-IM-0781-0001.jpeg\n",
            "/content/drive/My Drive/datasets/chest_xray/train/NORMAL/NORMAL2-IM-0799-0001.jpeg\n",
            "/content/drive/My Drive/datasets/chest_xray/train/NORMAL/NORMAL2-IM-0815-0001.jpeg\n",
            "/content/drive/My Drive/datasets/chest_xray/train/NORMAL/NORMAL2-IM-0831-0001.jpeg\n",
            "/content/drive/My Drive/datasets/chest_xray/train/NORMAL/NORMAL2-IM-0825-0001.jpeg\n",
            "/content/drive/My Drive/datasets/chest_xray/train/NORMAL/NORMAL2-IM-0806-0001.jpeg\n",
            "/content/drive/My Drive/datasets/chest_xray/train/NORMAL/NORMAL2-IM-0803-0001.jpeg\n",
            "/content/drive/My Drive/datasets/chest_xray/train/NORMAL/NORMAL2-IM-0811-0001.jpeg\n",
            "/content/drive/My Drive/datasets/chest_xray/train/NORMAL/NORMAL2-IM-0807-0001.jpeg\n",
            "/content/drive/My Drive/datasets/chest_xray/train/NORMAL/NORMAL2-IM-0818-0001.jpeg\n",
            "/content/drive/My Drive/datasets/chest_xray/train/NORMAL/NORMAL2-IM-0797-0001.jpeg\n",
            "/content/drive/My Drive/datasets/chest_xray/train/NORMAL/NORMAL2-IM-0824-0001.jpeg\n",
            "/content/drive/My Drive/datasets/chest_xray/train/NORMAL/NORMAL2-IM-0819-0001.jpeg\n",
            "/content/drive/My Drive/datasets/chest_xray/train/NORMAL/NORMAL2-IM-0804-0001.jpeg\n",
            "/content/drive/My Drive/datasets/chest_xray/train/NORMAL/NORMAL2-IM-0798-0001.jpeg\n",
            "/content/drive/My Drive/datasets/chest_xray/train/NORMAL/NORMAL2-IM-0829-0001.jpeg\n",
            "/content/drive/My Drive/datasets/chest_xray/train/NORMAL/NORMAL2-IM-0790-0001.jpeg\n",
            "/content/drive/My Drive/datasets/chest_xray/train/NORMAL/NORMAL2-IM-0845-0001.jpeg\n",
            "/content/drive/My Drive/datasets/chest_xray/train/NORMAL/NORMAL2-IM-0841-0001.jpeg\n",
            "/content/drive/My Drive/datasets/chest_xray/train/NORMAL/NORMAL2-IM-0853-0001.jpeg\n",
            "/content/drive/My Drive/datasets/chest_xray/train/NORMAL/NORMAL2-IM-0832-0001.jpeg\n",
            "/content/drive/My Drive/datasets/chest_xray/train/NORMAL/NORMAL2-IM-0863-0001.jpeg\n",
            "/content/drive/My Drive/datasets/chest_xray/train/NORMAL/NORMAL2-IM-0854-0001.jpeg\n",
            "/content/drive/My Drive/datasets/chest_xray/train/NORMAL/NORMAL2-IM-0840-0001.jpeg\n",
            "/content/drive/My Drive/datasets/chest_xray/train/NORMAL/NORMAL2-IM-0857-0001.jpeg\n",
            "/content/drive/My Drive/datasets/chest_xray/train/NORMAL/NORMAL2-IM-0846-0001.jpeg\n",
            "/content/drive/My Drive/datasets/chest_xray/train/NORMAL/NORMAL2-IM-0837-0001.jpeg\n",
            "/content/drive/My Drive/datasets/chest_xray/train/NORMAL/NORMAL2-IM-0843-0001.jpeg\n",
            "/content/drive/My Drive/datasets/chest_xray/train/NORMAL/NORMAL2-IM-0838-0001.jpeg\n",
            "/content/drive/My Drive/datasets/chest_xray/train/NORMAL/NORMAL2-IM-0852-0001.jpeg\n",
            "/content/drive/My Drive/datasets/chest_xray/train/NORMAL/NORMAL2-IM-0849-0001.jpeg\n",
            "/content/drive/My Drive/datasets/chest_xray/train/NORMAL/NORMAL2-IM-0842-0001.jpeg\n",
            "/content/drive/My Drive/datasets/chest_xray/train/NORMAL/NORMAL2-IM-0847-0001.jpeg\n",
            "/content/drive/My Drive/datasets/chest_xray/train/NORMAL/NORMAL2-IM-0851-0001-0002.jpeg\n",
            "/content/drive/My Drive/datasets/chest_xray/train/NORMAL/NORMAL2-IM-0834-0001.jpeg\n",
            "/content/drive/My Drive/datasets/chest_xray/train/NORMAL/NORMAL2-IM-0832-0001-0002.jpeg\n",
            "/content/drive/My Drive/datasets/chest_xray/train/NORMAL/NORMAL2-IM-0839-0001.jpeg\n",
            "/content/drive/My Drive/datasets/chest_xray/train/NORMAL/NORMAL2-IM-0832-0001-0001.jpeg\n",
            "/content/drive/My Drive/datasets/chest_xray/train/NORMAL/NORMAL2-IM-0855-0001.jpeg\n",
            "/content/drive/My Drive/datasets/chest_xray/train/NORMAL/NORMAL2-IM-0833-0001.jpeg\n",
            "/content/drive/My Drive/datasets/chest_xray/train/NORMAL/NORMAL2-IM-0848-0001.jpeg\n",
            "/content/drive/My Drive/datasets/chest_xray/train/NORMAL/NORMAL2-IM-0860-0001.jpeg\n",
            "/content/drive/My Drive/datasets/chest_xray/train/NORMAL/NORMAL2-IM-0856-0001.jpeg\n",
            "/content/drive/My Drive/datasets/chest_xray/train/NORMAL/NORMAL2-IM-0836-0001.jpeg\n",
            "/content/drive/My Drive/datasets/chest_xray/train/NORMAL/NORMAL2-IM-0862-0001.jpeg\n",
            "/content/drive/My Drive/datasets/chest_xray/train/NORMAL/NORMAL2-IM-0851-0001.jpeg\n",
            "/content/drive/My Drive/datasets/chest_xray/train/NORMAL/NORMAL2-IM-0865-0001.jpeg\n",
            "/content/drive/My Drive/datasets/chest_xray/train/NORMAL/NORMAL2-IM-0851-0001-0001.jpeg\n",
            "/content/drive/My Drive/datasets/chest_xray/train/NORMAL/NORMAL2-IM-0859-0001.jpeg\n",
            "/content/drive/My Drive/datasets/chest_xray/train/NORMAL/NORMAL2-IM-0858-0001.jpeg\n",
            "/content/drive/My Drive/datasets/chest_xray/train/NORMAL/NORMAL2-IM-0886-0001.jpeg\n",
            "/content/drive/My Drive/datasets/chest_xray/train/NORMAL/NORMAL2-IM-0868-0001.jpeg\n",
            "/content/drive/My Drive/datasets/chest_xray/train/NORMAL/NORMAL2-IM-0888-0001.jpeg\n",
            "/content/drive/My Drive/datasets/chest_xray/train/NORMAL/NORMAL2-IM-0881-0001.jpeg\n",
            "/content/drive/My Drive/datasets/chest_xray/train/NORMAL/NORMAL2-IM-0870-0001.jpeg\n",
            "/content/drive/My Drive/datasets/chest_xray/train/NORMAL/NORMAL2-IM-0882-0001.jpeg\n",
            "/content/drive/My Drive/datasets/chest_xray/train/NORMAL/NORMAL2-IM-0876-0001.jpeg\n",
            "/content/drive/My Drive/datasets/chest_xray/train/NORMAL/NORMAL2-IM-0892-0001.jpeg\n",
            "/content/drive/My Drive/datasets/chest_xray/train/NORMAL/NORMAL2-IM-0896-0001.jpeg\n",
            "/content/drive/My Drive/datasets/chest_xray/train/NORMAL/NORMAL2-IM-0871-0001.jpeg\n",
            "/content/drive/My Drive/datasets/chest_xray/train/NORMAL/NORMAL2-IM-0904-0001.jpeg\n",
            "/content/drive/My Drive/datasets/chest_xray/train/NORMAL/NORMAL2-IM-0875-0001.jpeg\n",
            "/content/drive/My Drive/datasets/chest_xray/train/NORMAL/NORMAL2-IM-0897-0001.jpeg\n",
            "/content/drive/My Drive/datasets/chest_xray/train/NORMAL/NORMAL2-IM-0900-0001.jpeg\n",
            "/content/drive/My Drive/datasets/chest_xray/train/NORMAL/NORMAL2-IM-0867-0001.jpeg\n",
            "/content/drive/My Drive/datasets/chest_xray/train/NORMAL/NORMAL2-IM-0879-0001.jpeg\n",
            "/content/drive/My Drive/datasets/chest_xray/train/NORMAL/NORMAL2-IM-0880-0001.jpeg\n",
            "/content/drive/My Drive/datasets/chest_xray/train/NORMAL/NORMAL2-IM-0869-0001.jpeg\n",
            "/content/drive/My Drive/datasets/chest_xray/train/NORMAL/NORMAL2-IM-0872-0001.jpeg\n",
            "/content/drive/My Drive/datasets/chest_xray/train/NORMAL/NORMAL2-IM-0898-0001.jpeg\n",
            "/content/drive/My Drive/datasets/chest_xray/train/NORMAL/NORMAL2-IM-0874-0001.jpeg\n",
            "/content/drive/My Drive/datasets/chest_xray/train/NORMAL/NORMAL2-IM-0866-0001.jpeg\n",
            "/content/drive/My Drive/datasets/chest_xray/train/NORMAL/NORMAL2-IM-0894-0001.jpeg\n",
            "/content/drive/My Drive/datasets/chest_xray/train/NORMAL/NORMAL2-IM-0893-0001.jpeg\n",
            "/content/drive/My Drive/datasets/chest_xray/train/NORMAL/NORMAL2-IM-0899-0001.jpeg\n",
            "/content/drive/My Drive/datasets/chest_xray/train/NORMAL/NORMAL2-IM-0895-0001.jpeg\n",
            "/content/drive/My Drive/datasets/chest_xray/train/NORMAL/NORMAL2-IM-0887-0001.jpeg\n",
            "/content/drive/My Drive/datasets/chest_xray/train/NORMAL/NORMAL2-IM-0885-0001.jpeg\n",
            "/content/drive/My Drive/datasets/chest_xray/train/NORMAL/NORMAL2-IM-0877-0001.jpeg\n",
            "/content/drive/My Drive/datasets/chest_xray/train/NORMAL/NORMAL2-IM-0903-0001.jpeg\n",
            "/content/drive/My Drive/datasets/chest_xray/train/NORMAL/NORMAL2-IM-0873-0001.jpeg\n",
            "/content/drive/My Drive/datasets/chest_xray/train/NORMAL/NORMAL2-IM-0890-0001.jpeg\n",
            "/content/drive/My Drive/datasets/chest_xray/train/NORMAL/NORMAL2-IM-0931-0001.jpeg\n",
            "/content/drive/My Drive/datasets/chest_xray/train/NORMAL/NORMAL2-IM-0908-0001.jpeg\n",
            "/content/drive/My Drive/datasets/chest_xray/train/NORMAL/NORMAL2-IM-0913-0001.jpeg\n",
            "/content/drive/My Drive/datasets/chest_xray/train/NORMAL/NORMAL2-IM-0925-0001.jpeg\n",
            "/content/drive/My Drive/datasets/chest_xray/train/NORMAL/NORMAL2-IM-0933-0001.jpeg\n",
            "/content/drive/My Drive/datasets/chest_xray/train/NORMAL/NORMAL2-IM-0906-0001.jpeg\n",
            "/content/drive/My Drive/datasets/chest_xray/train/NORMAL/NORMAL2-IM-0936-0001.jpeg\n",
            "/content/drive/My Drive/datasets/chest_xray/train/NORMAL/NORMAL2-IM-0917-0001.jpeg\n",
            "/content/drive/My Drive/datasets/chest_xray/train/NORMAL/NORMAL2-IM-0927-0001.jpeg\n",
            "/content/drive/My Drive/datasets/chest_xray/train/NORMAL/NORMAL2-IM-0922-0001.jpeg\n",
            "/content/drive/My Drive/datasets/chest_xray/train/NORMAL/NORMAL2-IM-0914-0001.jpeg\n",
            "/content/drive/My Drive/datasets/chest_xray/train/NORMAL/NORMAL2-IM-0939-0001.jpeg\n",
            "/content/drive/My Drive/datasets/chest_xray/train/NORMAL/NORMAL2-IM-0909-0001.jpeg\n",
            "/content/drive/My Drive/datasets/chest_xray/train/NORMAL/NORMAL2-IM-0911-0001.jpeg\n",
            "/content/drive/My Drive/datasets/chest_xray/train/NORMAL/NORMAL2-IM-0935-0001.jpeg\n",
            "/content/drive/My Drive/datasets/chest_xray/train/NORMAL/NORMAL2-IM-0934-0001.jpeg\n",
            "/content/drive/My Drive/datasets/chest_xray/train/NORMAL/NORMAL2-IM-0923-0001.jpeg\n",
            "/content/drive/My Drive/datasets/chest_xray/train/NORMAL/NORMAL2-IM-0905-0001.jpeg\n",
            "/content/drive/My Drive/datasets/chest_xray/train/NORMAL/NORMAL2-IM-0910-0001.jpeg\n",
            "/content/drive/My Drive/datasets/chest_xray/train/NORMAL/NORMAL2-IM-0919-0001.jpeg\n",
            "/content/drive/My Drive/datasets/chest_xray/train/NORMAL/NORMAL2-IM-0929-0001.jpeg\n",
            "/content/drive/My Drive/datasets/chest_xray/train/NORMAL/NORMAL2-IM-0924-0001.jpeg\n",
            "/content/drive/My Drive/datasets/chest_xray/train/NORMAL/NORMAL2-IM-0937-0001.jpeg\n",
            "/content/drive/My Drive/datasets/chest_xray/train/NORMAL/NORMAL2-IM-0930-0001.jpeg\n",
            "/content/drive/My Drive/datasets/chest_xray/train/NORMAL/NORMAL2-IM-0918-0001.jpeg\n",
            "/content/drive/My Drive/datasets/chest_xray/train/NORMAL/NORMAL2-IM-0912-0001.jpeg\n",
            "/content/drive/My Drive/datasets/chest_xray/train/NORMAL/NORMAL2-IM-0915-0001.jpeg\n",
            "/content/drive/My Drive/datasets/chest_xray/train/NORMAL/NORMAL2-IM-0926-0001.jpeg\n",
            "/content/drive/My Drive/datasets/chest_xray/train/NORMAL/NORMAL2-IM-0932-0001.jpeg\n",
            "/content/drive/My Drive/datasets/chest_xray/train/NORMAL/NORMAL2-IM-0907-0001.jpeg\n",
            "/content/drive/My Drive/datasets/chest_xray/train/NORMAL/NORMAL2-IM-0976-0001.jpeg\n",
            "/content/drive/My Drive/datasets/chest_xray/train/NORMAL/NORMAL2-IM-0948-0001.jpeg\n",
            "/content/drive/My Drive/datasets/chest_xray/train/NORMAL/NORMAL2-IM-0975-0001.jpeg\n",
            "/content/drive/My Drive/datasets/chest_xray/train/NORMAL/NORMAL2-IM-0974-0001.jpeg\n",
            "/content/drive/My Drive/datasets/chest_xray/train/NORMAL/NORMAL2-IM-0944-0001.jpeg\n",
            "/content/drive/My Drive/datasets/chest_xray/train/NORMAL/NORMAL2-IM-0945-0001.jpeg\n",
            "/content/drive/My Drive/datasets/chest_xray/train/NORMAL/NORMAL2-IM-0955-0001.jpeg\n",
            "/content/drive/My Drive/datasets/chest_xray/train/NORMAL/NORMAL2-IM-0969-0001.jpeg\n",
            "/content/drive/My Drive/datasets/chest_xray/train/NORMAL/NORMAL2-IM-0949-0001.jpeg\n",
            "/content/drive/My Drive/datasets/chest_xray/train/NORMAL/NORMAL2-IM-0966-0001.jpeg\n",
            "/content/drive/My Drive/datasets/chest_xray/train/NORMAL/NORMAL2-IM-0956-0001.jpeg\n",
            "/content/drive/My Drive/datasets/chest_xray/train/NORMAL/NORMAL2-IM-0959-0001.jpeg\n",
            "/content/drive/My Drive/datasets/chest_xray/train/NORMAL/NORMAL2-IM-0946-0001.jpeg\n",
            "/content/drive/My Drive/datasets/chest_xray/train/NORMAL/NORMAL2-IM-0971-0001-0002.jpeg\n",
            "/content/drive/My Drive/datasets/chest_xray/train/NORMAL/NORMAL2-IM-0947-0001.jpeg\n",
            "/content/drive/My Drive/datasets/chest_xray/train/NORMAL/NORMAL2-IM-0954-0001.jpeg\n",
            "/content/drive/My Drive/datasets/chest_xray/train/NORMAL/NORMAL2-IM-0961-0001.jpeg\n",
            "/content/drive/My Drive/datasets/chest_xray/train/NORMAL/NORMAL2-IM-0942-0001.jpeg\n",
            "/content/drive/My Drive/datasets/chest_xray/train/NORMAL/NORMAL2-IM-0960-0001.jpeg\n",
            "/content/drive/My Drive/datasets/chest_xray/train/NORMAL/NORMAL2-IM-0950-0001.jpeg\n",
            "/content/drive/My Drive/datasets/chest_xray/train/NORMAL/NORMAL2-IM-0965-0001.jpeg\n",
            "/content/drive/My Drive/datasets/chest_xray/train/NORMAL/NORMAL2-IM-0952-0001.jpeg\n",
            "/content/drive/My Drive/datasets/chest_xray/train/NORMAL/NORMAL2-IM-0962-0001.jpeg\n",
            "/content/drive/My Drive/datasets/chest_xray/train/NORMAL/NORMAL2-IM-0967-0001.jpeg\n",
            "/content/drive/My Drive/datasets/chest_xray/train/NORMAL/NORMAL2-IM-0941-0001.jpeg\n",
            "/content/drive/My Drive/datasets/chest_xray/train/NORMAL/NORMAL2-IM-0957-0001.jpeg\n",
            "/content/drive/My Drive/datasets/chest_xray/train/NORMAL/NORMAL2-IM-0971-0001-0001.jpeg\n",
            "/content/drive/My Drive/datasets/chest_xray/train/NORMAL/NORMAL2-IM-0970-0001.jpeg\n",
            "/content/drive/My Drive/datasets/chest_xray/train/NORMAL/NORMAL2-IM-0977-0001.jpeg\n",
            "/content/drive/My Drive/datasets/chest_xray/train/NORMAL/NORMAL2-IM-0951-0001.jpeg\n",
            "/content/drive/My Drive/datasets/chest_xray/train/NORMAL/NORMAL2-IM-0981-0001.jpeg\n",
            "/content/drive/My Drive/datasets/chest_xray/train/NORMAL/NORMAL2-IM-1001-0001.jpeg\n",
            "/content/drive/My Drive/datasets/chest_xray/train/NORMAL/NORMAL2-IM-0983-0001.jpeg\n",
            "/content/drive/My Drive/datasets/chest_xray/train/NORMAL/NORMAL2-IM-0995-0001-0001.jpeg\n",
            "/content/drive/My Drive/datasets/chest_xray/train/NORMAL/NORMAL2-IM-0992-0001.jpeg\n",
            "/content/drive/My Drive/datasets/chest_xray/train/NORMAL/NORMAL2-IM-0993-0001.jpeg\n",
            "/content/drive/My Drive/datasets/chest_xray/train/NORMAL/NORMAL2-IM-1004-0001.jpeg\n",
            "/content/drive/My Drive/datasets/chest_xray/train/NORMAL/NORMAL2-IM-1005-0001.jpeg\n",
            "/content/drive/My Drive/datasets/chest_xray/train/NORMAL/NORMAL2-IM-0989-0001.jpeg\n",
            "/content/drive/My Drive/datasets/chest_xray/train/NORMAL/NORMAL2-IM-0998-0001.jpeg\n",
            "/content/drive/My Drive/datasets/chest_xray/train/NORMAL/NORMAL2-IM-0983-0001-0002.jpeg\n",
            "/content/drive/My Drive/datasets/chest_xray/train/NORMAL/NORMAL2-IM-1017-0001.jpeg\n",
            "/content/drive/My Drive/datasets/chest_xray/train/NORMAL/NORMAL2-IM-0983-0001-0001.jpeg\n",
            "/content/drive/My Drive/datasets/chest_xray/train/NORMAL/NORMAL2-IM-0999-0001.jpeg\n",
            "/content/drive/My Drive/datasets/chest_xray/train/NORMAL/NORMAL2-IM-0979-0001.jpeg\n",
            "/content/drive/My Drive/datasets/chest_xray/train/NORMAL/NORMAL2-IM-1008-0001.jpeg\n",
            "/content/drive/My Drive/datasets/chest_xray/train/NORMAL/NORMAL2-IM-0987-0001.jpeg\n",
            "/content/drive/My Drive/datasets/chest_xray/train/NORMAL/NORMAL2-IM-1010-0001.jpeg\n",
            "/content/drive/My Drive/datasets/chest_xray/train/NORMAL/NORMAL2-IM-1011-0001.jpeg\n",
            "/content/drive/My Drive/datasets/chest_xray/train/NORMAL/NORMAL2-IM-0978-0001.jpeg\n",
            "/content/drive/My Drive/datasets/chest_xray/train/NORMAL/NORMAL2-IM-0988-0001.jpeg\n",
            "/content/drive/My Drive/datasets/chest_xray/train/NORMAL/NORMAL2-IM-0980-0001.jpeg\n",
            "/content/drive/My Drive/datasets/chest_xray/train/NORMAL/NORMAL2-IM-1018-0001.jpeg\n",
            "/content/drive/My Drive/datasets/chest_xray/train/NORMAL/NORMAL2-IM-1015-0001.jpeg\n",
            "/content/drive/My Drive/datasets/chest_xray/train/NORMAL/NORMAL2-IM-1014-0001.jpeg\n",
            "/content/drive/My Drive/datasets/chest_xray/train/NORMAL/NORMAL2-IM-1016-0001.jpeg\n",
            "/content/drive/My Drive/datasets/chest_xray/train/NORMAL/NORMAL2-IM-1002-0001.jpeg\n",
            "/content/drive/My Drive/datasets/chest_xray/train/NORMAL/NORMAL2-IM-0997-0001.jpeg\n",
            "/content/drive/My Drive/datasets/chest_xray/train/NORMAL/NORMAL2-IM-1006-0001.jpeg\n",
            "/content/drive/My Drive/datasets/chest_xray/train/NORMAL/NORMAL2-IM-0994-0001.jpeg\n",
            "/content/drive/My Drive/datasets/chest_xray/train/NORMAL/NORMAL2-IM-0986-0001.jpeg\n",
            "/content/drive/My Drive/datasets/chest_xray/train/NORMAL/NORMAL2-IM-0995-0001.jpeg\n",
            "/content/drive/My Drive/datasets/chest_xray/train/NORMAL/NORMAL2-IM-0995-0001-0002.jpeg\n",
            "/content/drive/My Drive/datasets/chest_xray/train/NORMAL/NORMAL2-IM-1044-0001.jpeg\n",
            "/content/drive/My Drive/datasets/chest_xray/train/NORMAL/NORMAL2-IM-1020-0001-0002.jpeg\n",
            "/content/drive/My Drive/datasets/chest_xray/train/NORMAL/NORMAL2-IM-1027-0001.jpeg\n",
            "/content/drive/My Drive/datasets/chest_xray/train/NORMAL/NORMAL2-IM-1038-0001.jpeg\n",
            "/content/drive/My Drive/datasets/chest_xray/train/NORMAL/NORMAL2-IM-1045-0001.jpeg\n",
            "/content/drive/My Drive/datasets/chest_xray/train/NORMAL/NORMAL2-IM-1047-0001.jpeg\n",
            "/content/drive/My Drive/datasets/chest_xray/train/NORMAL/NORMAL2-IM-1037-0001.jpeg\n",
            "/content/drive/My Drive/datasets/chest_xray/train/NORMAL/NORMAL2-IM-1040-0001.jpeg\n",
            "/content/drive/My Drive/datasets/chest_xray/train/NORMAL/NORMAL2-IM-1049-0001.jpeg\n",
            "/content/drive/My Drive/datasets/chest_xray/train/NORMAL/NORMAL2-IM-1028-0001.jpeg\n",
            "/content/drive/My Drive/datasets/chest_xray/train/NORMAL/NORMAL2-IM-1020-0001-0001.jpeg\n",
            "/content/drive/My Drive/datasets/chest_xray/train/NORMAL/NORMAL2-IM-1046-0001.jpeg\n",
            "/content/drive/My Drive/datasets/chest_xray/train/NORMAL/NORMAL2-IM-1026-0001.jpeg\n",
            "/content/drive/My Drive/datasets/chest_xray/train/NORMAL/NORMAL2-IM-1023-0001.jpeg\n",
            "/content/drive/My Drive/datasets/chest_xray/train/NORMAL/NORMAL2-IM-1035-0001.jpeg\n",
            "/content/drive/My Drive/datasets/chest_xray/train/NORMAL/NORMAL2-IM-1030-0001.jpeg\n",
            "/content/drive/My Drive/datasets/chest_xray/train/NORMAL/NORMAL2-IM-1041-0001.jpeg\n",
            "/content/drive/My Drive/datasets/chest_xray/train/NORMAL/NORMAL2-IM-1033-0001.jpeg\n",
            "/content/drive/My Drive/datasets/chest_xray/train/NORMAL/NORMAL2-IM-1019-0001.jpeg\n",
            "/content/drive/My Drive/datasets/chest_xray/train/NORMAL/NORMAL2-IM-1022-0001.jpeg\n",
            "/content/drive/My Drive/datasets/chest_xray/train/NORMAL/NORMAL2-IM-1025-0001.jpeg\n",
            "/content/drive/My Drive/datasets/chest_xray/train/NORMAL/NORMAL2-IM-1039-0001.jpeg\n",
            "/content/drive/My Drive/datasets/chest_xray/train/NORMAL/NORMAL2-IM-1048-0001.jpeg\n",
            "/content/drive/My Drive/datasets/chest_xray/train/NORMAL/NORMAL2-IM-1050-0001.jpeg\n",
            "/content/drive/My Drive/datasets/chest_xray/train/NORMAL/NORMAL2-IM-1024-0001.jpeg\n",
            "/content/drive/My Drive/datasets/chest_xray/train/NORMAL/NORMAL2-IM-1043-0001.jpeg\n",
            "/content/drive/My Drive/datasets/chest_xray/train/NORMAL/NORMAL2-IM-1020-0001.jpeg\n",
            "/content/drive/My Drive/datasets/chest_xray/train/NORMAL/NORMAL2-IM-1064-0001.jpeg\n",
            "/content/drive/My Drive/datasets/chest_xray/train/NORMAL/NORMAL2-IM-1102-0001-0001.jpeg\n",
            "/content/drive/My Drive/datasets/chest_xray/train/NORMAL/NORMAL2-IM-1086-0001.jpeg\n",
            "/content/drive/My Drive/datasets/chest_xray/train/NORMAL/NORMAL2-IM-1056-0001.jpeg\n",
            "/content/drive/My Drive/datasets/chest_xray/train/NORMAL/NORMAL2-IM-1094-0001-0001.jpeg\n",
            "/content/drive/My Drive/datasets/chest_xray/train/NORMAL/NORMAL2-IM-1058-0001.jpeg\n",
            "/content/drive/My Drive/datasets/chest_xray/train/NORMAL/NORMAL2-IM-1084-0001.jpeg\n",
            "/content/drive/My Drive/datasets/chest_xray/train/NORMAL/NORMAL2-IM-1102-0001-0002.jpeg\n",
            "/content/drive/My Drive/datasets/chest_xray/train/NORMAL/NORMAL2-IM-1053-0001.jpeg\n",
            "/content/drive/My Drive/datasets/chest_xray/train/NORMAL/NORMAL2-IM-1096-0001-0003.jpeg\n",
            "/content/drive/My Drive/datasets/chest_xray/train/NORMAL/NORMAL2-IM-1103-0001-0001.jpeg\n",
            "/content/drive/My Drive/datasets/chest_xray/train/NORMAL/NORMAL2-IM-1096-0001.jpeg\n",
            "/content/drive/My Drive/datasets/chest_xray/train/NORMAL/NORMAL2-IM-1067-0001.jpeg\n",
            "/content/drive/My Drive/datasets/chest_xray/train/NORMAL/NORMAL2-IM-1089-0001.jpeg\n",
            "/content/drive/My Drive/datasets/chest_xray/train/NORMAL/NORMAL2-IM-1052-0001.jpeg\n",
            "/content/drive/My Drive/datasets/chest_xray/train/NORMAL/NORMAL2-IM-1062-0001.jpeg\n",
            "/content/drive/My Drive/datasets/chest_xray/train/NORMAL/NORMAL2-IM-1098-0001.jpeg\n",
            "/content/drive/My Drive/datasets/chest_xray/train/NORMAL/NORMAL2-IM-1105-0001.jpeg\n",
            "/content/drive/My Drive/datasets/chest_xray/train/NORMAL/NORMAL2-IM-1094-0001.jpeg\n",
            "/content/drive/My Drive/datasets/chest_xray/train/NORMAL/NORMAL2-IM-1059-0001.jpeg\n",
            "/content/drive/My Drive/datasets/chest_xray/train/NORMAL/NORMAL2-IM-1073-0001.jpeg\n",
            "/content/drive/My Drive/datasets/chest_xray/train/NORMAL/NORMAL2-IM-1054-0001.jpeg\n",
            "/content/drive/My Drive/datasets/chest_xray/train/NORMAL/NORMAL2-IM-1088-0001.jpeg\n",
            "/content/drive/My Drive/datasets/chest_xray/train/NORMAL/NORMAL2-IM-1055-0001.jpeg\n",
            "/content/drive/My Drive/datasets/chest_xray/train/NORMAL/NORMAL2-IM-1093-0001.jpeg\n",
            "/content/drive/My Drive/datasets/chest_xray/train/NORMAL/NORMAL2-IM-1104-0001.jpeg\n",
            "/content/drive/My Drive/datasets/chest_xray/train/NORMAL/NORMAL2-IM-1051-0001.jpeg\n",
            "/content/drive/My Drive/datasets/chest_xray/train/NORMAL/NORMAL2-IM-1102-0001.jpeg\n",
            "/content/drive/My Drive/datasets/chest_xray/train/NORMAL/NORMAL2-IM-1094-0001-0002.jpeg\n",
            "/content/drive/My Drive/datasets/chest_xray/train/NORMAL/NORMAL2-IM-1060-0001.jpeg\n",
            "/content/drive/My Drive/datasets/chest_xray/train/NORMAL/NORMAL2-IM-1090-0001.jpeg\n",
            "/content/drive/My Drive/datasets/chest_xray/train/NORMAL/NORMAL2-IM-1067-0001-0001.jpeg\n",
            "/content/drive/My Drive/datasets/chest_xray/train/NORMAL/NORMAL2-IM-1096-0001-0001.jpeg\n",
            "/content/drive/My Drive/datasets/chest_xray/train/NORMAL/NORMAL2-IM-1091-0001.jpeg\n",
            "/content/drive/My Drive/datasets/chest_xray/train/NORMAL/NORMAL2-IM-1100-0001.jpeg\n",
            "/content/drive/My Drive/datasets/chest_xray/train/NORMAL/NORMAL2-IM-1120-0001.jpeg\n",
            "/content/drive/My Drive/datasets/chest_xray/train/NORMAL/NORMAL2-IM-1112-0001.jpeg\n",
            "/content/drive/My Drive/datasets/chest_xray/train/NORMAL/NORMAL2-IM-1116-0001-0001.jpeg\n",
            "/content/drive/My Drive/datasets/chest_xray/train/NORMAL/NORMAL2-IM-1128-0001.jpeg\n",
            "/content/drive/My Drive/datasets/chest_xray/train/NORMAL/NORMAL2-IM-1124-0001.jpeg\n",
            "/content/drive/My Drive/datasets/chest_xray/train/NORMAL/NORMAL2-IM-1134-0001.jpeg\n",
            "/content/drive/My Drive/datasets/chest_xray/train/NORMAL/NORMAL2-IM-1128-0001-0001.jpeg\n",
            "/content/drive/My Drive/datasets/chest_xray/train/NORMAL/NORMAL2-IM-1117-0001.jpeg\n",
            "/content/drive/My Drive/datasets/chest_xray/train/NORMAL/NORMAL2-IM-1132-0001.jpeg\n",
            "/content/drive/My Drive/datasets/chest_xray/train/NORMAL/NORMAL2-IM-1136-0001.jpeg\n",
            "/content/drive/My Drive/datasets/chest_xray/train/NORMAL/NORMAL2-IM-1125-0001.jpeg\n",
            "/content/drive/My Drive/datasets/chest_xray/train/NORMAL/NORMAL2-IM-1106-0001.jpeg\n",
            "/content/drive/My Drive/datasets/chest_xray/train/NORMAL/NORMAL2-IM-1122-0001.jpeg\n",
            "/content/drive/My Drive/datasets/chest_xray/train/NORMAL/NORMAL2-IM-1110-0001.jpeg\n",
            "/content/drive/My Drive/datasets/chest_xray/train/NORMAL/NORMAL2-IM-1128-0001-0002.jpeg\n",
            "/content/drive/My Drive/datasets/chest_xray/train/NORMAL/NORMAL2-IM-1116-0001-0002.jpeg\n",
            "/content/drive/My Drive/datasets/chest_xray/train/NORMAL/NORMAL2-IM-1108-0001.jpeg\n",
            "/content/drive/My Drive/datasets/chest_xray/train/NORMAL/NORMAL2-IM-1116-0001.jpeg\n",
            "/content/drive/My Drive/datasets/chest_xray/train/NORMAL/NORMAL2-IM-1109-0001.jpeg\n",
            "/content/drive/My Drive/datasets/chest_xray/train/NORMAL/NORMAL2-IM-1131-0001.jpeg\n",
            "/content/drive/My Drive/datasets/chest_xray/train/NORMAL/NORMAL2-IM-1127-0001.jpeg\n",
            "/content/drive/My Drive/datasets/chest_xray/train/NORMAL/NORMAL2-IM-1138-0001.jpeg\n",
            "/content/drive/My Drive/datasets/chest_xray/train/NORMAL/NORMAL2-IM-1113-0001.jpeg\n",
            "/content/drive/My Drive/datasets/chest_xray/train/NORMAL/NORMAL2-IM-1130-0001.jpeg\n",
            "/content/drive/My Drive/datasets/chest_xray/train/NORMAL/NORMAL2-IM-1111-0001.jpeg\n",
            "/content/drive/My Drive/datasets/chest_xray/train/NORMAL/NORMAL2-IM-1126-0001.jpeg\n",
            "/content/drive/My Drive/datasets/chest_xray/train/NORMAL/NORMAL2-IM-1135-0001.jpeg\n",
            "/content/drive/My Drive/datasets/chest_xray/train/NORMAL/NORMAL2-IM-1123-0001.jpeg\n",
            "/content/drive/My Drive/datasets/chest_xray/train/NORMAL/NORMAL2-IM-1114-0001.jpeg\n",
            "/content/drive/My Drive/datasets/chest_xray/train/NORMAL/NORMAL2-IM-1118-0001.jpeg\n",
            "/content/drive/My Drive/datasets/chest_xray/train/NORMAL/NORMAL2-IM-1141-0001.jpeg\n",
            "/content/drive/My Drive/datasets/chest_xray/train/NORMAL/NORMAL2-IM-1161-0001.jpeg\n",
            "/content/drive/My Drive/datasets/chest_xray/train/NORMAL/NORMAL2-IM-1169-0001.jpeg\n",
            "/content/drive/My Drive/datasets/chest_xray/train/NORMAL/NORMAL2-IM-1147-0001.jpeg\n",
            "/content/drive/My Drive/datasets/chest_xray/train/NORMAL/NORMAL2-IM-1150-0001.jpeg\n",
            "/content/drive/My Drive/datasets/chest_xray/train/NORMAL/NORMAL2-IM-1154-0001.jpeg\n",
            "/content/drive/My Drive/datasets/chest_xray/train/NORMAL/NORMAL2-IM-1149-0001.jpeg\n",
            "/content/drive/My Drive/datasets/chest_xray/train/NORMAL/NORMAL2-IM-1168-0001.jpeg\n",
            "/content/drive/My Drive/datasets/chest_xray/train/NORMAL/NORMAL2-IM-1148-0001.jpeg\n",
            "/content/drive/My Drive/datasets/chest_xray/train/NORMAL/NORMAL2-IM-1157-0001.jpeg\n",
            "/content/drive/My Drive/datasets/chest_xray/train/NORMAL/NORMAL2-IM-1170-0001.jpeg\n",
            "/content/drive/My Drive/datasets/chest_xray/train/NORMAL/NORMAL2-IM-1174-0001.jpeg\n",
            "/content/drive/My Drive/datasets/chest_xray/train/NORMAL/NORMAL2-IM-1162-0001.jpeg\n",
            "/content/drive/My Drive/datasets/chest_xray/train/NORMAL/NORMAL2-IM-1160-0001.jpeg\n",
            "/content/drive/My Drive/datasets/chest_xray/train/NORMAL/NORMAL2-IM-1173-0001.jpeg\n",
            "/content/drive/My Drive/datasets/chest_xray/train/NORMAL/NORMAL2-IM-1152-0001-0001.jpeg\n",
            "/content/drive/My Drive/datasets/chest_xray/train/NORMAL/NORMAL2-IM-1164-0001.jpeg\n",
            "/content/drive/My Drive/datasets/chest_xray/train/NORMAL/NORMAL2-IM-1155-0001.jpeg\n",
            "/content/drive/My Drive/datasets/chest_xray/train/NORMAL/NORMAL2-IM-1142-0001.jpeg\n",
            "/content/drive/My Drive/datasets/chest_xray/train/NORMAL/NORMAL2-IM-1142-0001-0002.jpeg\n",
            "/content/drive/My Drive/datasets/chest_xray/train/NORMAL/NORMAL2-IM-1154-0001-0002.jpeg\n",
            "/content/drive/My Drive/datasets/chest_xray/train/NORMAL/NORMAL2-IM-1145-0001.jpeg\n",
            "/content/drive/My Drive/datasets/chest_xray/train/NORMAL/NORMAL2-IM-1152-0001.jpeg\n",
            "/content/drive/My Drive/datasets/chest_xray/train/NORMAL/NORMAL2-IM-1158-0001.jpeg\n",
            "/content/drive/My Drive/datasets/chest_xray/train/NORMAL/NORMAL2-IM-1167-0001.jpeg\n",
            "/content/drive/My Drive/datasets/chest_xray/train/NORMAL/NORMAL2-IM-1144-0001.jpeg\n",
            "/content/drive/My Drive/datasets/chest_xray/train/NORMAL/NORMAL2-IM-1151-0001.jpeg\n",
            "/content/drive/My Drive/datasets/chest_xray/train/NORMAL/NORMAL2-IM-1171-0001.jpeg\n",
            "/content/drive/My Drive/datasets/chest_xray/train/NORMAL/NORMAL2-IM-1163-0001.jpeg\n",
            "/content/drive/My Drive/datasets/chest_xray/train/NORMAL/NORMAL2-IM-1153-0001.jpeg\n",
            "/content/drive/My Drive/datasets/chest_xray/train/NORMAL/NORMAL2-IM-1142-0001-0001.jpeg\n",
            "/content/drive/My Drive/datasets/chest_xray/train/NORMAL/NORMAL2-IM-1154-0001-0001.jpeg\n",
            "/content/drive/My Drive/datasets/chest_xray/train/NORMAL/NORMAL2-IM-1156-0001.jpeg\n",
            "/content/drive/My Drive/datasets/chest_xray/train/NORMAL/NORMAL2-IM-1152-0001-0002.jpeg\n",
            "/content/drive/My Drive/datasets/chest_xray/train/NORMAL/NORMAL2-IM-1204-0001.jpeg\n",
            "/content/drive/My Drive/datasets/chest_xray/train/NORMAL/NORMAL2-IM-1194-0001.jpeg\n",
            "/content/drive/My Drive/datasets/chest_xray/train/NORMAL/NORMAL2-IM-1180-0001.jpeg\n",
            "/content/drive/My Drive/datasets/chest_xray/train/NORMAL/NORMAL2-IM-1185-0001.jpeg\n",
            "/content/drive/My Drive/datasets/chest_xray/train/NORMAL/NORMAL2-IM-1188-0001.jpeg\n",
            "/content/drive/My Drive/datasets/chest_xray/train/NORMAL/NORMAL2-IM-1206-0001.jpeg\n",
            "/content/drive/My Drive/datasets/chest_xray/train/NORMAL/NORMAL2-IM-1184-0001.jpeg\n",
            "/content/drive/My Drive/datasets/chest_xray/train/NORMAL/NORMAL2-IM-1201-0001.jpeg\n",
            "/content/drive/My Drive/datasets/chest_xray/train/NORMAL/NORMAL2-IM-1176-0001.jpeg\n",
            "/content/drive/My Drive/datasets/chest_xray/train/NORMAL/NORMAL2-IM-1197-0001.jpeg\n",
            "/content/drive/My Drive/datasets/chest_xray/train/NORMAL/NORMAL2-IM-1182-0001.jpeg\n",
            "/content/drive/My Drive/datasets/chest_xray/train/NORMAL/NORMAL2-IM-1200-0001.jpeg\n",
            "/content/drive/My Drive/datasets/chest_xray/train/NORMAL/NORMAL2-IM-1191-0001.jpeg\n",
            "/content/drive/My Drive/datasets/chest_xray/train/NORMAL/NORMAL2-IM-1205-0001.jpeg\n",
            "/content/drive/My Drive/datasets/chest_xray/train/NORMAL/NORMAL2-IM-1175-0001.jpeg\n",
            "/content/drive/My Drive/datasets/chest_xray/train/NORMAL/NORMAL2-IM-1178-0001.jpeg\n",
            "/content/drive/My Drive/datasets/chest_xray/train/NORMAL/NORMAL2-IM-1179-0001.jpeg\n",
            "/content/drive/My Drive/datasets/chest_xray/train/NORMAL/NORMAL2-IM-1183-0001.jpeg\n",
            "/content/drive/My Drive/datasets/chest_xray/train/NORMAL/NORMAL2-IM-1187-0001.jpeg\n",
            "/content/drive/My Drive/datasets/chest_xray/train/NORMAL/NORMAL2-IM-1190-0001.jpeg\n",
            "/content/drive/My Drive/datasets/chest_xray/train/NORMAL/NORMAL2-IM-1209-0001.jpeg\n",
            "/content/drive/My Drive/datasets/chest_xray/train/NORMAL/NORMAL2-IM-1219-0001.jpeg\n",
            "/content/drive/My Drive/datasets/chest_xray/train/NORMAL/NORMAL2-IM-1181-0001.jpeg\n",
            "/content/drive/My Drive/datasets/chest_xray/train/NORMAL/NORMAL2-IM-1177-0001.jpeg\n",
            "/content/drive/My Drive/datasets/chest_xray/train/NORMAL/NORMAL2-IM-1198-0001.jpeg\n",
            "/content/drive/My Drive/datasets/chest_xray/train/NORMAL/NORMAL2-IM-1203-0001.jpeg\n",
            "/content/drive/My Drive/datasets/chest_xray/train/NORMAL/NORMAL2-IM-1192-0001.jpeg\n",
            "/content/drive/My Drive/datasets/chest_xray/train/NORMAL/NORMAL2-IM-1214-0001.jpeg\n",
            "/content/drive/My Drive/datasets/chest_xray/train/NORMAL/NORMAL2-IM-1189-0001.jpeg\n",
            "/content/drive/My Drive/datasets/chest_xray/train/NORMAL/NORMAL2-IM-1202-0001.jpeg\n",
            "/content/drive/My Drive/datasets/chest_xray/train/NORMAL/NORMAL2-IM-1218-0001.jpeg\n",
            "/content/drive/My Drive/datasets/chest_xray/train/NORMAL/NORMAL2-IM-1196-0001.jpeg\n",
            "/content/drive/My Drive/datasets/chest_xray/train/NORMAL/NORMAL2-IM-1252-0001.jpeg\n",
            "/content/drive/My Drive/datasets/chest_xray/train/NORMAL/NORMAL2-IM-1257-0001.jpeg\n",
            "/content/drive/My Drive/datasets/chest_xray/train/NORMAL/NORMAL2-IM-1244-0001.jpeg\n",
            "/content/drive/My Drive/datasets/chest_xray/train/NORMAL/NORMAL2-IM-1245-0001.jpeg\n",
            "/content/drive/My Drive/datasets/chest_xray/train/NORMAL/NORMAL2-IM-1223-0001.jpeg\n",
            "/content/drive/My Drive/datasets/chest_xray/train/NORMAL/NORMAL2-IM-1260-0001.jpeg\n",
            "/content/drive/My Drive/datasets/chest_xray/train/NORMAL/NORMAL2-IM-1227-0001.jpeg\n",
            "/content/drive/My Drive/datasets/chest_xray/train/NORMAL/NORMAL2-IM-1220-0001.jpeg\n",
            "/content/drive/My Drive/datasets/chest_xray/train/NORMAL/NORMAL2-IM-1253-0001.jpeg\n",
            "/content/drive/My Drive/datasets/chest_xray/train/NORMAL/NORMAL2-IM-1225-0001.jpeg\n",
            "/content/drive/My Drive/datasets/chest_xray/train/NORMAL/NORMAL2-IM-1243-0001.jpeg\n",
            "/content/drive/My Drive/datasets/chest_xray/train/NORMAL/NORMAL2-IM-1254-0001.jpeg\n",
            "/content/drive/My Drive/datasets/chest_xray/train/NORMAL/NORMAL2-IM-1228-0001.jpeg\n",
            "/content/drive/My Drive/datasets/chest_xray/train/NORMAL/NORMAL2-IM-1221-0001.jpeg\n",
            "/content/drive/My Drive/datasets/chest_xray/train/NORMAL/NORMAL2-IM-1256-0001.jpeg\n",
            "/content/drive/My Drive/datasets/chest_xray/train/NORMAL/NORMAL2-IM-1222-0001.jpeg\n",
            "/content/drive/My Drive/datasets/chest_xray/train/NORMAL/NORMAL2-IM-1247-0001.jpeg\n",
            "/content/drive/My Drive/datasets/chest_xray/train/NORMAL/NORMAL2-IM-1258-0001-0001.jpeg\n",
            "/content/drive/My Drive/datasets/chest_xray/train/NORMAL/NORMAL2-IM-1234-0001.jpeg\n",
            "/content/drive/My Drive/datasets/chest_xray/train/NORMAL/NORMAL2-IM-1236-0001.jpeg\n",
            "/content/drive/My Drive/datasets/chest_xray/train/NORMAL/NORMAL2-IM-1241-0001.jpeg\n",
            "/content/drive/My Drive/datasets/chest_xray/train/NORMAL/NORMAL2-IM-1237-0001.jpeg\n",
            "/content/drive/My Drive/datasets/chest_xray/train/NORMAL/NORMAL2-IM-1226-0001.jpeg\n",
            "/content/drive/My Drive/datasets/chest_xray/train/NORMAL/NORMAL2-IM-1224-0001.jpeg\n",
            "/content/drive/My Drive/datasets/chest_xray/train/NORMAL/NORMAL2-IM-1242-0001.jpeg\n",
            "/content/drive/My Drive/datasets/chest_xray/train/NORMAL/NORMAL2-IM-1258-0001-0002.jpeg\n",
            "/content/drive/My Drive/datasets/chest_xray/train/NORMAL/NORMAL2-IM-1231-0001.jpeg\n",
            "/content/drive/My Drive/datasets/chest_xray/train/NORMAL/NORMAL2-IM-1240-0001.jpeg\n",
            "/content/drive/My Drive/datasets/chest_xray/train/NORMAL/NORMAL2-IM-1232-0001.jpeg\n",
            "/content/drive/My Drive/datasets/chest_xray/train/NORMAL/NORMAL2-IM-1258-0001.jpeg\n",
            "/content/drive/My Drive/datasets/chest_xray/train/NORMAL/NORMAL2-IM-1250-0001.jpeg\n",
            "/content/drive/My Drive/datasets/chest_xray/train/NORMAL/NORMAL2-IM-1272-0001.jpeg\n",
            "/content/drive/My Drive/datasets/chest_xray/train/NORMAL/NORMAL2-IM-1282-0001.jpeg\n",
            "/content/drive/My Drive/datasets/chest_xray/train/NORMAL/NORMAL2-IM-1277-0001-0001.jpeg\n",
            "/content/drive/My Drive/datasets/chest_xray/train/NORMAL/NORMAL2-IM-1273-0001.jpeg\n",
            "/content/drive/My Drive/datasets/chest_xray/train/NORMAL/NORMAL2-IM-1266-0001-0001.jpeg\n",
            "/content/drive/My Drive/datasets/chest_xray/train/NORMAL/NORMAL2-IM-1281-0001.jpeg\n",
            "/content/drive/My Drive/datasets/chest_xray/train/NORMAL/NORMAL2-IM-1266-0001-0002.jpeg\n",
            "/content/drive/My Drive/datasets/chest_xray/train/NORMAL/NORMAL2-IM-1262-0001.jpeg\n",
            "/content/drive/My Drive/datasets/chest_xray/train/NORMAL/NORMAL2-IM-1289-0001.jpeg\n",
            "/content/drive/My Drive/datasets/chest_xray/train/NORMAL/NORMAL2-IM-1278-0001.jpeg\n",
            "/content/drive/My Drive/datasets/chest_xray/train/NORMAL/NORMAL2-IM-1290-0001.jpeg\n",
            "/content/drive/My Drive/datasets/chest_xray/train/NORMAL/NORMAL2-IM-1292-0001.jpeg\n",
            "/content/drive/My Drive/datasets/chest_xray/train/NORMAL/NORMAL2-IM-1279-0001.jpeg\n",
            "/content/drive/My Drive/datasets/chest_xray/train/NORMAL/NORMAL2-IM-1277-0001-0002.jpeg\n",
            "/content/drive/My Drive/datasets/chest_xray/train/NORMAL/NORMAL2-IM-1261-0001.jpeg\n",
            "/content/drive/My Drive/datasets/chest_xray/train/NORMAL/NORMAL2-IM-1264-0001.jpeg\n",
            "/content/drive/My Drive/datasets/chest_xray/train/NORMAL/NORMAL2-IM-1267-0001.jpeg\n",
            "/content/drive/My Drive/datasets/chest_xray/train/NORMAL/NORMAL2-IM-1269-0001-0002.jpeg\n",
            "/content/drive/My Drive/datasets/chest_xray/train/NORMAL/NORMAL2-IM-1277-0001.jpeg\n",
            "/content/drive/My Drive/datasets/chest_xray/train/NORMAL/NORMAL2-IM-1274-0001.jpeg\n",
            "/content/drive/My Drive/datasets/chest_xray/train/NORMAL/NORMAL2-IM-1286-0001.jpeg\n",
            "/content/drive/My Drive/datasets/chest_xray/train/NORMAL/NORMAL2-IM-1271-0001.jpeg\n",
            "/content/drive/My Drive/datasets/chest_xray/train/NORMAL/NORMAL2-IM-1280-0001.jpeg\n",
            "/content/drive/My Drive/datasets/chest_xray/train/NORMAL/NORMAL2-IM-1270-0001.jpeg\n",
            "/content/drive/My Drive/datasets/chest_xray/train/NORMAL/NORMAL2-IM-1266-0001.jpeg\n",
            "/content/drive/My Drive/datasets/chest_xray/train/NORMAL/NORMAL2-IM-1285-0001.jpeg\n",
            "/content/drive/My Drive/datasets/chest_xray/train/NORMAL/NORMAL2-IM-1276-0001.jpeg\n",
            "/content/drive/My Drive/datasets/chest_xray/train/NORMAL/NORMAL2-IM-1269-0001.jpeg\n",
            "/content/drive/My Drive/datasets/chest_xray/train/NORMAL/NORMAL2-IM-1287-0001.jpeg\n",
            "/content/drive/My Drive/datasets/chest_xray/train/NORMAL/NORMAL2-IM-1269-0001-0001.jpeg\n",
            "/content/drive/My Drive/datasets/chest_xray/train/NORMAL/NORMAL2-IM-1288-0001.jpeg\n",
            "/content/drive/My Drive/datasets/chest_xray/train/NORMAL/NORMAL2-IM-1275-0001.jpeg\n",
            "/content/drive/My Drive/datasets/chest_xray/train/NORMAL/NORMAL2-IM-1291-0001.jpeg\n",
            "/content/drive/My Drive/datasets/chest_xray/train/NORMAL/NORMAL2-IM-1293-0001.jpeg\n",
            "/content/drive/My Drive/datasets/chest_xray/train/NORMAL/NORMAL2-IM-1320-0001.jpeg\n",
            "/content/drive/My Drive/datasets/chest_xray/train/NORMAL/NORMAL2-IM-1328-0001.jpeg\n",
            "/content/drive/My Drive/datasets/chest_xray/train/NORMAL/NORMAL2-IM-1330-0001.jpeg\n",
            "/content/drive/My Drive/datasets/chest_xray/train/NORMAL/NORMAL2-IM-1308-0001.jpeg\n",
            "/content/drive/My Drive/datasets/chest_xray/train/NORMAL/NORMAL2-IM-1318-0001.jpeg\n",
            "/content/drive/My Drive/datasets/chest_xray/train/NORMAL/NORMAL2-IM-1295-0001.jpeg\n",
            "/content/drive/My Drive/datasets/chest_xray/train/NORMAL/NORMAL2-IM-1296-0001.jpeg\n",
            "/content/drive/My Drive/datasets/chest_xray/train/NORMAL/NORMAL2-IM-1294-0001-0001.jpeg\n",
            "/content/drive/My Drive/datasets/chest_xray/train/NORMAL/NORMAL2-IM-1311-0001.jpeg\n",
            "/content/drive/My Drive/datasets/chest_xray/train/NORMAL/NORMAL2-IM-1307-0001.jpeg\n",
            "/content/drive/My Drive/datasets/chest_xray/train/NORMAL/NORMAL2-IM-1323-0001.jpeg\n",
            "/content/drive/My Drive/datasets/chest_xray/train/NORMAL/NORMAL2-IM-1300-0001.jpeg\n",
            "/content/drive/My Drive/datasets/chest_xray/train/NORMAL/NORMAL2-IM-1315-0001.jpeg\n",
            "/content/drive/My Drive/datasets/chest_xray/train/NORMAL/NORMAL2-IM-1305-0001.jpeg\n",
            "/content/drive/My Drive/datasets/chest_xray/train/NORMAL/NORMAL2-IM-1301-0001.jpeg\n",
            "/content/drive/My Drive/datasets/chest_xray/train/NORMAL/NORMAL2-IM-1314-0001.jpeg\n",
            "/content/drive/My Drive/datasets/chest_xray/train/NORMAL/NORMAL2-IM-1321-0001.jpeg\n",
            "/content/drive/My Drive/datasets/chest_xray/train/NORMAL/NORMAL2-IM-1322-0001.jpeg\n",
            "/content/drive/My Drive/datasets/chest_xray/train/NORMAL/NORMAL2-IM-1327-0001.jpeg\n",
            "/content/drive/My Drive/datasets/chest_xray/train/NORMAL/NORMAL2-IM-1294-0001.jpeg\n",
            "/content/drive/My Drive/datasets/chest_xray/train/NORMAL/NORMAL2-IM-1294-0001-0002.jpeg\n",
            "/content/drive/My Drive/datasets/chest_xray/train/NORMAL/NORMAL2-IM-1303-0001.jpeg\n",
            "/content/drive/My Drive/datasets/chest_xray/train/NORMAL/NORMAL2-IM-1319-0001.jpeg\n",
            "/content/drive/My Drive/datasets/chest_xray/train/NORMAL/NORMAL2-IM-1326-0001.jpeg\n",
            "/content/drive/My Drive/datasets/chest_xray/train/NORMAL/NORMAL2-IM-1329-0001.jpeg\n",
            "/content/drive/My Drive/datasets/chest_xray/train/NORMAL/NORMAL2-IM-1310-0001.jpeg\n",
            "/content/drive/My Drive/datasets/chest_xray/train/NORMAL/NORMAL2-IM-1306-0001.jpeg\n",
            "/content/drive/My Drive/datasets/chest_xray/train/NORMAL/NORMAL2-IM-1317-0001.jpeg\n",
            "/content/drive/My Drive/datasets/chest_xray/train/NORMAL/NORMAL2-IM-1316-0001.jpeg\n",
            "/content/drive/My Drive/datasets/chest_xray/train/NORMAL/NORMAL2-IM-1304-0001.jpeg\n",
            "/content/drive/My Drive/datasets/chest_xray/train/NORMAL/NORMAL2-IM-1332-0001.jpeg\n",
            "/content/drive/My Drive/datasets/chest_xray/train/NORMAL/NORMAL2-IM-1302-0001.jpeg\n",
            "/content/drive/My Drive/datasets/chest_xray/train/NORMAL/NORMAL2-IM-1423-0001.jpeg\n",
            "/content/drive/My Drive/datasets/chest_xray/train/NORMAL/NORMAL2-IM-1371-0001.jpeg\n",
            "/content/drive/My Drive/datasets/chest_xray/train/NORMAL/NORMAL2-IM-1349-0001.jpeg\n",
            "/content/drive/My Drive/datasets/chest_xray/train/NORMAL/NORMAL2-IM-1336-0001.jpeg\n",
            "/content/drive/My Drive/datasets/chest_xray/train/NORMAL/NORMAL2-IM-1412-0001.jpeg\n",
            "/content/drive/My Drive/datasets/chest_xray/train/NORMAL/NORMAL2-IM-1338-0001.jpeg\n",
            "/content/drive/My Drive/datasets/chest_xray/train/NORMAL/NORMAL2-IM-1365-0001.jpeg\n",
            "/content/drive/My Drive/datasets/chest_xray/train/NORMAL/NORMAL2-IM-1346-0001.jpeg\n",
            "/content/drive/My Drive/datasets/chest_xray/train/NORMAL/NORMAL2-IM-1342-0001.jpeg\n",
            "/content/drive/My Drive/datasets/chest_xray/train/NORMAL/NORMAL2-IM-1351-0001.jpeg\n",
            "/content/drive/My Drive/datasets/chest_xray/train/NORMAL/NORMAL2-IM-1345-0001-0001.jpeg\n",
            "/content/drive/My Drive/datasets/chest_xray/train/NORMAL/NORMAL2-IM-1400-0001.jpeg\n",
            "/content/drive/My Drive/datasets/chest_xray/train/NORMAL/NORMAL2-IM-1348-0001.jpeg\n",
            "/content/drive/My Drive/datasets/chest_xray/train/NORMAL/NORMAL2-IM-1333-0001.jpeg\n",
            "/content/drive/My Drive/datasets/chest_xray/train/NORMAL/NORMAL2-IM-1337-0001.jpeg\n",
            "/content/drive/My Drive/datasets/chest_xray/train/NORMAL/NORMAL2-IM-1357-0001.jpeg\n",
            "/content/drive/My Drive/datasets/chest_xray/train/NORMAL/NORMAL2-IM-1376-0001.jpeg\n",
            "/content/drive/My Drive/datasets/chest_xray/train/NORMAL/NORMAL2-IM-1356-0001.jpeg\n",
            "/content/drive/My Drive/datasets/chest_xray/train/NORMAL/NORMAL2-IM-1341-0001.jpeg\n",
            "/content/drive/My Drive/datasets/chest_xray/train/NORMAL/NORMAL2-IM-1406-0001.jpeg\n",
            "/content/drive/My Drive/datasets/chest_xray/train/NORMAL/NORMAL2-IM-1334-0001.jpeg\n",
            "/content/drive/My Drive/datasets/chest_xray/train/NORMAL/NORMAL2-IM-1360-0001.jpeg\n",
            "/content/drive/My Drive/datasets/chest_xray/train/NORMAL/NORMAL2-IM-1362-0001.jpeg\n",
            "/content/drive/My Drive/datasets/chest_xray/train/NORMAL/NORMAL2-IM-1385-0001.jpeg\n",
            "/content/drive/My Drive/datasets/chest_xray/train/NORMAL/NORMAL2-IM-1345-0001.jpeg\n",
            "/content/drive/My Drive/datasets/chest_xray/train/NORMAL/NORMAL2-IM-1396-0001.jpeg\n",
            "/content/drive/My Drive/datasets/chest_xray/train/NORMAL/NORMAL2-IM-1343-0001.jpeg\n",
            "/content/drive/My Drive/datasets/chest_xray/train/NORMAL/NORMAL2-IM-1345-0001-0002.jpeg\n",
            "/content/drive/My Drive/datasets/chest_xray/train/NORMAL/NORMAL2-IM-1335-0001.jpeg\n",
            "/content/drive/My Drive/datasets/chest_xray/train/NORMAL/NORMAL2-IM-1379-0001.jpeg\n",
            "/content/drive/My Drive/datasets/chest_xray/train/NORMAL/NORMAL2-IM-1350-0001.jpeg\n",
            "/content/drive/My Drive/datasets/chest_xray/train/NORMAL/NORMAL2-IM-1401-0001.jpeg\n",
            "/content/drive/My Drive/datasets/chest_xray/train/NORMAL/NORMAL2-IM-1347-0001.jpeg\n",
            "/content/drive/My Drive/datasets/chest_xray/train/NORMAL/NORMAL2-IM-1422-0001.jpeg\n",
            "/content/drive/My Drive/datasets/chest_xray/train/NORMAL/NORMAL2-IM-1419-0001.jpeg\n",
            "/content/drive/My Drive/datasets/chest_xray/train/NORMAL/NORMAL2-IM-1344-0001.jpeg\n",
            "/content/drive/My Drive/datasets/chest_xray/train/NORMAL/IM-0162-0001.jpeg\n",
            "/content/drive/My Drive/datasets/chest_xray/train/NORMAL/IM-0164-0001.jpeg\n",
            "/content/drive/My Drive/datasets/chest_xray/train/NORMAL/IM-0166-0001.jpeg\n",
            "/content/drive/My Drive/datasets/chest_xray/train/NORMAL/IM-0170-0001.jpeg\n",
            "/content/drive/My Drive/datasets/chest_xray/train/NORMAL/IM-0168-0001.jpeg\n",
            "/content/drive/My Drive/datasets/chest_xray/train/NORMAL/IM-0201-0001.jpeg\n",
            "/content/drive/My Drive/datasets/chest_xray/train/NORMAL/IM-0211-0001.jpeg\n",
            "/content/drive/My Drive/datasets/chest_xray/train/NORMAL/IM-0185-0001.jpeg\n",
            "/content/drive/My Drive/datasets/chest_xray/train/NORMAL/IM-0207-0001.jpeg\n",
            "/content/drive/My Drive/datasets/chest_xray/train/NORMAL/IM-0203-0001.jpeg\n",
            "/content/drive/My Drive/datasets/chest_xray/train/NORMAL/IM-0189-0001.jpeg\n",
            "/content/drive/My Drive/datasets/chest_xray/train/NORMAL/IM-0213-0001.jpeg\n",
            "/content/drive/My Drive/datasets/chest_xray/train/NORMAL/IM-0214-0001.jpeg\n",
            "/content/drive/My Drive/datasets/chest_xray/train/NORMAL/IM-0182-0001.jpeg\n",
            "/content/drive/My Drive/datasets/chest_xray/train/NORMAL/IM-0225-0001.jpeg\n",
            "/content/drive/My Drive/datasets/chest_xray/train/NORMAL/IM-0206-0001.jpeg\n",
            "/content/drive/My Drive/datasets/chest_xray/train/NORMAL/IM-0210-0001.jpeg\n",
            "/content/drive/My Drive/datasets/chest_xray/train/NORMAL/IM-0224-0001.jpeg\n",
            "/content/drive/My Drive/datasets/chest_xray/train/NORMAL/IM-0220-0001.jpeg\n",
            "/content/drive/My Drive/datasets/chest_xray/train/NORMAL/IM-0187-0001.jpeg\n",
            "/content/drive/My Drive/datasets/chest_xray/train/NORMAL/IM-0178-0001.jpeg\n",
            "/content/drive/My Drive/datasets/chest_xray/train/NORMAL/IM-0195-0001.jpeg\n",
            "/content/drive/My Drive/datasets/chest_xray/train/NORMAL/IM-0216-0001.jpeg\n",
            "/content/drive/My Drive/datasets/chest_xray/train/NORMAL/IM-0209-0001.jpeg\n",
            "/content/drive/My Drive/datasets/chest_xray/train/NORMAL/IM-0218-0001.jpeg\n",
            "/content/drive/My Drive/datasets/chest_xray/train/NORMAL/IM-0176-0001.jpeg\n",
            "/content/drive/My Drive/datasets/chest_xray/train/NORMAL/IM-0193-0001.jpeg\n",
            "/content/drive/My Drive/datasets/chest_xray/train/NORMAL/IM-0177-0001.jpeg\n",
            "/content/drive/My Drive/datasets/chest_xray/train/NORMAL/IM-0199-0001.jpeg\n",
            "/content/drive/My Drive/datasets/chest_xray/train/NORMAL/IM-0172-0001.jpeg\n",
            "/content/drive/My Drive/datasets/chest_xray/train/NORMAL/IM-0223-0001.jpeg\n",
            "/content/drive/My Drive/datasets/chest_xray/train/NORMAL/IM-0183-0001.jpeg\n",
            "/content/drive/My Drive/datasets/chest_xray/train/NORMAL/IM-0221-0001.jpeg\n",
            "/content/drive/My Drive/datasets/chest_xray/train/NORMAL/IM-0180-0001.jpeg\n",
            "/content/drive/My Drive/datasets/chest_xray/train/NORMAL/IM-0217-0001.jpeg\n",
            "/content/drive/My Drive/datasets/chest_xray/train/NORMAL/IM-0215-0001.jpeg\n",
            "/content/drive/My Drive/datasets/chest_xray/train/NORMAL/IM-0222-0001.jpeg\n",
            "/content/drive/My Drive/datasets/chest_xray/train/NORMAL/IM-0191-0001.jpeg\n",
            "/content/drive/My Drive/datasets/chest_xray/train/NORMAL/IM-0219-0001.jpeg\n",
            "/content/drive/My Drive/datasets/chest_xray/train/NORMAL/IM-0205-0001.jpeg\n",
            "/content/drive/My Drive/datasets/chest_xray/train/NORMAL/IM-0229-0001.jpeg\n",
            "/content/drive/My Drive/datasets/chest_xray/train/NORMAL/IM-0236-0001.jpeg\n",
            "/content/drive/My Drive/datasets/chest_xray/train/NORMAL/IM-0240-0001.jpeg\n",
            "/content/drive/My Drive/datasets/chest_xray/train/NORMAL/IM-0248-0001.jpeg\n",
            "/content/drive/My Drive/datasets/chest_xray/train/NORMAL/IM-0231-0001.jpeg\n",
            "/content/drive/My Drive/datasets/chest_xray/train/NORMAL/IM-0272-0001.jpeg\n",
            "/content/drive/My Drive/datasets/chest_xray/train/NORMAL/IM-0230-0001.jpeg\n",
            "/content/drive/My Drive/datasets/chest_xray/train/NORMAL/IM-0249-0001.jpeg\n",
            "/content/drive/My Drive/datasets/chest_xray/train/NORMAL/IM-0250-0001.jpeg\n",
            "/content/drive/My Drive/datasets/chest_xray/train/NORMAL/IM-0243-0001.jpeg\n",
            "/content/drive/My Drive/datasets/chest_xray/train/NORMAL/IM-0274-0001.jpeg\n",
            "/content/drive/My Drive/datasets/chest_xray/train/NORMAL/IM-0273-0001.jpeg\n",
            "/content/drive/My Drive/datasets/chest_xray/train/NORMAL/IM-0238-0001.jpeg\n",
            "/content/drive/My Drive/datasets/chest_xray/train/NORMAL/IM-0255-0001.jpeg\n",
            "/content/drive/My Drive/datasets/chest_xray/train/NORMAL/IM-0228-0001.jpeg\n",
            "/content/drive/My Drive/datasets/chest_xray/train/NORMAL/IM-0234-0001.jpeg\n",
            "/content/drive/My Drive/datasets/chest_xray/train/NORMAL/IM-0242-0001.jpeg\n",
            "/content/drive/My Drive/datasets/chest_xray/train/NORMAL/IM-0251-0001.jpeg\n",
            "/content/drive/My Drive/datasets/chest_xray/train/NORMAL/IM-0253-0001.jpeg\n",
            "/content/drive/My Drive/datasets/chest_xray/train/NORMAL/IM-0276-0001.jpeg\n",
            "/content/drive/My Drive/datasets/chest_xray/train/NORMAL/IM-0237-0001.jpeg\n",
            "/content/drive/My Drive/datasets/chest_xray/train/NORMAL/IM-0262-0001.jpeg\n",
            "/content/drive/My Drive/datasets/chest_xray/train/NORMAL/IM-0245-0001.jpeg\n",
            "/content/drive/My Drive/datasets/chest_xray/train/NORMAL/IM-0265-0001.jpeg\n",
            "/content/drive/My Drive/datasets/chest_xray/train/NORMAL/IM-0266-0001.jpeg\n",
            "/content/drive/My Drive/datasets/chest_xray/train/NORMAL/IM-0268-0001.jpeg\n",
            "/content/drive/My Drive/datasets/chest_xray/train/NORMAL/IM-0235-0001.jpeg\n",
            "/content/drive/My Drive/datasets/chest_xray/train/NORMAL/IM-0226-0001.jpeg\n",
            "/content/drive/My Drive/datasets/chest_xray/train/NORMAL/IM-0264-0001.jpeg\n",
            "/content/drive/My Drive/datasets/chest_xray/train/NORMAL/IM-0275-0001.jpeg\n",
            "/content/drive/My Drive/datasets/chest_xray/train/NORMAL/IM-0241-0001.jpeg\n",
            "/content/drive/My Drive/datasets/chest_xray/train/NORMAL/IM-0256-0001.jpeg\n",
            "/content/drive/My Drive/datasets/chest_xray/train/NORMAL/IM-0269-0001.jpeg\n",
            "/content/drive/My Drive/datasets/chest_xray/train/NORMAL/IM-0270-0001.jpeg\n",
            "/content/drive/My Drive/datasets/chest_xray/train/NORMAL/IM-0261-0001.jpeg\n",
            "/content/drive/My Drive/datasets/chest_xray/train/NORMAL/IM-0239-0001.jpeg\n",
            "/content/drive/My Drive/datasets/chest_xray/train/NORMAL/IM-0257-0001.jpeg\n",
            "/content/drive/My Drive/datasets/chest_xray/train/NORMAL/IM-0227-0001.jpeg\n",
            "/content/drive/My Drive/datasets/chest_xray/train/NORMAL/IM-0244-0001.jpeg\n",
            "/content/drive/My Drive/datasets/chest_xray/train/NORMAL/IM-0313-0001.jpeg\n",
            "/content/drive/My Drive/datasets/chest_xray/train/NORMAL/IM-0307-0001.jpeg\n",
            "/content/drive/My Drive/datasets/chest_xray/train/NORMAL/IM-0301-0001.jpeg\n",
            "/content/drive/My Drive/datasets/chest_xray/train/NORMAL/IM-0304-0001.jpeg\n",
            "/content/drive/My Drive/datasets/chest_xray/train/NORMAL/IM-0300-0001.jpeg\n",
            "/content/drive/My Drive/datasets/chest_xray/train/NORMAL/IM-0285-0001.jpeg\n",
            "/content/drive/My Drive/datasets/chest_xray/train/NORMAL/IM-0314-0001.jpeg\n",
            "/content/drive/My Drive/datasets/chest_xray/train/NORMAL/IM-0283-0001.jpeg\n",
            "/content/drive/My Drive/datasets/chest_xray/train/NORMAL/IM-0299-0001.jpeg\n",
            "/content/drive/My Drive/datasets/chest_xray/train/NORMAL/IM-0311-0001.jpeg\n",
            "/content/drive/My Drive/datasets/chest_xray/train/NORMAL/IM-0278-0001.jpeg\n",
            "/content/drive/My Drive/datasets/chest_xray/train/NORMAL/IM-0297-0001.jpeg\n",
            "/content/drive/My Drive/datasets/chest_xray/train/NORMAL/IM-0277-0001.jpeg\n",
            "/content/drive/My Drive/datasets/chest_xray/train/NORMAL/IM-0317-0001.jpeg\n",
            "/content/drive/My Drive/datasets/chest_xray/train/NORMAL/IM-0316-0001.jpeg\n",
            "/content/drive/My Drive/datasets/chest_xray/train/NORMAL/IM-0286-0001.jpeg\n",
            "/content/drive/My Drive/datasets/chest_xray/train/NORMAL/IM-0279-0001.jpeg\n",
            "/content/drive/My Drive/datasets/chest_xray/train/NORMAL/IM-0303-0001.jpeg\n",
            "/content/drive/My Drive/datasets/chest_xray/train/NORMAL/IM-0315-0001.jpeg\n",
            "/content/drive/My Drive/datasets/chest_xray/train/NORMAL/IM-0302-0001.jpeg\n",
            "/content/drive/My Drive/datasets/chest_xray/train/NORMAL/IM-0282-0001.jpeg\n",
            "/content/drive/My Drive/datasets/chest_xray/train/NORMAL/IM-0306-0001.jpeg\n",
            "/content/drive/My Drive/datasets/chest_xray/train/NORMAL/IM-0312-0001.jpeg\n",
            "/content/drive/My Drive/datasets/chest_xray/train/NORMAL/IM-0309-0001.jpeg\n",
            "/content/drive/My Drive/datasets/chest_xray/train/NORMAL/IM-0308-0001.jpeg\n",
            "/content/drive/My Drive/datasets/chest_xray/train/NORMAL/IM-0289-0001.jpeg\n",
            "/content/drive/My Drive/datasets/chest_xray/train/NORMAL/IM-0288-0001.jpeg\n",
            "/content/drive/My Drive/datasets/chest_xray/train/NORMAL/IM-0305-0001.jpeg\n",
            "/content/drive/My Drive/datasets/chest_xray/train/NORMAL/IM-0298-0001.jpeg\n",
            "/content/drive/My Drive/datasets/chest_xray/train/NORMAL/IM-0293-0001.jpeg\n",
            "/content/drive/My Drive/datasets/chest_xray/train/NORMAL/IM-0318-0001.jpeg\n",
            "/content/drive/My Drive/datasets/chest_xray/train/NORMAL/IM-0292-0001.jpeg\n",
            "/content/drive/My Drive/datasets/chest_xray/train/NORMAL/IM-0290-0001.jpeg\n",
            "/content/drive/My Drive/datasets/chest_xray/train/NORMAL/IM-0295-0001.jpeg\n",
            "/content/drive/My Drive/datasets/chest_xray/train/NORMAL/IM-0280-0001.jpeg\n",
            "/content/drive/My Drive/datasets/chest_xray/train/NORMAL/IM-0291-0001.jpeg\n",
            "/content/drive/My Drive/datasets/chest_xray/train/NORMAL/IM-0294-0001.jpeg\n",
            "/content/drive/My Drive/datasets/chest_xray/train/NORMAL/IM-0341-0001.jpeg\n",
            "/content/drive/My Drive/datasets/chest_xray/train/NORMAL/IM-0323-0001.jpeg\n",
            "/content/drive/My Drive/datasets/chest_xray/train/NORMAL/IM-0319-0001.jpeg\n",
            "/content/drive/My Drive/datasets/chest_xray/train/NORMAL/IM-0357-0001.jpeg\n",
            "/content/drive/My Drive/datasets/chest_xray/train/NORMAL/IM-0368-0001.jpeg\n",
            "/content/drive/My Drive/datasets/chest_xray/train/NORMAL/IM-0335-0001.jpeg\n",
            "/content/drive/My Drive/datasets/chest_xray/train/NORMAL/IM-0343-0001.jpeg\n",
            "/content/drive/My Drive/datasets/chest_xray/train/NORMAL/IM-0361-0001.jpeg\n",
            "/content/drive/My Drive/datasets/chest_xray/train/NORMAL/IM-0359-0001.jpeg\n",
            "/content/drive/My Drive/datasets/chest_xray/train/NORMAL/IM-0364-0001.jpeg\n",
            "/content/drive/My Drive/datasets/chest_xray/train/NORMAL/IM-0353-0001.jpeg\n",
            "/content/drive/My Drive/datasets/chest_xray/train/NORMAL/IM-0355-0001.jpeg\n",
            "/content/drive/My Drive/datasets/chest_xray/train/NORMAL/IM-0326-0001.jpeg\n",
            "/content/drive/My Drive/datasets/chest_xray/train/NORMAL/IM-0362-0001.jpeg\n",
            "/content/drive/My Drive/datasets/chest_xray/train/NORMAL/IM-0337-0001.jpeg\n",
            "/content/drive/My Drive/datasets/chest_xray/train/NORMAL/IM-0354-0001.jpeg\n",
            "/content/drive/My Drive/datasets/chest_xray/train/NORMAL/IM-0338-0001.jpeg\n",
            "/content/drive/My Drive/datasets/chest_xray/train/NORMAL/IM-0351-0001.jpeg\n",
            "/content/drive/My Drive/datasets/chest_xray/train/NORMAL/IM-0332-0001.jpeg\n",
            "/content/drive/My Drive/datasets/chest_xray/train/NORMAL/IM-0320-0001.jpeg\n",
            "/content/drive/My Drive/datasets/chest_xray/train/NORMAL/IM-0339-0001.jpeg\n",
            "/content/drive/My Drive/datasets/chest_xray/train/NORMAL/IM-0324-0001.jpeg\n",
            "/content/drive/My Drive/datasets/chest_xray/train/NORMAL/IM-0350-0001.jpeg\n",
            "/content/drive/My Drive/datasets/chest_xray/train/NORMAL/IM-0340-0001.jpeg\n",
            "/content/drive/My Drive/datasets/chest_xray/train/NORMAL/IM-0348-0001.jpeg\n",
            "/content/drive/My Drive/datasets/chest_xray/train/NORMAL/IM-0331-0001.jpeg\n",
            "/content/drive/My Drive/datasets/chest_xray/train/NORMAL/IM-0325-0001.jpeg\n",
            "/content/drive/My Drive/datasets/chest_xray/train/NORMAL/IM-0356-0001.jpeg\n",
            "/content/drive/My Drive/datasets/chest_xray/train/NORMAL/IM-0333-0001.jpeg\n",
            "/content/drive/My Drive/datasets/chest_xray/train/NORMAL/IM-0358-0001.jpeg\n",
            "/content/drive/My Drive/datasets/chest_xray/train/NORMAL/IM-0346-0001.jpeg\n",
            "/content/drive/My Drive/datasets/chest_xray/train/NORMAL/IM-0363-0001.jpeg\n",
            "/content/drive/My Drive/datasets/chest_xray/train/NORMAL/IM-0327-0001.jpeg\n",
            "/content/drive/My Drive/datasets/chest_xray/train/NORMAL/IM-0329-0001.jpeg\n",
            "/content/drive/My Drive/datasets/chest_xray/train/NORMAL/IM-0365-0001.jpeg\n",
            "/content/drive/My Drive/datasets/chest_xray/train/NORMAL/IM-0330-0001.jpeg\n",
            "/content/drive/My Drive/datasets/chest_xray/train/NORMAL/IM-0367-0001.jpeg\n",
            "/content/drive/My Drive/datasets/chest_xray/train/NORMAL/IM-0347-0001.jpeg\n",
            "/content/drive/My Drive/datasets/chest_xray/train/NORMAL/IM-0349-0001.jpeg\n",
            "/content/drive/My Drive/datasets/chest_xray/train/NORMAL/IM-0345-0001.jpeg\n",
            "/content/drive/My Drive/datasets/chest_xray/train/NORMAL/IM-0370-0001.jpeg\n",
            "/content/drive/My Drive/datasets/chest_xray/train/NORMAL/IM-0379-0001.jpeg\n",
            "/content/drive/My Drive/datasets/chest_xray/train/NORMAL/IM-0399-0001.jpeg\n",
            "/content/drive/My Drive/datasets/chest_xray/train/NORMAL/IM-0392-0001.jpeg\n",
            "/content/drive/My Drive/datasets/chest_xray/train/NORMAL/IM-0394-0001.jpeg\n",
            "/content/drive/My Drive/datasets/chest_xray/train/NORMAL/IM-0387-0001.jpeg\n",
            "/content/drive/My Drive/datasets/chest_xray/train/NORMAL/IM-0393-0001.jpeg\n",
            "/content/drive/My Drive/datasets/chest_xray/train/NORMAL/IM-0409-0001.jpeg\n",
            "/content/drive/My Drive/datasets/chest_xray/train/NORMAL/IM-0404-0001.jpeg\n",
            "/content/drive/My Drive/datasets/chest_xray/train/NORMAL/IM-0410-0001.jpeg\n",
            "/content/drive/My Drive/datasets/chest_xray/train/NORMAL/IM-0386-0001.jpeg\n",
            "/content/drive/My Drive/datasets/chest_xray/train/NORMAL/IM-0389-0001.jpeg\n",
            "/content/drive/My Drive/datasets/chest_xray/train/NORMAL/IM-0382-0001.jpeg\n",
            "/content/drive/My Drive/datasets/chest_xray/train/NORMAL/IM-0374-0001.jpeg\n",
            "/content/drive/My Drive/datasets/chest_xray/train/NORMAL/IM-0400-0001.jpeg\n",
            "/content/drive/My Drive/datasets/chest_xray/train/NORMAL/IM-0388-0001.jpeg\n",
            "/content/drive/My Drive/datasets/chest_xray/train/NORMAL/IM-0369-0001.jpeg\n",
            "/content/drive/My Drive/datasets/chest_xray/train/NORMAL/IM-0395-0001.jpeg\n",
            "/content/drive/My Drive/datasets/chest_xray/train/NORMAL/IM-0375-0001.jpeg\n",
            "/content/drive/My Drive/datasets/chest_xray/train/NORMAL/IM-0403-0001.jpeg\n",
            "/content/drive/My Drive/datasets/chest_xray/train/NORMAL/IM-0384-0001.jpeg\n",
            "/content/drive/My Drive/datasets/chest_xray/train/NORMAL/IM-0391-0001.jpeg\n",
            "/content/drive/My Drive/datasets/chest_xray/train/NORMAL/IM-0372-0001.jpeg\n",
            "/content/drive/My Drive/datasets/chest_xray/train/NORMAL/IM-0405-0001.jpeg\n",
            "/content/drive/My Drive/datasets/chest_xray/train/NORMAL/IM-0408-0001.jpeg\n",
            "/content/drive/My Drive/datasets/chest_xray/train/NORMAL/IM-0401-0001.jpeg\n",
            "/content/drive/My Drive/datasets/chest_xray/train/NORMAL/IM-0381-0001.jpeg\n",
            "/content/drive/My Drive/datasets/chest_xray/train/NORMAL/IM-0377-0001.jpeg\n",
            "/content/drive/My Drive/datasets/chest_xray/train/NORMAL/IM-0411-0001.jpeg\n",
            "/content/drive/My Drive/datasets/chest_xray/train/NORMAL/IM-0371-0001.jpeg\n",
            "/content/drive/My Drive/datasets/chest_xray/train/NORMAL/IM-0383-0001.jpeg\n",
            "/content/drive/My Drive/datasets/chest_xray/train/NORMAL/IM-0413-0001.jpeg\n",
            "/content/drive/My Drive/datasets/chest_xray/train/NORMAL/IM-0385-0001.jpeg\n",
            "/content/drive/My Drive/datasets/chest_xray/train/NORMAL/IM-0421-0001.jpeg\n",
            "/content/drive/My Drive/datasets/chest_xray/train/NORMAL/IM-0434-0001.jpeg\n",
            "/content/drive/My Drive/datasets/chest_xray/train/NORMAL/IM-0444-0001.jpeg\n",
            "/content/drive/My Drive/datasets/chest_xray/train/NORMAL/IM-0441-0001.jpeg\n",
            "/content/drive/My Drive/datasets/chest_xray/train/NORMAL/IM-0438-0001.jpeg\n",
            "/content/drive/My Drive/datasets/chest_xray/train/NORMAL/IM-0424-0001.jpeg\n",
            "/content/drive/My Drive/datasets/chest_xray/train/NORMAL/IM-0430-0001.jpeg\n",
            "/content/drive/My Drive/datasets/chest_xray/train/NORMAL/IM-0428-0001.jpeg\n",
            "/content/drive/My Drive/datasets/chest_xray/train/NORMAL/IM-0440-0001.jpeg\n",
            "/content/drive/My Drive/datasets/chest_xray/train/NORMAL/IM-0416-0001.jpeg\n",
            "/content/drive/My Drive/datasets/chest_xray/train/NORMAL/IM-0435-0001.jpeg\n",
            "/content/drive/My Drive/datasets/chest_xray/train/NORMAL/IM-0446-0001.jpeg\n",
            "/content/drive/My Drive/datasets/chest_xray/train/NORMAL/IM-0433-0001.jpeg\n",
            "/content/drive/My Drive/datasets/chest_xray/train/NORMAL/IM-0423-0001.jpeg\n",
            "/content/drive/My Drive/datasets/chest_xray/train/NORMAL/IM-0439-0001-0001.jpeg\n",
            "/content/drive/My Drive/datasets/chest_xray/train/NORMAL/IM-0419-0001.jpeg\n",
            "/content/drive/My Drive/datasets/chest_xray/train/NORMAL/IM-0437-0001.jpeg\n",
            "/content/drive/My Drive/datasets/chest_xray/train/NORMAL/IM-0420-0001.jpeg\n",
            "/content/drive/My Drive/datasets/chest_xray/train/NORMAL/IM-0437-0001-0001.jpeg\n",
            "/content/drive/My Drive/datasets/chest_xray/train/NORMAL/IM-0417-0001.jpeg\n",
            "/content/drive/My Drive/datasets/chest_xray/train/NORMAL/IM-0447-0001.jpeg\n",
            "/content/drive/My Drive/datasets/chest_xray/train/NORMAL/IM-0429-0001-0002.jpeg\n",
            "/content/drive/My Drive/datasets/chest_xray/train/NORMAL/IM-0427-0001.jpeg\n",
            "/content/drive/My Drive/datasets/chest_xray/train/NORMAL/IM-0425-0001.jpeg\n",
            "/content/drive/My Drive/datasets/chest_xray/train/NORMAL/IM-0437-0001-0002.jpeg\n",
            "/content/drive/My Drive/datasets/chest_xray/train/NORMAL/IM-0432-0001.jpeg\n",
            "/content/drive/My Drive/datasets/chest_xray/train/NORMAL/IM-0431-0001.jpeg\n",
            "/content/drive/My Drive/datasets/chest_xray/train/NORMAL/IM-0429-0001-0001.jpeg\n",
            "/content/drive/My Drive/datasets/chest_xray/train/NORMAL/IM-0445-0001.jpeg\n",
            "/content/drive/My Drive/datasets/chest_xray/train/NORMAL/IM-0414-0001.jpeg\n",
            "/content/drive/My Drive/datasets/chest_xray/train/NORMAL/IM-0439-0001.jpeg\n",
            "/content/drive/My Drive/datasets/chest_xray/train/NORMAL/IM-0439-0001-0002.jpeg\n",
            "/content/drive/My Drive/datasets/chest_xray/train/NORMAL/IM-0442-0001.jpeg\n",
            "/content/drive/My Drive/datasets/chest_xray/train/NORMAL/IM-0435-0001-0001.jpeg\n",
            "/content/drive/My Drive/datasets/chest_xray/train/NORMAL/IM-0429-0001.jpeg\n",
            "/content/drive/My Drive/datasets/chest_xray/train/NORMAL/IM-0452-0001.jpeg\n",
            "/content/drive/My Drive/datasets/chest_xray/train/NORMAL/IM-0475-0001.jpeg\n",
            "/content/drive/My Drive/datasets/chest_xray/train/NORMAL/IM-0474-0001.jpeg\n",
            "/content/drive/My Drive/datasets/chest_xray/train/NORMAL/IM-0450-0001.jpeg\n",
            "/content/drive/My Drive/datasets/chest_xray/train/NORMAL/IM-0460-0001.jpeg\n",
            "/content/drive/My Drive/datasets/chest_xray/train/NORMAL/IM-0464-0001.jpeg\n",
            "/content/drive/My Drive/datasets/chest_xray/train/NORMAL/IM-0471-0001.jpeg\n",
            "/content/drive/My Drive/datasets/chest_xray/train/NORMAL/IM-0477-0001.jpeg\n",
            "/content/drive/My Drive/datasets/chest_xray/train/NORMAL/IM-0472-0001.jpeg\n",
            "/content/drive/My Drive/datasets/chest_xray/train/NORMAL/IM-0451-0001.jpeg\n",
            "/content/drive/My Drive/datasets/chest_xray/train/NORMAL/IM-0461-0001.jpeg\n",
            "/content/drive/My Drive/datasets/chest_xray/train/NORMAL/IM-0448-0001.jpeg\n",
            "/content/drive/My Drive/datasets/chest_xray/train/NORMAL/IM-0457-0001.jpeg\n",
            "/content/drive/My Drive/datasets/chest_xray/train/NORMAL/IM-0466-0001.jpeg\n",
            "/content/drive/My Drive/datasets/chest_xray/train/NORMAL/IM-0467-0001-0001.jpeg\n",
            "/content/drive/My Drive/datasets/chest_xray/train/NORMAL/IM-0465-0001.jpeg\n",
            "/content/drive/My Drive/datasets/chest_xray/train/NORMAL/IM-0453-0001-0002.jpeg\n",
            "/content/drive/My Drive/datasets/chest_xray/train/NORMAL/IM-0480-0001.jpeg\n",
            "/content/drive/My Drive/datasets/chest_xray/train/NORMAL/IM-0469-0001.jpeg\n",
            "/content/drive/My Drive/datasets/chest_xray/train/NORMAL/IM-0476-0001.jpeg\n",
            "/content/drive/My Drive/datasets/chest_xray/train/NORMAL/IM-0449-0001.jpeg\n",
            "/content/drive/My Drive/datasets/chest_xray/train/NORMAL/IM-0453-0001.jpeg\n",
            "/content/drive/My Drive/datasets/chest_xray/train/NORMAL/IM-0473-0001.jpeg\n",
            "/content/drive/My Drive/datasets/chest_xray/train/NORMAL/IM-0463-0001.jpeg\n",
            "/content/drive/My Drive/datasets/chest_xray/train/NORMAL/IM-0456-0001.jpeg\n",
            "/content/drive/My Drive/datasets/chest_xray/train/NORMAL/IM-0467-0001.jpeg\n",
            "/content/drive/My Drive/datasets/chest_xray/train/NORMAL/IM-0467-0001-0002.jpeg\n",
            "/content/drive/My Drive/datasets/chest_xray/train/NORMAL/IM-0459-0001.jpeg\n",
            "/content/drive/My Drive/datasets/chest_xray/train/NORMAL/IM-0458-0001.jpeg\n",
            "/content/drive/My Drive/datasets/chest_xray/train/NORMAL/IM-0455-0001.jpeg\n",
            "/content/drive/My Drive/datasets/chest_xray/train/NORMAL/IM-0479-0001.jpeg\n",
            "/content/drive/My Drive/datasets/chest_xray/train/NORMAL/IM-0478-0001.jpeg\n",
            "/content/drive/My Drive/datasets/chest_xray/train/NORMAL/IM-0505-0001-0002.jpeg\n",
            "/content/drive/My Drive/datasets/chest_xray/train/NORMAL/IM-0491-0001.jpeg\n",
            "/content/drive/My Drive/datasets/chest_xray/train/NORMAL/IM-0482-0001.jpeg\n",
            "/content/drive/My Drive/datasets/chest_xray/train/NORMAL/IM-0504-0001.jpeg\n",
            "/content/drive/My Drive/datasets/chest_xray/train/NORMAL/IM-0497-0001-0001.jpeg\n",
            "/content/drive/My Drive/datasets/chest_xray/train/NORMAL/IM-0500-0001.jpeg\n",
            "/content/drive/My Drive/datasets/chest_xray/train/NORMAL/IM-0505-0001-0001.jpeg\n",
            "/content/drive/My Drive/datasets/chest_xray/train/NORMAL/IM-0501-0001-0002.jpeg\n",
            "/content/drive/My Drive/datasets/chest_xray/train/NORMAL/IM-0491-0001-0002.jpeg\n",
            "/content/drive/My Drive/datasets/chest_xray/train/NORMAL/IM-0496-0001.jpeg\n",
            "/content/drive/My Drive/datasets/chest_xray/train/NORMAL/IM-0506-0001.jpeg\n",
            "/content/drive/My Drive/datasets/chest_xray/train/NORMAL/IM-0505-0001.jpeg\n",
            "/content/drive/My Drive/datasets/chest_xray/train/NORMAL/IM-0497-0001-0002.jpeg\n",
            "/content/drive/My Drive/datasets/chest_xray/train/NORMAL/IM-0489-0001.jpeg\n",
            "/content/drive/My Drive/datasets/chest_xray/train/NORMAL/IM-0507-0001.jpeg\n",
            "/content/drive/My Drive/datasets/chest_xray/train/NORMAL/IM-0481-0001.jpeg\n",
            "/content/drive/My Drive/datasets/chest_xray/train/NORMAL/IM-0492-0001.jpeg\n",
            "/content/drive/My Drive/datasets/chest_xray/train/NORMAL/IM-0499-0001-0002.jpeg\n",
            "/content/drive/My Drive/datasets/chest_xray/train/NORMAL/IM-0491-0001-0001.jpeg\n",
            "/content/drive/My Drive/datasets/chest_xray/train/NORMAL/IM-0497-0001.jpeg\n",
            "/content/drive/My Drive/datasets/chest_xray/train/NORMAL/IM-0493-0001.jpeg\n",
            "/content/drive/My Drive/datasets/chest_xray/train/NORMAL/IM-0499-0001.jpeg\n",
            "/content/drive/My Drive/datasets/chest_xray/train/NORMAL/IM-0484-0001.jpeg\n",
            "/content/drive/My Drive/datasets/chest_xray/train/NORMAL/IM-0502-0001.jpeg\n",
            "/content/drive/My Drive/datasets/chest_xray/train/NORMAL/IM-0483-0001.jpeg\n",
            "/content/drive/My Drive/datasets/chest_xray/train/NORMAL/IM-0501-0001-0001.jpeg\n",
            "/content/drive/My Drive/datasets/chest_xray/train/NORMAL/IM-0495-0001.jpeg\n",
            "/content/drive/My Drive/datasets/chest_xray/train/NORMAL/IM-0499-0001-0001.jpeg\n",
            "/content/drive/My Drive/datasets/chest_xray/train/NORMAL/IM-0501-0001.jpeg\n",
            "/content/drive/My Drive/datasets/chest_xray/train/NORMAL/IM-0494-0001.jpeg\n",
            "/content/drive/My Drive/datasets/chest_xray/train/NORMAL/IM-0486-0001.jpeg\n",
            "/content/drive/My Drive/datasets/chest_xray/train/NORMAL/IM-0503-0001.jpeg\n",
            "/content/drive/My Drive/datasets/chest_xray/train/NORMAL/IM-0488-0001.jpeg\n",
            "/content/drive/My Drive/datasets/chest_xray/train/NORMAL/IM-0487-0001.jpeg\n",
            "/content/drive/My Drive/datasets/chest_xray/train/NORMAL/IM-0490-0001.jpeg\n",
            "/content/drive/My Drive/datasets/chest_xray/train/NORMAL/IM-0485-0001.jpeg\n",
            "/content/drive/My Drive/datasets/chest_xray/train/NORMAL/IM-0515-0001.jpeg\n",
            "/content/drive/My Drive/datasets/chest_xray/train/NORMAL/IM-0526-0001.jpeg\n",
            "/content/drive/My Drive/datasets/chest_xray/train/NORMAL/IM-0519-0001-0002.jpeg\n",
            "/content/drive/My Drive/datasets/chest_xray/train/NORMAL/IM-0510-0001.jpeg\n",
            "/content/drive/My Drive/datasets/chest_xray/train/NORMAL/IM-0511-0001.jpeg\n",
            "/content/drive/My Drive/datasets/chest_xray/train/NORMAL/IM-0517-0001.jpeg\n",
            "/content/drive/My Drive/datasets/chest_xray/train/NORMAL/IM-0508-0001.jpeg\n",
            "/content/drive/My Drive/datasets/chest_xray/train/NORMAL/IM-0516-0001.jpeg\n",
            "/content/drive/My Drive/datasets/chest_xray/train/NORMAL/IM-0527-0001.jpeg\n",
            "/content/drive/My Drive/datasets/chest_xray/train/NORMAL/IM-0512-0001.jpeg\n",
            "/content/drive/My Drive/datasets/chest_xray/train/NORMAL/IM-0511-0001-0001.jpeg\n",
            "/content/drive/My Drive/datasets/chest_xray/train/NORMAL/IM-0520-0001.jpeg\n",
            "/content/drive/My Drive/datasets/chest_xray/train/NORMAL/IM-0519-0001.jpeg\n",
            "/content/drive/My Drive/datasets/chest_xray/train/NORMAL/IM-0521-0001.jpeg\n",
            "/content/drive/My Drive/datasets/chest_xray/train/NORMAL/IM-0511-0001-0002.jpeg\n",
            "/content/drive/My Drive/datasets/chest_xray/train/NORMAL/IM-0522-0001.jpeg\n",
            "/content/drive/My Drive/datasets/chest_xray/train/NORMAL/IM-0530-0001.jpeg\n",
            "/content/drive/My Drive/datasets/chest_xray/train/NORMAL/IM-0528-0001.jpeg\n",
            "/content/drive/My Drive/datasets/chest_xray/train/NORMAL/IM-0523-0001-0003.jpeg\n",
            "/content/drive/My Drive/datasets/chest_xray/train/NORMAL/IM-0517-0001-0001.jpeg\n",
            "/content/drive/My Drive/datasets/chest_xray/train/NORMAL/IM-0509-0001.jpeg\n",
            "/content/drive/My Drive/datasets/chest_xray/train/NORMAL/IM-0525-0001.jpeg\n",
            "/content/drive/My Drive/datasets/chest_xray/train/NORMAL/IM-0523-0001.jpeg\n",
            "/content/drive/My Drive/datasets/chest_xray/train/NORMAL/IM-0531-0001-0001.jpeg\n",
            "/content/drive/My Drive/datasets/chest_xray/train/NORMAL/IM-0514-0001.jpeg\n",
            "/content/drive/My Drive/datasets/chest_xray/train/NORMAL/.DS_Store\n",
            "/content/drive/My Drive/datasets/chest_xray/train/NORMAL/NORMAL_0_6216.jpeg\n",
            "/content/drive/My Drive/datasets/chest_xray/train/NORMAL/NORMAL_0_6114.jpeg\n",
            "/content/drive/My Drive/datasets/chest_xray/train/NORMAL/NORMAL_0_9470.jpeg\n",
            "/content/drive/My Drive/datasets/chest_xray/train/NORMAL/NORMAL_0_230.jpeg\n",
            "/content/drive/My Drive/datasets/chest_xray/train/NORMAL/NORMAL_0_5385.jpeg\n",
            "/content/drive/My Drive/datasets/chest_xray/train/NORMAL/NORMAL_0_5616.jpeg\n",
            "/content/drive/My Drive/datasets/chest_xray/train/NORMAL/NORMAL_0_3591.jpeg\n",
            "/content/drive/My Drive/datasets/chest_xray/train/NORMAL/NORMAL_0_3202.jpeg\n",
            "/content/drive/My Drive/datasets/chest_xray/train/NORMAL/NORMAL_0_5142.jpeg\n",
            "/content/drive/My Drive/datasets/chest_xray/train/NORMAL/NORMAL_0_3156.jpeg\n",
            "/content/drive/My Drive/datasets/chest_xray/train/NORMAL/NORMAL_0_7522.jpeg\n",
            "/content/drive/My Drive/datasets/chest_xray/train/NORMAL/NORMAL_0_186.jpeg\n",
            "/content/drive/My Drive/datasets/chest_xray/train/NORMAL/NORMAL_0_610.jpeg\n",
            "/content/drive/My Drive/datasets/chest_xray/train/NORMAL/NORMAL_0_1569.jpeg\n",
            "/content/drive/My Drive/datasets/chest_xray/train/NORMAL/NORMAL_0_2076.jpeg\n",
            "/content/drive/My Drive/datasets/chest_xray/train/NORMAL/NORMAL_0_2089.jpeg\n",
            "/content/drive/My Drive/datasets/chest_xray/train/NORMAL/NORMAL_0_6532.jpeg\n",
            "/content/drive/My Drive/datasets/chest_xray/train/NORMAL/NORMAL_0_1745.jpeg\n",
            "/content/drive/My Drive/datasets/chest_xray/train/NORMAL/NORMAL_0_2022.jpeg\n",
            "/content/drive/My Drive/datasets/chest_xray/train/NORMAL/NORMAL_0_526.jpeg\n",
            "/content/drive/My Drive/datasets/chest_xray/train/NORMAL/NORMAL_0_7906.jpeg\n",
            "/content/drive/My Drive/datasets/chest_xray/train/NORMAL/NORMAL_0_5618.jpeg\n",
            "/content/drive/My Drive/datasets/chest_xray/train/NORMAL/NORMAL_0_5631.jpeg\n",
            "/content/drive/My Drive/datasets/chest_xray/train/NORMAL/NORMAL_0_9740.jpeg\n",
            "1342\n"
          ],
          "name": "stdout"
        }
      ]
    },
    {
      "cell_type": "markdown",
      "metadata": {
        "id": "XHrXmWDrSGrw",
        "colab_type": "text"
      },
      "source": [
        "We are instatiating a ImageDataGenerator,to generate the new data,using the existing data,by applying some transformations like rotating the image randomly,flipping the image from left to right,zooming the image.This process is called **Data Augmentation**."
      ]
    },
    {
      "cell_type": "code",
      "metadata": {
        "id": "QxKbmGZb3PxU",
        "colab_type": "code",
        "colab": {}
      },
      "source": [
        "datagen=ImageDataGenerator( rotation_range=40,\n",
        "                       width_shift_range=0.2,\n",
        "                       horizontal_flip=True,\n",
        "                       height_shift_range=0.2,\n",
        "                       zoom_range=0.2)"
      ],
      "execution_count": null,
      "outputs": []
    },
    {
      "cell_type": "markdown",
      "metadata": {
        "id": "X-2WnMmyUMkV",
        "colab_type": "text"
      },
      "source": [
        "**datagen.flow()** method empowers us to apply data augmentation on every image,and saves the newly generated images in the mentioned directory,in the specified format by mentioning in the save_format argument.This process will take some time,So be patient.\n",
        "\n",
        "**NOTE:This step should be performed only once,If you do it multiple times(more than once),you would end up getting a completely imbalanced data**.**Because we** **are are storing the generated in the same parent(NORMAL) directory.**"
      ]
    },
    {
      "cell_type": "code",
      "metadata": {
        "colab_type": "code",
        "id": "_K1gsSBcvX8O",
        "colab": {
          "base_uri": "https://localhost:8080/",
          "height": 50
        },
        "outputId": "5eba6ee3-3820-484a-f8d0-62c46c988f41"
      },
      "source": [
        "count=0\n",
        "#The for is to loop through every every single image.\n",
        "\n",
        "for item in dir.iterdir():\n",
        "  i=0\n",
        "  try:                  #we are using \"try and except\" method,to load the image and apply data augmentation on it.\n",
        "    img=load_img(item)  #loads a image from the path mentioned\n",
        "    x=img_to_array(img) #converts the image in to multi-dimentional array.\n",
        "    x=x.reshape((1,) + x.shape) # reshapes in to the new dimention (1, shape of the image)\n",
        "\n",
        "    \n",
        "    #The .flow command below generates the batches of the randomly generated images and saves in the mentioned directory(We are storing in the same \"NORMAL\" directory of train data)\n",
        "    \n",
        "    for batch in datagen.flow(x,batch_size=1,save_to_dir='/content/drive/My Drive/datasets/chest_xray/train/NORMAL',save_prefix='NORMAL',save_format='jpeg' ):\n",
        "        i+=1\n",
        "        if(i==3):   #We are generating only 3 random images for every image\n",
        "          break     #Other wise the generator would loop infinetely for a single image.\n",
        "  except:\n",
        "    print('There was an error opening the image.')     #If we couldn't load the image then,we would get this error message displayed.\n",
        "  count+=1\n",
        "print(count)\n"
      ],
      "execution_count": null,
      "outputs": [
        {
          "output_type": "stream",
          "text": [
            "There was an error opening the image.\n",
            "1342\n"
          ],
          "name": "stdout"
        }
      ]
    },
    {
      "cell_type": "markdown",
      "metadata": {
        "id": "l1pV9vdzYjpr",
        "colab_type": "text"
      },
      "source": [
        "**Observing the data after data augmentation.Expecting a pretty balanced data.**"
      ]
    },
    {
      "cell_type": "code",
      "metadata": {
        "id": "TxH74jd4FQN4",
        "colab_type": "code",
        "colab": {
          "base_uri": "https://localhost:8080/",
          "height": 34
        },
        "outputId": "54bd1a79-f003-4e6c-fd01-bf84f51d0117"
      },
      "source": [
        "#We are using ImageDataGenerator to load and Preprocess the data.\n",
        "#Checking the Given data is balanced or not!!!\n",
        "gen=ImageDataGenerator(rescale=1./255)\n",
        "train_generator=gen.flow_from_directory('/content/drive/My Drive/datasets/chest_xray/train',\n",
        "                                        class_mode='binary',shuffle=False )"
      ],
      "execution_count": null,
      "outputs": [
        {
          "output_type": "stream",
          "text": [
            "Found 8555 images belonging to 2 classes.\n"
          ],
          "name": "stdout"
        }
      ]
    },
    {
      "cell_type": "code",
      "metadata": {
        "id": "qD5T9mvNR12K",
        "colab_type": "code",
        "colab": {
          "base_uri": "https://localhost:8080/",
          "height": 282
        },
        "outputId": "7d0116ec-8bc6-4fdf-aad7-ff3ff796fd29"
      },
      "source": [
        "x=[]\n",
        "for i in train_generator.labels:\n",
        "  if(i==0):\n",
        "    x.append('NORMAL')\n",
        "  else:\n",
        "    x.append('PNUEMONIA')\n",
        "    \n",
        "sns.countplot(x) #Visualising the proportion of images in each class of training data using seaborn countplot."
      ],
      "execution_count": null,
      "outputs": [
        {
          "output_type": "execute_result",
          "data": {
            "text/plain": [
              "<matplotlib.axes._subplots.AxesSubplot at 0x7fdb543e3710>"
            ]
          },
          "metadata": {
            "tags": []
          },
          "execution_count": 5
        },
        {
          "output_type": "display_data",
          "data": {
            "image/png": "[encoded data removed]",
            "text/plain": [
              "<Figure size 432x288 with 1 Axes>"
            ]
          },
          "metadata": {
            "tags": [],
            "needs_background": "light"
          }
        }
      ]
    },
    {
      "cell_type": "markdown",
      "metadata": {
        "id": "CNFjGcfWZPHS",
        "colab_type": "text"
      },
      "source": [
        "**Preprocesing the data**\n"
      ]
    },
    {
      "cell_type": "code",
      "metadata": {
        "id": "9YLTpGfhcfUv",
        "colab_type": "code",
        "colab": {
          "base_uri": "https://localhost:8080/",
          "height": 67
        },
        "outputId": "48b12a43-dbfc-4836-8813-6559b66bb932"
      },
      "source": [
        "gen_train=ImageDataGenerator( \n",
        "                       rescale=1./255,\n",
        "                       rotation_range=40,\n",
        "                       width_shift_range=0.2,\n",
        "                       horizontal_flip=True,\n",
        "                       height_shift_range=0.2,\n",
        "                       zoom_range=0.2)\n",
        "train_generator=gen_train.flow_from_directory('/content/drive/My Drive/datasets/chest_xray/train',\n",
        "                                        batch_size=32,\n",
        "                                        target_size=(300,300),      #Images have different shapes,for training purpose,we are reducing the size of all images to (300,300)\n",
        "                                        class_mode='binary',shuffle=True)\n",
        "val_generator=gen.flow_from_directory('/content/drive/My Drive/datasets/chest_xray/val',\n",
        "                                      target_size=(300,300),shuffle=False,\n",
        "                                      class_mode='binary')\n",
        "test_generator=gen.flow_from_directory('/content/drive/My Drive/datasets/chest_xray/test',\n",
        "                                       target_size=(300,300),shuffle=False,\n",
        "                                       class_mode='binary')"
      ],
      "execution_count": null,
      "outputs": [
        {
          "output_type": "stream",
          "text": [
            "Found 8555 images belonging to 2 classes.\n",
            "Found 16 images belonging to 2 classes.\n",
            "Found 624 images belonging to 2 classes.\n"
          ],
          "name": "stdout"
        }
      ]
    },
    {
      "cell_type": "markdown",
      "metadata": {
        "id": "gd2aXJbokmFF",
        "colab_type": "text"
      },
      "source": [
        "## **Building the Model**"
      ]
    },
    {
      "cell_type": "markdown",
      "metadata": {
        "id": "Mj6tJTCw62jy",
        "colab_type": "text"
      },
      "source": [
        "We are using a concept called [Transfer Learning](https://cs231n.github.io/transfer-learning/) .In tranfer learning we use a pre-trained model on very large dataset.Any model(classifier) consists of Feature extracter,followed by classifier built on top of it.So,we use a pre-trained model as a feature extracter and then we build our own classifier on top of it.In this model we are using [ResNet](https://keras.io/api/applications/resnet/#resnet152v2-function) as our feature extracter,which was trained on Imagenet dataset of 1000 different classes"
      ]
    },
    {
      "cell_type": "code",
      "metadata": {
        "id": "0Rwtd2dOc-Jj",
        "colab_type": "code",
        "colab": {}
      },
      "source": [
        "base_model=tf.keras.applications.ResNet152V2(include_top=False,weights='imagenet',input_shape=(300,300,3))\n",
        "\n",
        "#We make include_top=False,so that we get the only feature extracter part of the model.\n",
        "\n",
        "#We make weights='imagenet'.This is to load the weights associated while training on imagenet dataset.\n",
        "\n",
        "#We metion the input shape of the our dataset,using input_shape argument."
      ],
      "execution_count": null,
      "outputs": []
    },
    {
      "cell_type": "markdown",
      "metadata": {
        "id": "WzpCP9ZTA-vC",
        "colab_type": "text"
      },
      "source": [
        "**NOTE:**We don't have to train the base_model while training with our dataset.Because,its already trained on a very large dataset.So,we make base_model.trainable=**False**."
      ]
    },
    {
      "cell_type": "code",
      "metadata": {
        "id": "ZY0djFuJdGbd",
        "colab_type": "code",
        "colab": {}
      },
      "source": [
        "base_model.trainable=False"
      ],
      "execution_count": null,
      "outputs": []
    },
    {
      "cell_type": "markdown",
      "metadata": {
        "id": "pOYmG7Z_B2Vt",
        "colab_type": "text"
      },
      "source": [
        "**Building the classifier on top of the base_model.**"
      ]
    },
    {
      "cell_type": "code",
      "metadata": {
        "id": "oe-Nrym-dJXp",
        "colab_type": "code",
        "colab": {}
      },
      "source": [
        "model=models.Sequential([\n",
        "                         base_model,                           #base model,that we've discussed earlier.\n",
        "                         layers.GlobalAveragePooling2D(),      #Global pooling layer.\n",
        "                         layers.Dense(256,activation='relu'),  #Hidden dense layer with 256 nuerons.\n",
        "                         layers.Dense(256,activation='relu'),  #Hidden dense layer with 256 nuerons.\n",
        "                         layers.Dense(1,activation='sigmoid')  #Output layer with single nueron.One nueron is enough for binary classification problem.\n",
        "])"
      ],
      "execution_count": null,
      "outputs": []
    },
    {
      "cell_type": "markdown",
      "metadata": {
        "id": "RLRCNuYaCPA9",
        "colab_type": "text"
      },
      "source": [
        "**Summary of the model**"
      ]
    },
    {
      "cell_type": "code",
      "metadata": {
        "id": "BkOMO9azdLt1",
        "colab_type": "code",
        "colab": {
          "base_uri": "https://localhost:8080/",
          "height": 319
        },
        "outputId": "c5f64c60-5e45-4f91-853e-35c727889bb5"
      },
      "source": [
        "model.summary()     #Display's each and every layer's description,like no.of parameters and output shape of each layer."
      ],
      "execution_count": null,
      "outputs": [
        {
          "output_type": "stream",
          "text": [
            "Model: \"sequential_4\"\n",
            "_________________________________________________________________\n",
            "Layer (type)                 Output Shape              Param #   \n",
            "=================================================================\n",
            "resnet152v2 (Functional)     (None, 10, 10, 2048)      58331648  \n",
            "_________________________________________________________________\n",
            "global_average_pooling2d_4 ( (None, 2048)              0         \n",
            "_________________________________________________________________\n",
            "dense_12 (Dense)             (None, 256)               524544    \n",
            "_________________________________________________________________\n",
            "dense_13 (Dense)             (None, 256)               65792     \n",
            "_________________________________________________________________\n",
            "dense_14 (Dense)             (None, 1)                 257       \n",
            "=================================================================\n",
            "Total params: 58,922,241\n",
            "Trainable params: 590,593\n",
            "Non-trainable params: 58,331,648\n",
            "_________________________________________________________________\n"
          ],
          "name": "stdout"
        }
      ]
    },
    {
      "cell_type": "markdown",
      "metadata": {
        "id": "z3mG1LoCCTp9",
        "colab_type": "text"
      },
      "source": [
        "**Compiling the model**"
      ]
    },
    {
      "cell_type": "code",
      "metadata": {
        "id": "dWLH8QBzdPVQ",
        "colab_type": "code",
        "colab": {}
      },
      "source": [
        "model.compile(optimizer=RMSprop(0.0001),metrics=['accuracy'],loss='binary_crossentropy')\n",
        "\n",
        "#We are using RMSprop as our optimizer and using \"accuracy\" as a metric to evaluate the model performance.\n",
        "#We've taken learning rate=0.0001"
      ],
      "execution_count": null,
      "outputs": []
    },
    {
      "cell_type": "markdown",
      "metadata": {
        "id": "WNfCW7HXlDFc",
        "colab_type": "text"
      },
      "source": [
        "## **Fitting(training) the Model**"
      ]
    },
    {
      "cell_type": "markdown",
      "metadata": {
        "id": "4RQvxvTBC4OV",
        "colab_type": "text"
      },
      "source": [
        "To avoid the problem of overfitting and **unneccesary** training with no improvement,we use EarlyStopping method."
      ]
    },
    {
      "cell_type": "code",
      "metadata": {
        "colab_type": "code",
        "id": "ytLDTJMABkSt",
        "colab": {
          "base_uri": "https://localhost:8080/",
          "height": 790
        },
        "outputId": "b2f6ac7c-216d-41b4-f887-feb8b5fd6237"
      },
      "source": [
        "history=model.fit(train_generator,steps_per_epoch=100,verbose=1,validation_data=val_generator,epochs=100,callbacks=  [tf.keras.callbacks.EarlyStopping(monitor='val_loss', patience=3)])\n",
        "\n",
        "#We are monitoring validation loss.(Our,aim is to decrease the validation loss)\n",
        "\n",
        "#We mentioned patience=3.So,if there are 3 straight training epochs,with no decrease(improvement) in the validation loss,then training would come to an end."
      ],
      "execution_count": null,
      "outputs": [
        {
          "output_type": "stream",
          "text": [
            "Epoch 1/100\n",
            "100/100 [==============================] - 139s 1s/step - loss: 0.4277 - accuracy: 0.8168 - val_loss: 0.3611 - val_accuracy: 0.8750\n",
            "Epoch 2/100\n",
            "100/100 [==============================] - 130s 1s/step - loss: 0.2740 - accuracy: 0.8949 - val_loss: 0.3465 - val_accuracy: 0.8750\n",
            "Epoch 3/100\n",
            "100/100 [==============================] - 126s 1s/step - loss: 0.2209 - accuracy: 0.9169 - val_loss: 0.2369 - val_accuracy: 0.9375\n",
            "Epoch 4/100\n",
            "100/100 [==============================] - 128s 1s/step - loss: 0.1881 - accuracy: 0.9225 - val_loss: 0.2425 - val_accuracy: 0.8750\n",
            "Epoch 5/100\n",
            "100/100 [==============================] - 123s 1s/step - loss: 0.1722 - accuracy: 0.9360 - val_loss: 0.3454 - val_accuracy: 0.8125\n",
            "Epoch 6/100\n",
            "100/100 [==============================] - 125s 1s/step - loss: 0.1586 - accuracy: 0.9472 - val_loss: 0.1825 - val_accuracy: 0.9375\n",
            "Epoch 7/100\n",
            "100/100 [==============================] - 121s 1s/step - loss: 0.1792 - accuracy: 0.9381 - val_loss: 0.2385 - val_accuracy: 0.8750\n",
            "Epoch 8/100\n",
            "100/100 [==============================] - 118s 1s/step - loss: 0.1602 - accuracy: 0.9356 - val_loss: 0.2373 - val_accuracy: 0.8750\n",
            "Epoch 9/100\n",
            "100/100 [==============================] - 125s 1s/step - loss: 0.1550 - accuracy: 0.9456 - val_loss: 0.1696 - val_accuracy: 0.9375\n",
            "Epoch 10/100\n",
            "100/100 [==============================] - 117s 1s/step - loss: 0.1209 - accuracy: 0.9531 - val_loss: 0.3401 - val_accuracy: 0.8125\n",
            "Epoch 11/100\n",
            "100/100 [==============================] - 124s 1s/step - loss: 0.1265 - accuracy: 0.9525 - val_loss: 0.2439 - val_accuracy: 0.8750\n",
            "Epoch 12/100\n",
            "100/100 [==============================] - 120s 1s/step - loss: 0.1695 - accuracy: 0.9422 - val_loss: 0.1297 - val_accuracy: 1.0000\n",
            "Epoch 13/100\n",
            "100/100 [==============================] - 121s 1s/step - loss: 0.1446 - accuracy: 0.9508 - val_loss: 0.4166 - val_accuracy: 0.6875\n",
            "Epoch 14/100\n",
            "100/100 [==============================] - 124s 1s/step - loss: 0.1551 - accuracy: 0.9409 - val_loss: 0.1090 - val_accuracy: 1.0000\n",
            "Epoch 15/100\n",
            "100/100 [==============================] - 123s 1s/step - loss: 0.1391 - accuracy: 0.9497 - val_loss: 0.0967 - val_accuracy: 1.0000\n",
            "Epoch 16/100\n",
            "100/100 [==============================] - 122s 1s/step - loss: 0.1343 - accuracy: 0.9503 - val_loss: 0.1224 - val_accuracy: 1.0000\n",
            "Epoch 17/100\n",
            "100/100 [==============================] - 126s 1s/step - loss: 0.1303 - accuracy: 0.9567 - val_loss: 0.0965 - val_accuracy: 1.0000\n",
            "Epoch 18/100\n",
            "100/100 [==============================] - 122s 1s/step - loss: 0.1554 - accuracy: 0.9429 - val_loss: 0.0881 - val_accuracy: 1.0000\n",
            "Epoch 19/100\n",
            "100/100 [==============================] - 123s 1s/step - loss: 0.1114 - accuracy: 0.9578 - val_loss: 0.2821 - val_accuracy: 0.8125\n",
            "Epoch 20/100\n",
            "100/100 [==============================] - 123s 1s/step - loss: 0.1172 - accuracy: 0.9553 - val_loss: 0.0785 - val_accuracy: 1.0000\n",
            "Epoch 21/100\n",
            "100/100 [==============================] - 125s 1s/step - loss: 0.1192 - accuracy: 0.9534 - val_loss: 0.0975 - val_accuracy: 1.0000\n",
            "Epoch 22/100\n",
            "100/100 [==============================] - 122s 1s/step - loss: 0.1114 - accuracy: 0.9595 - val_loss: 0.1737 - val_accuracy: 0.9375\n",
            "Epoch 23/100\n",
            "100/100 [==============================] - 125s 1s/step - loss: 0.1032 - accuracy: 0.9573 - val_loss: 0.0922 - val_accuracy: 0.9375\n"
          ],
          "name": "stdout"
        }
      ]
    },
    {
      "cell_type": "markdown",
      "metadata": {
        "id": "r_3573vSmeju",
        "colab_type": "text"
      },
      "source": [
        "**Evaluating the model on test data**\n",
        "\n",
        "This is the final accuracy,our model has already seen train and validation data while training,but this is totally unseen data,this will help to figure out,how our would work when deployed in the real-world day-to-day application."
      ]
    },
    {
      "cell_type": "code",
      "metadata": {
        "colab_type": "code",
        "id": "VWf-_LNBOE2y",
        "colab": {
          "base_uri": "https://localhost:8080/",
          "height": 34
        },
        "outputId": "71428df9-7dcb-4502-bd48-81423f2d95b8"
      },
      "source": [
        "eval=new_model.evaluate(test_generator) #evaluating on test data"
      ],
      "execution_count": null,
      "outputs": [
        {
          "output_type": "stream",
          "text": [
            "20/20 [==============================] - 8s 413ms/step - loss: 0.1845 - accuracy: 0.9375\n"
          ],
          "name": "stdout"
        }
      ]
    },
    {
      "cell_type": "markdown",
      "metadata": {
        "id": "Ej7P02xrUP9c",
        "colab_type": "text"
      },
      "source": [
        "I've got an accuracy of **93.75%** on test data.You may not get the exact accuracy,because the weights are randomly initialized to the model while training.But you should get around **90%** accuracy on test data."
      ]
    },
    {
      "cell_type": "code",
      "metadata": {
        "colab_type": "code",
        "id": "q_7IzYxBN4vu",
        "colab": {
          "base_uri": "https://localhost:8080/",
          "height": 34
        },
        "outputId": "f1c76b71-82bb-4866-8fca-9cd7b00fdcff"
      },
      "source": [
        "print('Loss:{} and the Accuracy:{}%'.format(eval[0],eval[1]*100))"
      ],
      "execution_count": null,
      "outputs": [
        {
          "output_type": "stream",
          "text": [
            "Loss:0.18449623882770538 and the Accuracy:93.75%\n"
          ],
          "name": "stdout"
        }
      ]
    },
    {
      "cell_type": "markdown",
      "metadata": {
        "id": "m0d2aBEFmLcA",
        "colab_type": "text"
      },
      "source": [
        "**Loss and Accuracy plots of training and validation data**"
      ]
    },
    {
      "cell_type": "code",
      "metadata": {
        "colab_type": "code",
        "id": "FFAcnt-HCZoN",
        "colab": {
          "base_uri": "https://localhost:8080/",
          "height": 545
        },
        "outputId": "3397e2d0-f949-49de-e22a-667c3e2b4ecc"
      },
      "source": [
        "acc = history.history['accuracy']\n",
        "val_acc = history.history['val_accuracy']\n",
        "loss = history.history['loss']\n",
        "val_loss = history.history['val_loss']\n",
        "\n",
        "epochs = range(len(acc))\n",
        "\n",
        "plt.plot(epochs, acc, 'r', label='Training accuracy')\n",
        "plt.plot(epochs, val_acc, 'b', label='Validation accuracy')\n",
        "plt.title('Training and validation accuracy')\n",
        "\n",
        "plt.figure()\n",
        "\n",
        "plt.plot(epochs, loss, 'r', label='Training Loss')\n",
        "plt.plot(epochs, val_loss, 'b', label='Validation Loss')\n",
        "plt.title('Training and validation loss')\n",
        "plt.legend()\n",
        "\n",
        "plt.show()"
      ],
      "execution_count": null,
      "outputs": [
        {
          "output_type": "display_data",
          "data": {
            "image/png": "[encoded data removed]",
            "text/plain": [
              "<Figure size 432x288 with 1 Axes>"
            ]
          },
          "metadata": {
            "tags": [],
            "needs_background": "light"
          }
        },
        {
          "output_type": "display_data",
          "data": {
            "image/png": "[encoded data removed]",
            "text/plain": [
              "<Figure size 432x288 with 1 Axes>"
            ]
          },
          "metadata": {
            "tags": [],
            "needs_background": "light"
          }
        }
      ]
    },
    {
      "cell_type": "markdown",
      "metadata": {
        "colab_type": "text",
        "id": "42VqsIv3l7Jx"
      },
      "source": [
        "## **Confusion Matrix**"
      ]
    },
    {
      "cell_type": "code",
      "metadata": {
        "id": "21BSRVeJecpP",
        "colab_type": "code",
        "colab": {}
      },
      "source": [
        "y_true=test_generator.labels      #Test data labels "
      ],
      "execution_count": null,
      "outputs": []
    },
    {
      "cell_type": "code",
      "metadata": {
        "id": "9g2SiK1aefpf",
        "colab_type": "code",
        "colab": {}
      },
      "source": [
        "y_pred=model.predict_classes(test_generator)     #Predicting on test data with our newly trained model."
      ],
      "execution_count": null,
      "outputs": []
    },
    {
      "cell_type": "code",
      "metadata": {
        "id": "t5elAYvterrI",
        "colab_type": "code",
        "colab": {}
      },
      "source": [
        "y=confusion_matrix(y_true,y_pred)"
      ],
      "execution_count": null,
      "outputs": []
    },
    {
      "cell_type": "code",
      "metadata": {
        "colab_type": "code",
        "id": "75TNIPT6Lgcw",
        "colab": {
          "base_uri": "https://localhost:8080/",
          "height": 50
        },
        "outputId": "4012072d-af50-4492-f5b6-d6ae63e47cbd"
      },
      "source": [
        "y"
      ],
      "execution_count": null,
      "outputs": [
        {
          "output_type": "execute_result",
          "data": {
            "text/plain": [
              "array([[219,  15],\n",
              "       [ 24, 366]])"
            ]
          },
          "metadata": {
            "tags": []
          },
          "execution_count": 77
        }
      ]
    },
    {
      "cell_type": "code",
      "metadata": {
        "id": "0NDqV7t8RoJ_",
        "colab_type": "code",
        "colab": {}
      },
      "source": [
        "tn, fp, fn, tp = y.ravel()"
      ],
      "execution_count": null,
      "outputs": []
    },
    {
      "cell_type": "code",
      "metadata": {
        "id": "aE7RCMMuYhzw",
        "colab_type": "code",
        "colab": {
          "base_uri": "https://localhost:8080/",
          "height": 84
        },
        "outputId": "6c87e63e-4549-473e-ac7d-871633716d6a"
      },
      "source": [
        "print('True Negative:{}\\nFalse Positive:{}\\nFalse Negative:{}\\nTrue Positive:{}'.format(tn,fp,fn,tp))"
      ],
      "execution_count": null,
      "outputs": [
        {
          "output_type": "stream",
          "text": [
            "True Negative:219\n",
            "False Positive:15\n",
            "False Negative:24\n",
            "True Positive:366\n"
          ],
          "name": "stdout"
        }
      ]
    },
    {
      "cell_type": "markdown",
      "metadata": {
        "id": "L4kb60OkZiWD",
        "colab_type": "text"
      },
      "source": [
        "CONFUSION MATRIX\n",
        "\n",
        "![Confusion matrix](https://miro.medium.com/max/1106/1*vMEqRXTl8PRfRtgWgwUVEg.jpeg) \n",
        "\n",
        "In our classification problem,**Positive(1)** class is people with **PNEUMONIA** and the **Negative(0)** class is people **without PNEUMONIA** i.e normal condition.\n",
        "\n",
        "**True Positive(TP)**:Data actually belongs to **positive(1)** class and our model aslo predicts it as **positive(1)** class.\n",
        "\n",
        "**True Negative(TN)**:Data actually belongs to **negative(0)** class and our model aslo predicts it as **negative(0)** class.\n",
        "\n",
        "**False Positive(FP)**:Data actually belongs to **negative(0)** class,but our model predicts it as **positive(1)** class.So,it is an error.\n",
        "\n",
        "**False Negative(FN)**:Data actually belongs to **positive(1)** class,but our model predicts it as **negative(0)** class.So,it is also an error.\n",
        "\n",
        "**NOTE:**Confusin matrix is extremely helpful,to know how the model is working.We always must try to keep **False Negative(FN)** as low as possible especially in **medical** field.Because,\n",
        "\n",
        "Let's take an example,you bulit a model that predicts whether a person has cancer or not.(Positive:with cancer and Negative:without cancer)\n",
        "\n",
        "It's ok to tell a person you've tested **positive** for cancer,eventhough he doesn't really have cancer.(which is nothing but **False positive(FP)**).\n",
        "\n",
        "But it's terrible to tell a person you've tested **negative** for cancer,eventhough he really posses cancer in his body.Because,here we are decreasing the chances of him to get treated and get cured.(which is nothing but **False negative(FN)**)."
      ]
    },
    {
      "cell_type": "markdown",
      "metadata": {
        "id": "_RGQzcCuf6hb",
        "colab_type": "text"
      },
      "source": [
        "##**Complete Classification report**"
      ]
    },
    {
      "cell_type": "code",
      "metadata": {
        "id": "e03AghsMRJUK",
        "colab_type": "code",
        "colab": {
          "base_uri": "https://localhost:8080/",
          "height": 168
        },
        "outputId": "2d04630a-e745-4da4-b88b-ce889e361cfc"
      },
      "source": [
        "print(classification_report(y_true, y_pred, target_names = ['Normal  (Class 0)','Pneumonia(Class 1)']))"
      ],
      "execution_count": null,
      "outputs": [
        {
          "output_type": "stream",
          "text": [
            "                    precision    recall  f1-score   support\n",
            "\n",
            " Normal  (Class 0)       0.90      0.94      0.92       234\n",
            "Pneumonia(Class 1)       0.96      0.94      0.95       390\n",
            "\n",
            "          accuracy                           0.94       624\n",
            "         macro avg       0.93      0.94      0.93       624\n",
            "      weighted avg       0.94      0.94      0.94       624\n",
            "\n"
          ],
          "name": "stdout"
        }
      ]
    },
    {
      "cell_type": "markdown",
      "metadata": {
        "id": "1v95a8_sfX77",
        "colab_type": "text"
      },
      "source": [
        "## **Saving and Retrieving the model that we trained.**"
      ]
    },
    {
      "cell_type": "code",
      "metadata": {
        "id": "6tZKtZirfUhM",
        "colab_type": "code",
        "colab": {
          "base_uri": "https://localhost:8080/",
          "height": 34
        },
        "outputId": "c43e3b67-91c5-4a5f-fb6a-57731dcb8932"
      },
      "source": [
        "!mkdir -p saved_model                             #make a new directory to store your models.\n",
        "model.save('drive/My Drive/saved_model/my_model')  #Saving our model in the given directory,with the name as my_model"
      ],
      "execution_count": null,
      "outputs": [
        {
          "output_type": "stream",
          "text": [
            "INFO:tensorflow:Assets written to: drive/My Drive/saved_model/my_model/assets\n"
          ],
          "name": "stdout"
        }
      ]
    },
    {
      "cell_type": "code",
      "metadata": {
        "id": "LGsKQMxOn1po",
        "colab_type": "code",
        "colab": {}
      },
      "source": [
        "new_model=models.load_model('drive/My Drive/saved_model/my_model')  #retreiving the our saved model."
      ],
      "execution_count": null,
      "outputs": []
    },
    {
      "cell_type": "code",
      "metadata": {
        "id": "ufnIIyemoDPD",
        "colab_type": "code",
        "colab": {
          "base_uri": "https://localhost:8080/",
          "height": 319
        },
        "outputId": "dd0e3eb2-5689-4eb5-924b-fa4e7cc265bb"
      },
      "source": [
        "new_model.summary()"
      ],
      "execution_count": null,
      "outputs": [
        {
          "output_type": "stream",
          "text": [
            "Model: \"sequential_3\"\n",
            "_________________________________________________________________\n",
            "Layer (type)                 Output Shape              Param #   \n",
            "=================================================================\n",
            "resnet152v2 (Functional)     (None, 10, 10, 2048)      58331648  \n",
            "_________________________________________________________________\n",
            "global_average_pooling2d_3 ( (None, 2048)              0         \n",
            "_________________________________________________________________\n",
            "dense_9 (Dense)              (None, 256)               524544    \n",
            "_________________________________________________________________\n",
            "dense_10 (Dense)             (None, 256)               65792     \n",
            "_________________________________________________________________\n",
            "dense_11 (Dense)             (None, 1)                 257       \n",
            "=================================================================\n",
            "Total params: 58,922,241\n",
            "Trainable params: 58,778,497\n",
            "Non-trainable params: 143,744\n",
            "_________________________________________________________________\n"
          ],
          "name": "stdout"
        }
      ]
    },
    {
      "cell_type": "code",
      "metadata": {
        "id": "lpk9waXIoILM",
        "colab_type": "code",
        "colab": {
          "base_uri": "https://localhost:8080/",
          "height": 34
        },
        "outputId": "6625e38c-f110-4e27-dc1d-9566441a8832"
      },
      "source": [
        "eval=new_model.evaluate(test_generator) #evaluating on test data"
      ],
      "execution_count": null,
      "outputs": [
        {
          "output_type": "stream",
          "text": [
            "20/20 [==============================] - 9s 426ms/step - loss: 0.1845 - accuracy: 0.9375\n"
          ],
          "name": "stdout"
        }
      ]
    },
    {
      "cell_type": "code",
      "metadata": {
        "id": "sbF_WL7AM1fk",
        "colab_type": "code",
        "colab": {
          "base_uri": "https://localhost:8080/",
          "height": 34
        },
        "outputId": "6bf0723b-6f35-4744-dd77-a7acbb21c8e4"
      },
      "source": [
        "print('Loss:{} and the Accuracy:{}%'.format(eval[0],eval[1]*100))"
      ],
      "execution_count": null,
      "outputs": [
        {
          "output_type": "stream",
          "text": [
            "Loss:0.18449623882770538 and the Accuracy:93.75%\n"
          ],
          "name": "stdout"
        }
      ]
    }
  ]
}